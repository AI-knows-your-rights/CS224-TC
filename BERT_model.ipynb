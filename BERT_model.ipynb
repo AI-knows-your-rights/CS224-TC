{
 "cells": [
  {
   "attachments": {},
   "cell_type": "markdown",
   "metadata": {},
   "source": [
    "## BERT model:"
   ]
  },
  {
   "cell_type": "code",
   "execution_count": 1,
   "metadata": {},
   "outputs": [
    {
     "name": "stderr",
     "output_type": "stream",
     "text": [
      "/Users/benjaminward/opt/anaconda3/lib/python3.9/site-packages/pandas/core/computation/expressions.py:21: UserWarning: Pandas requires version '2.8.4' or newer of 'numexpr' (version '2.8.1' currently installed).\n",
      "  from pandas.core.computation.check import NUMEXPR_INSTALLED\n",
      "/Users/benjaminward/opt/anaconda3/lib/python3.9/site-packages/pandas/core/arrays/masked.py:60: UserWarning: Pandas requires version '1.3.6' or newer of 'bottleneck' (version '1.3.4' currently installed).\n",
      "  from pandas.core import (\n",
      "[nltk_data] Downloading package punkt to\n",
      "[nltk_data]     /Users/benjaminward/nltk_data...\n",
      "[nltk_data]   Package punkt is already up-to-date!\n"
     ]
    }
   ],
   "source": [
    "# For retrieving the clauses and labels.\n",
    "import os\n",
    "import json\n",
    "# For the duplicates\n",
    "from collections import defaultdict, Counter\n",
    "# For BERT\n",
    "import torch\n",
    "import numpy as np\n",
    "from datasets import load_dataset, Dataset\n",
    "from sklearn.model_selection import train_test_split\n",
    "from transformers import BertTokenizer, BertForSequenceClassification, Trainer, TrainingArguments, TrainerCallback\n",
    "from sklearn.metrics import accuracy_score, classification_report\n",
    "# For deduplication\n",
    "import nltk\n",
    "from nltk.util import ngrams\n",
    "from sklearn.feature_extraction.text import ENGLISH_STOP_WORDS\n",
    "nltk.download('punkt')\n",
    "# For metrics\n",
    "from sklearn.metrics import accuracy_score, precision_score, recall_score, f1_score\n",
    "# For plots \n",
    "import matplotlib.pyplot as plt"
   ]
  },
  {
   "attachments": {},
   "cell_type": "markdown",
   "metadata": {},
   "source": [
    "### 1. Extracting the individual clauses and labels"
   ]
  },
  {
   "attachments": {},
   "cell_type": "markdown",
   "metadata": {},
   "source": [
    "#### a. Data extraction"
   ]
  },
  {
   "cell_type": "code",
   "execution_count": 2,
   "metadata": {},
   "outputs": [
    {
     "name": "stdout",
     "output_type": "stream",
     "text": [
      "⚠️ WARNING: 'clauses' list is empty in 'RESEARCHCHEMAIAL SWITZERLAND/clauses.json'\n",
      "⚠️ WARNING: 'clauses' list is empty in 'Kink.com/clauses.json'\n",
      "\n",
      "✅ Extracted 14407 clause-rating pairs from the first two companies.\n",
      "\n",
      "('Instead of asking directly, this Service will assume your consent merely from your usage.', 'bad')\n",
      "('This service tracks which web page referred you to it', 'bad')\n",
      "('The service can sell or otherwise transfer your personal data as part of a bankruptcy proceeding or other type of financial transaction.', 'bad')\n",
      "('You must provide your legal name, pseudonyms are not allowed', 'bad')\n",
      "('This service employs third-party cookies, but with opt-out instructions', 'bad')\n"
     ]
    }
   ],
   "source": [
    "data_dir = \"data\"  # Data directory containing company folders\n",
    "clause_pairs = []\n",
    "\n",
    "# Step 1: Check if data directory exists\n",
    "if not os.path.exists(data_dir):\n",
    "    print(f\"❌ ERROR: Data directory '{data_dir}' does not exist.\")\n",
    "    exit()\n",
    "\n",
    "# Step 2: Initialize a counter for the companies\n",
    "company_counter = 0\n",
    "\n",
    "# Step 3: Loop through all company folders inside the data directory\n",
    "for company in os.listdir(data_dir):\n",
    "    company_path = os.path.join(data_dir, company)\n",
    "\n",
    "    # Check if it's a directory (company folder)\n",
    "    if os.path.isdir(company_path):\n",
    "        clause_file = os.path.join(company_path, \"clauses.json\")\n",
    "\n",
    "        # Step 4: Check if clauses.json exists\n",
    "        if not os.path.isfile(clause_file):\n",
    "            print(f\"❌ ERROR: 'clauses.json' not found in '{company}' folder\")\n",
    "            continue\n",
    "\n",
    "        try:\n",
    "            # Step 5: Check if clauses.json is valid JSON\n",
    "            with open(clause_file, \"r\", encoding=\"utf-8\") as f:\n",
    "                data = json.load(f)\n",
    "\n",
    "            # Step 6: Check if 'clauses' key exists\n",
    "            if \"clauses\" not in data:\n",
    "                print(f\"⚠️ WARNING: No 'clauses' key found in '{company}/clauses.json'\")\n",
    "                continue\n",
    "\n",
    "            clauses = data[\"clauses\"]\n",
    "            if not clauses:\n",
    "                print(f\"⚠️ WARNING: 'clauses' list is empty in '{company}/clauses.json'\")\n",
    "                continue\n",
    "\n",
    "            # Step 7: Extract (title, rating) pairs\n",
    "            for clause in clauses:\n",
    "                title = clause.get(\"title\", \"\").strip() if clause.get(\"title\") else \"\"\n",
    "                rating = clause.get(\"rating\", \"\").strip() if clause.get(\"rating\") else \"\"\n",
    "\n",
    "                if title and rating:\n",
    "                    clause_pairs.append((title, rating))\n",
    "                else:\n",
    "                    print(f\"⚠️ WARNING: Skipping a clause in '{company}' due to missing title or rating.\")\n",
    "        \n",
    "        except json.JSONDecodeError:\n",
    "            print(f\"❌ ERROR: Invalid JSON in '{company}/clauses.json'\")\n",
    "\n",
    "        # Step 8: Stop after the first 2 companies\n",
    "        company_counter += 1\n",
    "        if company_counter >= 900:\n",
    "            break  # Exit the loop after processing the first two companies\n",
    "\n",
    "# Final results\n",
    "print(f\"\\n✅ Extracted {len(clause_pairs)} clause-rating pairs from the first two companies.\\n\")\n",
    "for pair in clause_pairs[:5]:  # Print first 5 for checking\n",
    "    print(pair)\n"
   ]
  },
  {
   "attachments": {},
   "cell_type": "markdown",
   "metadata": {},
   "source": [
    "#### b. Duplicate analysis"
   ]
  },
  {
   "cell_type": "code",
   "execution_count": 3,
   "metadata": {},
   "outputs": [
    {
     "name": "stdout",
     "output_type": "stream",
     "text": [
      "⚠️ WARNING: 'clauses' list is empty in 'RESEARCHCHEMAIAL SWITZERLAND/clauses.json'\n",
      "⚠️ WARNING: 'clauses' list is empty in 'Kink.com/clauses.json'\n"
     ]
    }
   ],
   "source": [
    "clause_pairs = []  # Reset to include folder info\n",
    "\n",
    "# Step 3: Loop through all company folders inside the data directory\n",
    "for company in os.listdir(data_dir):\n",
    "    company_path = os.path.join(data_dir, company)\n",
    "\n",
    "    if os.path.isdir(company_path):\n",
    "        clause_file = os.path.join(company_path, \"clauses.json\")\n",
    "\n",
    "        if not os.path.isfile(clause_file):\n",
    "            print(f\"❌ ERROR: 'clauses.json' not found in '{company}' folder\")\n",
    "            continue\n",
    "\n",
    "        try:\n",
    "            with open(clause_file, \"r\", encoding=\"utf-8\") as f:\n",
    "                data = json.load(f)\n",
    "\n",
    "            if \"clauses\" not in data:\n",
    "                print(f\"⚠️ WARNING: No 'clauses' key found in '{company}/clauses.json'\")\n",
    "                continue\n",
    "\n",
    "            clauses = data[\"clauses\"]\n",
    "            if not clauses:\n",
    "                print(f\"⚠️ WARNING: 'clauses' list is empty in '{company}/clauses.json'\")\n",
    "                continue\n",
    "\n",
    "            # Store (title, rating, folder)\n",
    "            for clause in clauses:\n",
    "                title = clause.get(\"title\", \"\").strip() if clause.get(\"title\") else \"\"\n",
    "                rating = clause.get(\"rating\", \"\").strip() if clause.get(\"rating\") else \"\"\n",
    "\n",
    "                if title and rating:\n",
    "                    clause_pairs.append((title, rating, company))  # Store the folder name\n",
    "                else:\n",
    "                    print(f\"⚠️ WARNING: Skipping a clause in '{company}' due to missing title or rating.\")\n",
    "\n",
    "        except json.JSONDecodeError:\n",
    "            print(f\"❌ ERROR: Invalid JSON in '{company}/clauses.json'\")\n"
   ]
  },
  {
   "cell_type": "code",
   "execution_count": 4,
   "metadata": {},
   "outputs": [
    {
     "name": "stdout",
     "output_type": "stream",
     "text": [
      "\n",
      "🔍 Top 10 most duplicated clause-rating pairs:\n",
      "Clause: There is a date of the last update of the agreements\n",
      "Rating: neutral\n",
      "Occurrences: 198\n",
      "Found in folders: Roadtrip Nation, Mozilla Thunderbird, Privacy.com, Canvas, GeeksforGeeks, Yello, Vivaldi, Medium, Fedora, Opera, TubeBuddy, GlobaliD, Toggl Track, Gather Town, Elk.zone, Zoom Video Communications, ClassDojo, hCaptcha, WikiTree, Encyclopedia Britannica, Credit Karma, Replika, Malwarebytes, Skillshare, YNAB. (You Need a Budget), Open Collective, Microspot, Crain's Chicago Business, Authy (Twilio), Uber, Free, RethinkDNS, SpaceHey, Busuu, Jitsi, FreeTube, Jeuxvideo.com, Prisma Media, Represent, Xiaomi, Vercel, PayPal, NBC News, Guilded, Dark Reader, Lichess, Reddit, Translate, Zoho, Forbes, Audacity, Nextcloud, Nslookup, Notion, LBRY, Wish, Google, Weblate, Metager, Selfie2Anime, eBuddy, SpanishDict, MobyGames, kik-messenger, Gfycat, CNN, The Movie Database (TMDb), Speedtest by Ookla, F-List, Merriam-Webster, Bilibili, Fedora Email, Future PLC, Guiding Tech, Unity, Yahoo!, APK Pure, Linguee, Le Parisien, Calendly, TourOfCalifornia.org, Dropbox, Pinterest, Gettr, Eltiempo.es, Douban, Netflix, FairTec, Recipe Realm, Le Monde, DrugBank, OsmAnd, MuseScore, Washington Post, iFunny, Simitless, Booking.com, How-To Geek, STiBaRC, Instagram, Tumblr, Enpass, Astronomer, Codeberg, Orange, OpenStreetMap, Strava, BFM TV, Gap Creek Media, SpigotMC, FanFiction, GoDaddy, Arch Linux, Flipboard, VPN.AC, xda-developers, JojoYou (PriEco), ADT, TechByte Net, Le Soir, Cryptomator, Symbaloo, Twitch, KDE, CodeSandbox, IVPN, ePlus Technology, Brave, Odysee, Brilliant, Prezi, Conjuguemos, Disney+, Wallapop, Disroot, Wise, Le Bon Coin, NordVPN, ProtonVPN, ShortcutWorld.com, Follow My Health, mastodon.social, DeviantArt, Marmiton, Mega, Tuta, MyAnimeList, Deveroonie.xyz, Swiss Government, Weatheralex1 Hub, Flickr, Однокла́ссники (Ok.ru), HideMyAss!, Huawei, MySudo, Heaven HR, Free Code Camp, ptgms Industries, Google Chrome, The Filipino Channel, Among Us, Alibaba, BudgetBakers, Waterfox, Schoology, Headspace, iCloud, Consumer News & Business Channel, Cisco, EthanMcBloxxer, FaceApp, Free Software Foundation, Minecraft, Vox Media, CouchSurfing, Getty Images, The Walt Disney Company, BBVA, Apple Services, Samsung, Parler, Tubi, Leetify, Pantip.com, Condé Nast, Archive of Our Own, Avast\n",
      "--------------------------------------------------------------------------------\n",
      "Clause: You are responsible for maintaining the security of your account and for the activities on your account\n",
      "Rating: neutral\n",
      "Occurrences: 189\n",
      "Found in folders: Roadtrip Nation, Dailymotion, Instructure, Privacy.com, Discogs, Blizzard, SourceForge, Wattpad, SC Johnson, Kahoot!, Opera, Genius, FileFactory, Zoom Video Communications, hCaptcha, Pexgle, Credit Karma, Rofkin, Fox News, Replika, Malwarebytes, Xfinity, Open Collective, Authy (Twilio), Crunchyroll, webmail, Doodle, Busuu, Fiverr, Vercel, Liberapay, PayPal, Guilded, PureVPN, UptimeRobot, Reddit, Translate, Forbes, Pico, Nextcloud, Riot Games (League of Legends), WikiHow, X, Wolt, Canva, Google, Collins Dictionary, YTMP3.CC, Selfie2Anime, Filen, Gfycat, Porton Private Cloudstorage, CNN, ExpressVPN, Speedtest by Ookla, F-List, ASKfm, Bilibili, Metacafe, Merriam-Webster, Tinder, Fedora Email, Future PLC, El País, Unity, Le Parisien, Calendly, Pinterest, Gettr, 23andMe, Douban, Element, Netflix, IMDb, El Mundo (Spain), Smartmessages, Kongregate, WhatsApp, Mailfence, Doctolib, McDonald's, InfinityFree, Simply Earth, Le Monde, Minds, matrix.org, DrugBank, Washington Post, Letterboxd, Stingle Photos, Qwant, Patook, FamilyTreeDNA, Quizlet, Observable, Yleisradio, WordReference, Fivestars, AliExpress, Codeberg, OpenStreetMap, HuffPost, Khan Academy, Discovery, Ouigo, Strava, Alan Thomson Simulation, SpigotMC, FanFiction, National Geographic, Veepn, Pearltrees, Medscape, xda-developers, Turnitin, Symbaloo, Artspace, MeWe, likee, Twitch, BetterHelp, Chapril, Goodreads, Brilliant, Prezi, GitHub, Disney+, Brainly, Wallapop, Waze, Wise, Remind, DiscourseHosting, NordVPN, Bandcamp, ViacomCBS, Burger King, Follow My Health, Wishlist, Firefox Cloud Services, DeviantArt, Mega, New York Times, Sync, Atlassian, VKontakte, Scratch, MyAnimeList, Yuka, Coinbase, OpenAI, Spotify, Huawei, HP | Hewlett-Packard, CollegeBoard, Free Code Camp, Slack, Redbubble, Signal, The Filipino Channel, Alibaba, Bitwarden, Team SDS, BudgetBakers, Disqus, Ziff Davis, Vimeo, Foursquare, Icedrive, Cisco, Duolingo, FaceApp, Minecraft, CouchSurfing, Getty Images, Fandango, The Walt Disney Company, SourceHut, CNED, Amazon AWS, Tubi, Leetify, Dendreo, Profilic, Search Encrypt\n",
      "--------------------------------------------------------------------------------\n",
      "Clause: The service is provided 'as is' and to be used at the users' sole risk\n",
      "Rating: neutral\n",
      "Occurrences: 188\n",
      "Found in folders: Heroku, Dailymotion, Instructure, Shopify, XE.com, Blizzard, SourceForge, Wattpad, Alzforum, Vivaldi, Kahoot!, FastMail, Genius, FileFactory, Session, Zoom Video Communications, hCaptcha, Pexgle, BitChute, WikiTree, Encyclopedia Britannica, Xfinity, Microsoft Services, Crain's Chicago Business, Authy (Twilio), webmail, Ubisoft, Meredith, Ryver, Doodle, Jitsi, Fiverr, NBC News, Guilded, Healthline, Internet Archive, edX, Reddit, Urban Dictionary, Forbes, WeMod, Riot Games (League of Legends), WikiHow, LightyearVPN, LBRY, X, Pornhub, AnonAddy, YTMP3.CC, KidzSearch, eBuddy, MobyGames, Gfycat, CNN, ExpressVPN, Quora, Open Humans, ASKfm, Merriam-Webster, Bilibili, Guiding Tech, Future PLC, Unity, Amazon, Yahoo!, CyberGhost, Le Parisien, Upcloud, Dropbox, Pinterest, Tripadvisor, United States Postal Service, Element, Hacker Wars, Instabridge, Smartmessages, Kongregate, WhatsApp, Mailfence, McDonald's, Simply Earth, Le Monde, Wikipedia, DrugBank, Kaspersky, ISODME, Washington Post, iFunny, Patook, Patreon, Instagram, Quizlet, F-Droid, Observable, Tumblr, Rumble, Enpass, Fivestars, Adobe Services, Virtual World Computing Cocoon MyData Rewards, Codeberg, OneSignal, OpenStreetMap, HuffPost, Khan Academy, Discovery, Strava, FanFiction, Bitly, GoDaddy, eBay, Medscape, VPN.AC, xda-developers, ADT, Turnitin, Artspace, likee, Twitch, LinkedIn, Pure Dating, BetterHelp, Chapril, Wikimedia, Goodreads, Attendify, IVPN, Brave, W3Schools, Prezi, GitHub, Surfshark, Brainly, Waze, NordVPN, ProtonVPN, Bandcamp, ShortcutWorld.com, Follow My Health, Firefox Cloud Services, DeviantArt, Mega, New York Times, Sync, BlueMail, Signal Stickers, VKontakte, Scratch, Weatheralex1 Hub, Coinbase, Однокла́ссники (Ok.ru), HideMyAss!, pCloud, Huawei, MySudo, Free Code Camp, Slack, Signal, Bitwarden, BudgetBakers, Disqus, Presearch, Schoology, Steam, Vimeo, Foursquare, RiseUp.net, Consumer News & Business Channel, Cisco, Minecraft, Vox Media, The Walt Disney Company, Fandango, Apple Services, Amazon AWS, CNED, Parler, Yandex, AirVPN, YouTube, Ting Inc., SparkNotes, Dendreo, Nulled, Archive of Our Own, Avast, Search Encrypt\n",
      "--------------------------------------------------------------------------------\n",
      "Clause: This service assumes no liability for any losses or damages resulting from any matter relating to the service\n",
      "Rating: neutral\n",
      "Occurrences: 187\n",
      "Found in folders: Heroku, Dailymotion, Instructure, Anonfiles, Privacy.com, Shopify, XE.com, Blizzard, SourceForge, Wattpad, Alzforum, Vivaldi, Opera, Gather Town, FileFactory, Session, Zoom Video Communications, ClassDojo, Creative Commons, Pexgle, hCaptcha, BitChute, Encyclopedia Britannica, Blooket, Rofkin, Replika, Wickr Me, Malwarebytes, t2bot.io, YNAB. (You Need a Budget), Crain's Chicago Business, Authy (Twilio), Crunchyroll, webmail, Meredith, Ryver, Busuu, Jitsi, Represent, Jeuxvideo.com, Fiverr, USSeek, Guilded, PureVPN, Healthline, edX, Tresorit, Reddit, Translate, Urban Dictionary, WeMod, Audacity, Cloudflare, Riot Games (League of Legends), WikiHow, Nslookup, LBRY, X, Wish, Google, AnonAddy, Weblate, YTMP3.CC, KidzSearch, eBuddy, SpanishDict, YouGov, MobyGames, Gfycat, ExpressVPN, Speedtest by Ookla, ASKfm, Metacafe, Meower, Merriam-Webster, Guiding Tech, Future PLC, Yahoo!, APK Pure, Le Parisien, Calendly, TourOfCalifornia.org, Dropbox, Pinterest, Gettr, Tripadvisor, United States Postal Service, Element, IMDb, Instabridge, Mailfence, McDonald's, Le Monde, DrugBank, matrix.org, Washington Post, iFunny, Stingle Photos, Qwant, Booking.com, Patook, Patreon, FamilyTreeDNA, Instagram, Observable, Rumble, Enpass, Fivestars, Adobe Services, OpenStreetMap, HuffPost, Khan Academy, Discovery, Ouigo, Strava, Alan Thomson Simulation, GoDaddy, Veepn, eBay, Medscape, Flipboard, xda-developers, JojoYou (PriEco), ADT, Symbaloo, Artspace, likee, Index Education, LinkedIn, Pure Dating, CodeSandbox, IVPN, Goodreads, Attendify, Brave, W3Schools, Tickets Plus, Odysee, Brilliant, Prezi, GitHub, Disney+, Truth Social, Le Bon Coin, Remind, Houseparty, DiscourseHosting, NordVPN, ShortcutWorld.com, DeviantArt, Mega, Sync, VKontakte, Weatheralex1 Hub, Coinbase, Google Analytics, Однокла́ссники (Ok.ru), OpenAI, HP | Hewlett-Packard, Huawei, MySudo, WeTransfer, HideMyAss!, Redbubble, Signal, The Filipino Channel, Among Us, Alibaba, Presearch, Vimeo, Open Source Initiative, RiseUp.net, Cisco, FaceApp, Getty Images, The Walt Disney Company, SourceHut, Parler, AirVPN, Tubi, Leetify, Ting Inc., Nulled, Listudy, Profilic, Avast, Search Encrypt\n",
      "--------------------------------------------------------------------------------\n",
      "Clause: The service provider makes no warranty regarding uninterrupted, timely, secure or error-free service\n",
      "Rating: neutral\n",
      "Occurrences: 178\n",
      "Found in folders: Ableton, Dailymotion, Anonfiles, Privacy.com, Shopify, Discogs, Blizzard, SourceForge, Bumble, Vivaldi, MIT App Inventor, FileFactory, Session, Zoom Video Communications, ClassDojo, Pexgle, hCaptcha, BitChute, Wickr Me, Skillshare, Xfinity, Microsoft Services, t2bot.io, YNAB. (You Need a Budget), V.H. Hess, Crunchyroll, Uber, webmail, Ubisoft, Doodle, Ryver, Jitsi, Represent, Vercel, Liberapay, Guilded, PureVPN, Healthline, edX, Reddit, Translate, Urban Dictionary, WeMod, WikiHow, LBRY, X, Wish, Wolt, eBuddy, MobyGames, Gfycat, Porton Private Cloudstorage, Vouchley, CNN, ExpressVPN, Speedtest by Ookla, F-List, Bilibili, Meower, El País, Future PLC, Guiding Tech, Unity, Yahoo!, CyberGhost, Upcloud, TourOfCalifornia.org, Eltiempo.es, Gettr, 23andMe, United States Postal Service, Douban, Element, Hacker Wars, El Mundo (Spain), Smartmessages, WhatsApp, McDonald's, InfinityFree, Simply Earth, Le Monde, Wikipedia, DrugBank, matrix.org, OsmAnd, Washington Post, iFunny, Simitless, Qwant, Stingle Photos, Instagram, Observable, Tumblr, Rumble, Enpass, Fivestars, Virtual World Computing Cocoon MyData Rewards, Synonymo, Marca, OpenStreetMap, HuffPost, Khan Academy, Discovery, Strava, BBC, National Geographic, Veepn, Pearltrees, xda-developers, Artspace, LinkedIn, Pure Dating, CodeSandbox, BetterHelp, Wikimedia, IVPN, Le Figaro, W3Schools, Brilliant, Prezi, GitHub, Surfshark, Brainly, Waze, Truth Social, Le Bon Coin, NordVPN, ShortcutWorld.com, Burger King, DeviantArt, Mega, New York Times, Sync, Signal Stickers, Scratch, MyAnimeList, Adventurer's Codex, Coinbase, Однокла́ссники (Ok.ru), OpenAI, pCloud, HP | Hewlett-Packard, HideMyAss!, WeTransfer, Redbubble, Signal, The Filipino Channel, Among Us, Alibaba, Bitwarden, Disqus, Presearch, Schoology, Headspace, Steam, Vimeo, Icedrive, Open Source Initiative, RiseUp.net, Consumer News & Business Channel, FaceApp, Minecraft, Vox Media, Viagogo, TikTok, Apple Services, CNED, Yandex, AirVPN, YouTube, Tubi, Ting Inc., SparkNotes, Listudy, Archive of Our Own, Avast\n",
      "--------------------------------------------------------------------------------\n",
      "Clause: You can opt out of promotional communications\n",
      "Rating: good\n",
      "Occurrences: 169\n",
      "Found in folders: Instructure, Privacy.com, XE.com, SourceForge, BitDefender, Wattpad, GeeksforGeeks, Alzforum, Vivaldi, Medium, Kahoot!, Opera, Moodle, FastMail, Genius, FileFactory, Zoom Video Communications, Creative Commons, Pexgle, Amnesty International Limited (UK), Encyclopedia Britannica, Malwarebytes, Open Collective, Microspot, Crain's Chicago Business, Authy (Twilio), Crunchyroll, Meredith, Mozilla.org, Represent, Jeuxvideo.com, Standard Notes, Fiverr, Xiaomi, Vercel, PayPal, PureVPN, UptimeRobot, Healthline, Reddit, Zoho, Pico, WeMod, Nextcloud, Riot Games (League of Legends), WikiHow, LBRY, X, Wish, Wolt, WordPress.org, Canva, Collins Dictionary, Hacking with Swift, Weblate, IKEA, SpanishDict, MobyGames, kik-messenger, Gfycat, ExpressVPN, L'Equipe, Quora, Speedtest by Ookla, Merriam-Webster, Guiding Tech, Future PLC, Unity, Amazon, Calendly, Eltiempo.es, Dropbox, Pinterest, Gettr, 23andMe, United States Postal Service, Netflix, El Mundo (El Salvador), Amazon Prime Video, KeyMe, Simply Earth, Le Monde, MuseScore, Kaspersky, ISODME, Washington Post, iFunny, SmartNews, Qwant, Booking.com, Stingle Photos, Yleisradio, Tumblr, Rumble, Enpass, Fivestars, Adobe Services, privacypolicies.com, OneSignal, Discovery, Khan Academy, BBC, Alan Thomson Simulation, GoDaddy, eBay, Flipboard, xda-developers, Le Soir, Clockify, Symbaloo, Artspace, Twitch, CodeSandbox, Goodreads, Attendify, Le Figaro, Odysee, Brilliant, Prezi, Swisscows, Disney+, LibreOffice, Truth Social, NordVPN, ProtonVPN, Bandcamp, ViacomCBS, Firefox Cloud Services, DeviantArt, Mega, BlueMail, Atlassian, Startpage, Adventurer's Codex, Coinbase, Однокла́ссники (Ok.ru), HideMyAss!, HP | Hewlett-Packard, Huawei, MySudo, Pocket, BlaBlaCar, CollegeBoard, Redbubble, Heaven HR, The Filipino Channel, Disqus, Ziff Davis, Headspace, Steam, Foursquare, Open Source Initiative, Cisco, Duolingo, FaceApp, Free Software Foundation, CouchSurfing, The Walt Disney Company, BBVA, SourceHut, Parler, Tubi, Ting Inc., Condé Nast, Stack Overflow, Profilic, Search Encrypt\n",
      "--------------------------------------------------------------------------------\n",
      "Clause: You have the right to leave this service at any time\n",
      "Rating: good\n",
      "Occurrences: 169\n",
      "Found in folders: Heroku, Ableton, Instructure, Privacy.com, Discogs, Bereal, Wattpad, Bumble, Yello, Vivaldi, Medium, Opera, FastMail, Zoom Video Communications, ClassDojo, Pexgle, hCaptcha, BitChute, Hulu, WikiTree, Rofkin, Replika, Wickr Me, Malwarebytes, Xfinity, Authy (Twilio), Crunchyroll, Ubisoft, V.H. Hess, Busuu, Jitsi, Represent, Standard Notes, Prisma Media, Vercel, Liberapay, PayPal, Guilded, PureVPN, Healthline, edX, Tresorit, Reddit, The Session, Line Corporation, Audacity, Nextcloud, Nslookup, LightyearVPN, LBRY, X, Wish, Wolt, Google, AnonAddy, eBuddy, SpanishDict, YouGov, Porton Private Cloudstorage, Open Humans, ASKfm, Metacafe, Meower, Fedora Email, Unity, CyberGhost, Facebook, Upcloud, Dropbox, Gettr, 23andMe, Tripadvisor, United States Postal Service, Netflix, Instabridge, Smartmessages, Kongregate, Mailfence, McDonald's, Le Monde, Wikipedia, Kaspersky, Pixel8Earth, ToS;DR Phoenix, Stingle Photos, Patook, Patreon, FamilyTreeDNA, Quizlet, Instagram, Observable, Tumblr, Astronomer, Adobe Services, Virtual World Computing Cocoon MyData Rewards, Codeberg, OneSignal, Crowdmark, OpenStreetMap, Khan Academy, HuffPost, Strava, BBC, Roblox, GoDaddy, Pearltrees, Clockify, zmudzinski.me Personal Blog (DEPRECATED), MeWe, likee, Twitch, LinkedIn, CodeSandbox, Chapril, Brave, Odysee, Brilliant, GitHub, Conjuguemos, Privacy Guides, Disney+, Diario AS, Waze, LibreOffice, Remind, Houseparty, DiscourseHosting, NordVPN, Bandcamp, Follow My Health, Firefox Cloud Services, mastodon.social, Brax.Me, Mega, Snapchat, New York Times, Sync, Yuka, Coinbase, Google Analytics, Однокла́ссники (Ok.ru), pCloud, HP | Hewlett-Packard, MySudo, OpenAI, Free Code Camp, Slack, Redbubble, SpiderOak, Google Chrome, Bitwarden, Signal, Presearch, Vimeo, Foursquare, iCloud, RiseUp.net, Consumer News & Business Channel, Minecraft, The Walt Disney Company, Apple Services, Samsung, Parler, YouTube, Tubi, Ting Inc., Dendreo, Listudy, Stack Overflow\n",
      "--------------------------------------------------------------------------------\n",
      "Clause: This service gives your personal data to third parties involved in its operation\n",
      "Rating: bad\n",
      "Occurrences: 161\n",
      "Found in folders: Roadtrip Nation, Dailymotion, Gandi, Privacy.com, Shopify, Bereal, Wattpad, SC Johnson, GeeksforGeeks, Yello, Alzforum, Opera, TubeBuddy, MIT App Inventor, Gather Town, FileFactory, Zoom Video Communications, ClassDojo, Pexgle, Hulu, Encyclopedia Britannica, Movistar, Credit Karma, Rofkin, Malwarebytes, Microsoft Services, Crain's Chicago Business, Authy (Twilio), Crunchyroll, Uber, Free, Meredith, Represent, Météo France, Jeuxvideo.com, Prisma Media, Flatmates, NBC News, Guilded, PureVPN, UptimeRobot, Translate, Line Corporation, Pico, Nextcloud, Notion, 10minutemail, Wish, Bing, Wolt, Collins Dictionary, Weblate, IKEA, SpanishDict, Selfie2Anime, YouGov, MobyGames, Gfycat, Profilic, CNN, ExpressVPN, L'Equipe, Speedtest by Ookla, F-List, Realestate.com.au, Merriam-Webster, Tinder, Future PLC, Unity, CyberGhost, Le Parisien, Calendly, Eltiempo.es, United States Postal Service, Element, IMDb, Instabridge, InfinityFree, Le Monde, matrix.org, MuseScore, Kaspersky, Washington Post, Nvidia, iFunny, Booking.com, FamilyTreeDNA, Tumblr, Rumble, Astronomer, privacypolicies.com, Orange, OneSignal, Discovery, BFM TV, Walmart, Ouigo, Roblox, GoDaddy, Veepn, Pearltrees, Flipboard, xda-developers, ADT, Clockify, Le Soir, Symbaloo, Index Education, LinkedIn, Le Figaro, ePlus Technology, Odysee, Brilliant, Conjuguemos, Disney+, Wallapop, Le Bon Coin, Remind, NordVPN, ViacomCBS, mastodon.social, Marmiton, BlueMail, Coinbase, Google Analytics, Однокла́ссники (Ok.ru), OpenAI, HP | Hewlett-Packard, HideMyAss!, Heaven HR, BlaBlaCar, Free Code Camp, Redbubble, Google Chrome, The Filipino Channel, Among Us, Alibaba, Bitwarden, BudgetBakers, Ziff Davis, Schoology, iCloud, Open Source Initiative, FaceApp, Free Software Foundation, Minecraft, Vox Media, TikTok, Getty Images, The Walt Disney Company, BBVA, CNED, Amazon AWS, Samsung, Yandex, Neurococi, Linksys, Leetify, Pantip.com, Condé Nast, VPN Hamster\n",
      "--------------------------------------------------------------------------------\n",
      "Clause: Blocking first party cookies may limit your ability to use the service\n",
      "Rating: neutral\n",
      "Occurrences: 153\n",
      "Found in folders: Ableton, Instructure, Privacy.com, Shopify, XE.com, Blizzard, BitDefender, GeeksforGeeks, Yello, Vivaldi, Medium, Fedora, TubeBuddy, Toggl Track, hCaptcha, Creative Commons, Hulu, Encyclopedia Britannica, Hinterland Games, Credit Karma, Malwarebytes, Crain's Chicago Business, Authy (Twilio), Free, Météo France, Flatmates, PayPal, NBC News, Guilded, Healthline, edX, Reddit, Translate, Urban Dictionary, Zoho, WeMod, Riot Games (League of Legends), LBRY, X, 10minutemail, Wish, Wolt, Canva, Gfycat, Vouchley, The Movie Database (TMDb), ExpressVPN, L'Equipe, Speedtest by Ookla, Realestate.com.au, Merriam-Webster, Bilibili, Future PLC, Unity, APK Pure, Facebook, Linguee, Telegram, Le Parisien, Eltiempo.es, Dropbox, Gettr, Tripadvisor, United States Postal Service, Netflix, El Mundo (El Salvador), El Mundo (Spain), Instabridge, WhatsApp, Amazon Prime Video, Doctolib, McDonald's, Le Monde, DrugBank, Kaspersky, Washington Post, Qwant, How-To Geek, Patreon, Instagram, Rumble, Fivestars, privacypolicies.com, AliExpress, Marca, Orange, Gap Creek Media, Khan Academy, Ouigo, Alan Thomson Simulation, SpigotMC, FanFiction, Roblox, Pearltrees, Arch Linux, Medscape, OpenHAB, xda-developers, JojoYou (PriEco), Le Soir, Artspace, likee, Index Education, LinkedIn, Pure Dating, Le Figaro, ePlus Technology, Brilliant, Prezi, GitHub, Disney+, LibreOffice, Firefox Cloud Services, Snapchat, Mega, Sync, MyAnimeList, Swiss Government, Flickr, HideMyAss!, OpenAI, pCloud, HP | Hewlett-Packard, Heaven HR, Redbubble, Campus Innovations Kultur, The Filipino Channel, Among Us, Alibaba, Disqus, Waterfox, Ziff Davis, Headspace, Steam, Foursquare, iCloud, Consumer News & Business Channel, FaceApp, Viagogo, TikTok, BBVA, CNED, Amazon AWS, Samsung, Parler, Neurococi, Tubi, Leetify, VPN Hamster, Avast\n",
      "--------------------------------------------------------------------------------\n",
      "Clause: The service does not guarantee accuracy or reliability of the information provided\n",
      "Rating: neutral\n",
      "Occurrences: 146\n",
      "Found in folders: Dailymotion, Privacy.com, Shopify, XE.com, SourceForge, Canvas, Wattpad, Return YouTube Dislike, Alzforum, Vivaldi, Opera, FileFactory, Zoom Video Communications, ClassDojo, BitChute, Hinterland Games, Credit Karma, Xfinity, Microsoft Services, t2bot.io, Crain's Chicago Business, V.H. Hess, Crunchyroll, webmail, Ubisoft, Ryver, SpaceHey, Busuu, Represent, Fiverr, USSeek, Internet Archive, edX, Reddit, WeMod, Audacity, Riot Games (League of Legends), Nslookup, LBRY, X, Wish, Wolt, Canva, KidzSearch, MobyGames, CNN, ExpressVPN, Quora, ASKfm, F-List, Metacafe, Bilibili, El País, Guiding Tech, Yahoo!, TourOfCalifornia.org, Eltiempo.es, Tripadvisor, United States Postal Service, Douban, Hacker Wars, El Mundo (Spain), WhatsApp, McDonald's, InfinityFree, KeyMe, Le Monde, Minds, DrugBank, Orchid VPN, OsmAnd, Washington Post, iFunny, Qwant, Patook, FamilyTreeDNA, Observable, Rumble, Enpass, Fivestars, Virtual World Computing Cocoon MyData Rewards, Synonymo, Marca, OpenStreetMap, HuffPost, Discovery, Strava, BBC, FanFiction, Bitly, National Geographic, eBay, Medscape, xda-developers, ADT, Artspace, likee, Twitch, Pure Dating, BetterHelp, Wikimedia, W3Schools, Odysee, GitHub, Surfshark, Privacy Guides, Brainly, Waze, NordVPN, ProtonVPN, ShortcutWorld.com, Burger King, Mega, Cakey Bot, MyAnimeList, Swiss Government, Weatheralex1 Hub, Coinbase, pCloud, HP | Hewlett-Packard, Huawei, BlaBlaCar, Signal, The Filipino Channel, Alibaba, Bitwarden, Disqus, Presearch, Headspace, Foursquare, Open Source Initiative, Consumer News & Business Channel, Cisco, Minecraft, TikTok, Fandango, BBVA, YouTube, Tubi, Ting Inc., SparkNotes, Nulled, Archive of Our Own, The MOD Archive, Search Encrypt\n",
      "--------------------------------------------------------------------------------\n"
     ]
    }
   ],
   "source": [
    "# Count occurrences of each (clause, rating) pair\n",
    "pair_counts = Counter((title, rating) for title, rating, _ in clause_pairs)\n",
    "\n",
    "# Get the top 5 most duplicated pairs\n",
    "most_common_pairs = pair_counts.most_common(10)\n",
    "\n",
    "# Map each (clause, rating) to its folder locations\n",
    "pair_locations = defaultdict(set)\n",
    "for title, rating, folder in clause_pairs:\n",
    "    pair_locations[(title, rating)].add(folder)\n",
    "\n",
    "# Print the results\n",
    "print(\"\\n🔍 Top 10 most duplicated clause-rating pairs:\")\n",
    "for (title, rating), count in most_common_pairs:\n",
    "    folders = list(pair_locations[(title, rating)])  # Convert set to list\n",
    "    print(f\"Clause: {title}\\nRating: {rating}\\nOccurrences: {count}\\nFound in folders: {', '.join(folders)}\")\n",
    "    print(\"-\" * 80)\n"
   ]
  },
  {
   "attachments": {},
   "cell_type": "markdown",
   "metadata": {},
   "source": [
    "#### c. Processing code:"
   ]
  },
  {
   "cell_type": "code",
   "execution_count": 5,
   "metadata": {},
   "outputs": [
    {
     "name": "stdout",
     "output_type": "stream",
     "text": [
      "⚠️ WARNING: 'clauses' list is empty in 'RESEARCHCHEMAIAL SWITZERLAND/clauses.json'\n",
      "⚠️ WARNING: 'clauses' list is empty in 'Kink.com/clauses.json'\n",
      "\n",
      "✅ Extracted 14407 clause-rating pairs from the first two companies.\n",
      "\n",
      "('Instead of asking directly, this Service will assume your consent merely from your usage.', 'bad')\n",
      "('This service tracks which web page referred you to it', 'bad')\n",
      "('The service can sell or otherwise transfer your personal data as part of a bankruptcy proceeding or other type of financial transaction.', 'bad')\n",
      "('You must provide your legal name, pseudonyms are not allowed', 'bad')\n",
      "('This service employs third-party cookies, but with opt-out instructions', 'bad')\n"
     ]
    }
   ],
   "source": [
    "data_dir = \"data\"  # Data directory containing company folders\n",
    "clause_pairs = []\n",
    "\n",
    "# Step 1: Check if data directory exists\n",
    "if not os.path.exists(data_dir):\n",
    "    print(f\"❌ ERROR: Data directory '{data_dir}' does not exist.\")\n",
    "    exit()\n",
    "\n",
    "# Step 2: Initialize a counter for the companies\n",
    "company_counter = 0\n",
    "\n",
    "# Step 3: Loop through all company folders inside the data directory\n",
    "for company in os.listdir(data_dir):\n",
    "    company_path = os.path.join(data_dir, company)\n",
    "\n",
    "    # Check if it's a directory (company folder)\n",
    "    if os.path.isdir(company_path):\n",
    "        clause_file = os.path.join(company_path, \"clauses.json\")\n",
    "\n",
    "        # Step 4: Check if clauses.json exists\n",
    "        if not os.path.isfile(clause_file):\n",
    "            print(f\"❌ ERROR: 'clauses.json' not found in '{company}' folder\")\n",
    "            continue\n",
    "\n",
    "        try:\n",
    "            # Step 5: Check if clauses.json is valid JSON\n",
    "            with open(clause_file, \"r\", encoding=\"utf-8\") as f:\n",
    "                data = json.load(f)\n",
    "\n",
    "            # Step 6: Check if 'clauses' key exists\n",
    "            if \"clauses\" not in data:\n",
    "                print(f\"⚠️ WARNING: No 'clauses' key found in '{company}/clauses.json'\")\n",
    "                continue\n",
    "\n",
    "            clauses = data[\"clauses\"]\n",
    "            if not clauses:\n",
    "                print(f\"⚠️ WARNING: 'clauses' list is empty in '{company}/clauses.json'\")\n",
    "                continue\n",
    "\n",
    "            # Step 7: Extract (title, rating) pairs\n",
    "            for clause in clauses:\n",
    "                title = clause.get(\"title\", \"\").strip() if clause.get(\"title\") else \"\"\n",
    "                rating = clause.get(\"rating\", \"\").strip() if clause.get(\"rating\") else \"\"\n",
    "\n",
    "                if title and rating:\n",
    "                    clause_pairs.append((title, rating))\n",
    "                else:\n",
    "                    print(f\"⚠️ WARNING: Skipping a clause in '{company}' due to missing title or rating.\")\n",
    "        \n",
    "        except json.JSONDecodeError:\n",
    "            print(f\"❌ ERROR: Invalid JSON in '{company}/clauses.json'\")\n",
    "\n",
    "        # Step 8: Stop after the first 2 companies\n",
    "        company_counter += 1\n",
    "        if company_counter >= 900:\n",
    "            break  # Exit the loop after processing the first two companies\n",
    "\n",
    "# Final results\n",
    "print(f\"\\n✅ Extracted {len(clause_pairs)} clause-rating pairs from the first two companies.\\n\")\n",
    "for pair in clause_pairs[:5]:  # Print first 5 for checking\n",
    "    print(pair)\n"
   ]
  },
  {
   "cell_type": "code",
   "execution_count": 6,
   "metadata": {},
   "outputs": [
    {
     "name": "stdout",
     "output_type": "stream",
     "text": [
      "Before removal of duplicates: 14407 clause-rating pairs.\n",
      "✅ Removed exact duplicates. 1123 unique clause-rating pairs.\n",
      "Number of clauses which appear more than once in our dataset: 447.\n",
      "Number of clauses which we removed because there were already present once: 13284\n"
     ]
    }
   ],
   "source": [
    "# Step 1: Initialize a set to store unique clause-rating pairs, and non-unique clause-rating pais.\n",
    "unique_clause_pairs = set()\n",
    "non_unique_clause_pairs = set()\n",
    "occurrences_of_non_unique_clause_pairs = 0\n",
    "\n",
    "# Step 2: Filter out duplicates by checking if the pair already exists in the set\n",
    "filtered_clause_pairs = []\n",
    "\n",
    "for title, rating in clause_pairs:\n",
    "    # Use a tuple of (description, rating) as the set key\n",
    "    pair = (title, rating)\n",
    "    \n",
    "    # If the pair is not in the set, add it to the filtered list and the set\n",
    "    if pair not in unique_clause_pairs:\n",
    "        filtered_clause_pairs.append(pair)\n",
    "        unique_clause_pairs.add(pair)\n",
    "    else:\n",
    "        non_unique_clause_pairs.add(pair)\n",
    "        occurrences_of_non_unique_clause_pairs +=1\n",
    "\n",
    "unique_clause_pairs = list(unique_clause_pairs)\n",
    "non_unique_clause_pairs = list(non_unique_clause_pairs)\n",
    "\n",
    "# Step 3: Check how many unique pairs there are\n",
    "print(f\"Before removal of duplicates: {len(clause_pairs)} clause-rating pairs.\")\n",
    "print(f\"✅ Removed exact duplicates. {len(filtered_clause_pairs)} unique clause-rating pairs.\")\n",
    "print(f\"Number of clauses which appear more than once in our dataset: {len(non_unique_clause_pairs)}.\")\n",
    "print(f\"Number of clauses which we removed because there were already present once: {occurrences_of_non_unique_clause_pairs}\")\n"
   ]
  },
  {
   "cell_type": "code",
   "execution_count": 7,
   "metadata": {},
   "outputs": [
    {
     "name": "stdout",
     "output_type": "stream",
     "text": [
      "Title: Emails content may be accessed by people working for the service\n",
      "Rating: neutral\n",
      "\n",
      "Title: no spidering or crawling\n",
      "Rating: neutral\n",
      "\n",
      "Title: There is a date of the last update of the agreements (December 2018)\n",
      "Rating: neutral\n",
      "\n",
      "Title: ToS;DR gives no guarantee regarding quality\n",
      "Rating: neutral\n",
      "\n",
      "Title: The service can suspend your account if you violate the terms\n",
      "Rating: neutral\n",
      "\n"
     ]
    }
   ],
   "source": [
    "# Example of accessing the descriptions and ratings\n",
    "for pair in unique_clause_pairs[:5]:  # Print first 5 pairs for checking\n",
    "    title = pair[0]  # Clause description (x)\n",
    "    rating = pair[1]       # Clause rating (y)\n",
    "    print(f\"Title: {title}\\nRating: {rating}\\n\")"
   ]
  },
  {
   "cell_type": "code",
   "execution_count": null,
   "metadata": {},
   "outputs": [],
   "source": []
  },
  {
   "cell_type": "code",
   "execution_count": 10,
   "metadata": {},
   "outputs": [
    {
     "name": "stdout",
     "output_type": "stream",
     "text": [
      "Your provided identifiable information is actively checked by the service\n",
      "Any liability on behalf of the service is only limited to $ 50.00\n",
      "Many third parties are involved in operating the service\n",
      "Netflix reserve the right to disclose personal info, no notification.\n",
      "Your personal information is used for many different purposes\n",
      "Some personal data may be kept after the end of the data retention period or a request for erasure for business purposes\n",
      "You are tracked via web beacons, tracking pixels and device fingerprinting\n",
      "[UK] Your data may be processed and stored anywhere in the world\n",
      "SmartThings tracks you on other websites\n",
      "Your data is processed and stored in a country that is less friendly to user privacy protection (USA)\n",
      "You are tracked via browser fingerprinting and device fingerprinting\n",
      "Service fines users for Terms of Service violations\n",
      "This service gathers information about you through third parties\n",
      "Any liability on behalf of the service is only limited to one month of the fees you paid as a user or $50\n",
      "Your profile is combined across various products\n",
      "Any liability on behalf of the service is limited to $10 000\n",
      "[UK] This service gives your personal data to third parties involved in its operation\n",
      "The court of law governing the terms is in a jurisdiction that is less friendly to user privacy protection (Virginia, USA)\n",
      "Users shall not interfere with another person's enjoyment of the service\n",
      "This service may force users into binding arbitration in the case of disputes\n",
      "personal data is given to third parties\n",
      "This service shares your personal data with third parties that are not essential to its operation\n",
      "Any liability on behalf of the service is only limited to the fees you paid as a user or $100\n",
      "SmartThings keeps a license on user-generated content even after users close their accounts.\n",
      "This service shares your personal data with third parties that are not involved in its operation (ensurance and advertising companies)\n",
      "Your account and domains can be deleted without prior notice and without a reason\n",
      "The service may keep a secure, anonymized record of your data for analytical purposes even after the data retention period\n",
      "The court of law governing the terms is in a jurisdiction that is less friendly to user privacy protection (New York, USA)\n",
      "A license is kept on user-generated content even after you close your account\n",
      "[TOS] Instead of asking directly, this Service will assume your consent merely from your usage.\n",
      "Third-party cookies are used for advertising\n",
      "You are forced into binding arbitration or small claims court in case of disputes\n",
      "The service may use tracking pixels, web beacons, browser fingerprinting, and/or device fingerprinting on users.\n",
      "The service may sell your data\n",
      "[UK] This service shares your personal data with third parties that are not involved in its operation\n",
      "The court of law governing the terms is in a jurisdiction that is less friendly to user privacy protection (England)\n",
      "You are forced into binding arbitration in case of disputes unless you mail a letter opting out within 5 days\n",
      "Any liability on behalf of the service is only limited to 100€\n",
      "The court of law governing the terms is in a jurisdiction that is less friendly to user privacy protection (State of New York; USA)\n",
      "Amnesty International may share your data with its global membership organizations anywhere in the world\n",
      "The service may unintentionally sell your personal data\n",
      "Facebook collects a lot of device information through the Instagram App.\n",
      "Extra data may be collected about you through promotions\n",
      "The service can suspend or terminate your access to all or any part of the Website and refuse service to anyone for any reason at any time\n",
      "The court of law governing the terms is in a jurisdiction that is less friendly to user privacy protection (England, Wales)\n",
      "Your SmartThings profile is combined across various products and services\n",
      "This service may use third-party cookies and web beacons for statistics\n",
      "You are being tracked via social media cookies, if you have consented to the use of cookies for social embeds\n",
      "This service uses third-party cookies for statistics\n",
      "The service may collect extra data about you through promotions, with your consent.\n",
      "The court of law governing the terms is in a jurisdiction that is less friendly to user privacy protection (England and Wales)\n",
      "You are tracked via web beacons, tracking pixels, browser fingerprinting and device fingerprinting\n",
      "SmartThings collects many different types of personal data\n",
      "The court of law governing the terms is in a jurisdiction that is less friendly to user privacy protection (Canada)\n",
      "We and our advertising partners collect certain information, including cookies, advertising identifiers and/or the IP address of your device\n",
      "[UK] Your personal data may be used for marketing purposes\n",
      "Couchsurfing informs you about the fact that you can disable cookies\n",
      "The service collects information about your health and health insurance\n",
      "Your content can be licensed to third parties\n",
      "Any liability on behalf of the service is only limited to the fees you paid as a user or $2,500\n",
      "Your Personal data may be sold unless you opt out\n",
      "Your data is processed and stored in a country that is less friendly to user privacy protection\n",
      "First-party cookies are used for advertising\n",
      "The court of law governing the terms is in a jurisdiction that is less friendly to user privacy protection (Ontario, Canada)\n",
      "You have a reduced time period (90 days) to take legal action against the service\n",
      "You waive your right to a class action.\n",
      "You wave your right to a class action.\n",
      "The court of law governing the terms is in a jurisdiction that is less friendly to user privacy protection (St. Petersburg, Russia)\n",
      "This service reserves the right to disclose your personal information without notifying you\n",
      "User communications can be blocked or censored\n",
      "SmartThings can license user content to third parties\n",
      "Third-party cookies are used for statistics\n",
      "Unless Wickr decides otherwise, you are forced into binding arbitration in case of disputes\n",
      "The service can delete your account without prior notice and without a reason\n",
      "The Terms and Conditions may be changed any time at their discretion, without notice to you\n",
      "This service assumes no liability for unauthorized access to your personal information\n",
      "This service gives your personal data to third parties (Amazon Web Services) involved in its operation\n",
      "[UK] Your personal data is used for advertising\n",
      "Web beacons are used in service-to-user communication\n",
      "Tracking via third-party cookies for other purposes without your consent.\n",
      "The service does not guarantee the errors will be corrected\n",
      "Discogs does not guarantee that any software errors will be corrected\n",
      "The service does not guarantee that software errors will be corrected\n",
      "Tracking via third-party cookies purposes including advertising\n",
      "This service can license user content to third parties\n",
      "You are forced into binding arbitration in case of disputes with some exceptions\n",
      "If you offer suggestions to the service, they become the owner of the ideas that you give them\n",
      "This service employs third-party cookies\n",
      "Your account can be deleted without prior notice and without a reason\n",
      "Any liability on behalf of the service is only limited to 1000€\n",
      "Any liability on behalf of the service is only limited to $10\n",
      "You are being tracked via social media cookies/trackers\n",
      "In some countries, your profile is combined across various products\n",
      "Google Ad is used for advertising\n",
      "You are tracked via web beacons, tracking pixels, browser fingerprinting, and/or device fingerprinting\n",
      "App required for this service requires broad device permissions\n",
      "The court of law governing the terms is in a jurisdiction that is less friendly to user privacy protection (Wisconsin, USA)\n",
      "You are tracked via web beacons/tracking pixels\n",
      "This service may collect, use, and share location data, if you have provided your express consent for it.\n",
      "Instead of asking directly, this Service will assume your consent merely from your usage.\n",
      "SDKs are used for advertising\n",
      "This service tracks you on other websites\n",
      "Very broad copyright license on your content\n",
      "Inconvenient process for obtaining personal data\n",
      "Your biometric data is collected if you provide it to HP\n",
      "U.S. Residents are forced into binding arbitration in case of disputes\n",
      "Any liability on behalf of the service is only limited to the fees you paid as a user or €1000\n",
      "Google Analytics is used for statistics on their website\n",
      "The court of law governing the terms is in a jurisdiction that is less friendly to user privacy protection (Arkansas, USA)\n",
      "Your account can be suspended and your data deleted any time for any reason\n",
      "Your content can be licensed to users at other schools\n",
      "This service uses your personal information for many different purposes\n",
      "The service can delete your account without a reason upon two weeks' notice\n",
      "The service is only available in some countries approved by the United States government\n",
      "You have a reduced time period to take legal action against the service\n",
      "The service can delete your account without a reason\n",
      "The court of law governing the terms is in a jurisdiction that is less friendly to user privacy protection (UK)\n",
      "This service may use your personal information for marketing purposes unless you opt out\n",
      "Tracking via third-party cookies for purposes including advertising\n",
      "Your Personal data may be sold unless you opt out if you're a California Resident\n",
      "This service receives your precise location through GPS coordinates\n",
      "The service can delete your free account without prior notice and without a reason\n",
      "This service can block or censor user communications\n",
      "Your biometric data may be collected\n",
      "Discogs users shall not interfere with another person's enjoyment of the service\n",
      "[US] Instead of asking directly, this Service will assume your consent merely from your usage.\n",
      "Instead of asking directly, this Service will assume your consent to changes of terms merely from your usage.\n",
      "The court of law governing the terms is in a jurisdiction that is less friendly to user privacy protection.\n",
      "Your personal data may be sold or otherwise transferred as part of a bankruptcy proceeding or other type of financial transaction\n",
      "The service uses your personal data for advertising\n",
      "The service is only available in some countries approved by US government\n",
      "Any liability on behalf of the service is only limited to the fees you paid as a user or $200\n",
      "Google Analytics is used for statistics\n",
      "You have a reduced time period (1 year) to take legal action against the service\n",
      "The privacy policy may be changed any time at their discretion, without notice to the user\n",
      "Tracking pixels are used in service-to-user communication\n",
      "The court of law governing the terms is in a jurisdiction that is less friendly to user privacy protection (Russia)\n",
      "Any liability on behalf of the service is only limited to the fees you paid as a user or 500€\n",
      "You must provide your identifiable and medical information\n",
      "Your personal data is given to third parties working for the service\n",
      "You must use your real name to sign up for a team account\n",
      "Information is gathered about you through third parties\n",
      "Any liability on behalf of the service is only limited to $50\n",
      "Any liability on behalf of the service is only limited to the fees you paid as a user or $1500\n",
      "Your personal data is given to third parties\n",
      "[UK] Your biometric data is collected\n",
      "Terms may be changed any time at their discretion, without notice to the user.\n",
      "The court of law governing the terms is in a jurisdiction that is less friendly to user privacy protection (China)\n",
      "Third-party web beacons are used for advertising\n",
      "Usernames can be rejected or changed for any reason\n",
      "[UK] You must provide your identifiable information\n",
      "Instagram shares information with many third parties\n",
      "Google Analytics and Google Firebase Analytics are used for statistics\n",
      "Users have 1 year to take legal action against the service\n",
      "SmartThings uses your personal data for advertising\n",
      "Your personal data may be shared or otherwise transferred as part of a merging / acquisition proceeding\n",
      "Any liability on behalf of the service is only limited to the past 6 months of fees you paid as a user not exceeding $100\n",
      "Your use may be throttled\n",
      "The service may use web beacons and device fingerprinting on users.\n",
      "[US] Your provided identifiable information is actively checked by the service\n",
      "You are forced into binding arbitration in case of disputes, but you may opt out\n",
      "Third-party cookies are used for statistics on the website service's\n",
      "Any liability on behalf of the service is only limited to the fees you paid as a user or 1000$\n",
      "The service may keep a secure record of your data for analytical purposes even after the data retention period\n",
      "Your account can be deleted or permanently suspended without prior notice and without a reason\n",
      "Your data is processed and stored in a country that is less friendly to user privacy protection (in AWS US datacenters)\n",
      "[Parsec Users] If you offer suggestions to the service, they become the owner of the ideas that you give them\n",
      "The service collects many different types of personal data\n",
      "This service employs third-party cookies, but with opt-out instructions\n",
      "Tracking via third-party cookies for other purposes including advertising\n",
      "You waive your right to a class action\n",
      "This service may use your personal information for marketing purposes\n",
      "The court of law governing the terms is in a jurisdiction that is less friendly to user privacy protection (Colorado, USA)\n",
      "This service uses third-party cookies for statistics on non-search pages\n",
      "Uber can transfer the TOS to affiliates and successors without your consent\n",
      "This service gives your personal data to third parties involved in its operation\n",
      "The service may collect extra data about you through promotions\n",
      "User content can be licensed to third parties\n",
      "The copyright license maintained by the service over user data and/or content is broader than necessary.\n",
      "The service uses your personal data is used for advertising\n",
      "The court of law governing the terms is in a jurisdiction that is less friendly to user privacy protection (Illinois, USA)\n",
      "This service tracks which web page referred you to it\n",
      "The court of law governing the terms is in a jurisdiction that is less friendly to user privacy protection (Texas, USA)\n",
      "Your personal data may be transferred as part of a bankruptcy proceeding or other type of financial transaction\n",
      "Your biometric data is collected from public sources\n",
      "Many different types of personal data are collected\n",
      "Third party cookies\n",
      "The service may use tracking pixels and device fingerprinting on users.\n",
      "This service retains rights to your content even after you stop using your account\n",
      "Couchsurfing becomes the owner of ideas you give them\n",
      "Any liability on behalf of the service is only limited to $100 (Canadian dollars)\n",
      "Reduction of legal period for cause of action\n",
      "The service can delete your account without prior notice\n",
      "Terms of service can change at any time, but Busuu will assume your consent merely from your usage.\n",
      "You are forced into binding arbitration in case of disputes (with some exceptions)\n",
      "[EU] Your data may be processed and stored anywhere in the world\n",
      "Users have a reduced time period (2 years) to take legal action against the service\n",
      "Any liability on behalf of the service is only limited to the fees you paid as a user or $1000\n",
      "Your personal data is used to employ targeted third-party advertising\n",
      "Per the service's terms, users may not express negative opinions about them\n",
      "The court of law governing the terms is in a jurisdiction that is less friendly to user privacy protection (USA)\n",
      "They reserve the right to suspend/terminate your access to or use of the Site without notice, in their sole discretion.\n",
      "Any liability on behalf of the service is only limited to $500\n",
      "The court of law governing the terms is in a jurisdiction that is less friendly to user privacy protection (Iowa, USA)\n",
      "You shall not interfere with another person's enjoyment of the service\n",
      "[UK] Information is gathered about you through third parties\n",
      "Users have a reduced time period to take legal action against the service\n",
      "Any liability on behalf of the service is only limited to the fees you paid as a user or 100$\n",
      "Many third parties are involved in operating the service (Google, Stripe, Cloudflare, Zendesk)\n",
      "You are forced into binding arbitration in case of disputes\n",
      "The court of law governing the terms is in a jurisdiction that is less friendly to user privacy protection (NY, USA)\n",
      "The service may keep a secure, anonymized record of users' data for analytical purposes\n",
      "The service uses your personal data to employ targeted third-party advertising\n",
      "The service is only available to United States residents and businesses\n",
      "Any liability on behalf of the service is only limited to $100\n",
      "This service allows tracking via third-party cookies for purposes including targeted advertising.\n",
      "You cannot opt out of targeted advertising\n",
      "The court of law governing the terms is in a jurisdiction that is less friendly to user privacy protection (Victoria, Australia)\n",
      "You are being tracked via social media cookies\n",
      "Your use is throttled\n",
      "By using this website, you are agreeing to be bound by the then current version of these terms of service.\n",
      "The court of law governing the terms is in a jurisdiction that is less friendly to user privacy protection (Florida, USA)\n",
      "Your biometric data is collected\n",
      "Users have a 6 month time period to take legal action against the service\n",
      "This service may use your personal information for marketing purposes, with your consent.\n",
      "The service is only available in some countries approved by its government\n",
      "You may be tracked via social media cookies/pixels\n",
      "Service can block or censor user communications\n",
      "OsmAnd prevents you from using the app if you are not licensed to use it.\n",
      "Liability on behalf of the service is only limited to the fees you paid 6 months prior.\n",
      "Couchsurfing may retain your data after deactivation for legitimate business purposes\n",
      "Tracking pixels (cookies or web beacons) are used in service-to-user communication\n",
      "The court of law governing the terms is in a jurisdiction that is less friendly to user privacy protection (Massachusetts, USA)\n",
      "This service may keep personal data after a request for erasure for business interests or legal obligations\n",
      "Comments can be blocked or censored for any reason\n",
      "Third-party cookies are used for marketing\n",
      "Logs are kept for an undefined period of time\n",
      "very broad\n",
      "Per the service's terms, you may not express negative opinions about them\n",
      "This service may collect, use, and share location data\n",
      "This service keeps a license on user-generated content even after users close their accounts.\n",
      "Any liability on behalf of the service is only limited to $1,000\n",
      "This service throttles your use\n",
      "The service can sell or otherwise transfer your personal data as part of a bankruptcy proceeding or other type of financial transaction.\n",
      "Any liability on behalf of the service's beta is only limited to the fees you paid as a user\n",
      "[UK] Many different types of personal data are collected\n",
      "This service forces users into binding arbitration in the case of disputes for users outside the EU\n",
      "Any liability on behalf of the service is only limited to the fees you paid as a user or $50\n",
      "[UK] Any liability on behalf of the service is only limited to the fees you paid as a user or £100\n",
      "The service uses social media cookies/pixels\n",
      "You are forced into binding arbitration in case of disputes (unless you opt out)\n",
      "You waive your right to a class action (unless you opt out)\n",
      "The service uses third party tracking pixels to track social media conversion\n",
      "If you sync with your Google Account, many different types of personal data are collected\n",
      "Any liability on behalf of the service is only limited to the fees you paid as a user\n",
      "This service tracks you on other websites and apps\n",
      "The service can deny, cancel, terminate, suspend, lock, or modify access to (or control of) your account for any reason\n",
      "This service can share your personal information to third parties\n",
      "Any liability on behalf of the service is only limited to USD $10\n",
      "Your data may be processed and stored anywhere in the world\n",
      "Facebook uses your data for many purposes\n",
      "This service tracks you on social media and public databases.\n",
      "You are tracked via web beacons and tracking pixels\n",
      "Any liability on behalf of the service is only limited to the fees you paid as a user or $500\n",
      "You waive your right to a class action in some circumstances\n",
      "Some personal data may be kept for business interests or legal obligations\n",
      "Google analytics(/for Firebase) is used for statistics\n",
      "If you use their mobile App, this service receives your precise location through GPS coordinates\n",
      "This service receives your location through GPS coordinates\n",
      "Couchsurfing keeps the license on your content, even after you close your account\n",
      "The service uses your personal data to employ targeted advertising through Facebook.\n",
      "Terms of Use may be changed any time at their discretion, without notice to the user\n",
      "The court of law governing the terms is in a jurisdiction that is less friendly to user privacy protection (New South Wales, Australia)\n",
      "You must provide your legal name, pseudonyms are not allowed\n",
      "You are tracked via web beacons, tracking pixels, browser fingerprinting, and device fingerprinting\n",
      "Your Personal data may be sold unless you live in California and you opt out\n",
      "Discogs can delete your account without prior notice and without a reason\n",
      "Usernames can be rejected for any reason\n",
      "This service keeps user logs for an undefined period of time\n",
      "The court of law governing the terms is in a jurisdiction (Nevada, USA) that is less friendly to user privacy protection\n",
      "Météo France (from Goolge Analytics) tracks which web page referred you to it\n",
      "Prices and fees may be changed at any time, without notice to you\n",
      "The service may use device fingerprinting on users.\n",
      "The service may use tracking pixels, web beacons and device fingerprinting on users.\n",
      "If you live in the European Economic Area, your data is processed and stored in countries that are less friendly to user privacy protection\n",
      "Microsoft may remotely disabled software you are not licensed to use.\n",
      "In some countries, this service may collect, use, and share location data\n",
      "This service shares your personal data with third parties that are not essential to its operation (through Facebook ads)\n",
      "You must provide your identifiable information\n",
      "Your personal data may be used for marketing purposes\n",
      "Any liability on behalf of the service is only limited to the fees you paid as a user or $5\n",
      "You are being tracked via social media cookies/pixels\n",
      "You cannot opt out of promotional communications\n",
      "This service can share your personal information with third parties\n",
      "No promise to inform of government requests\n",
      "Google Analytics, Facebook Analytics, Mixpanel and Fabric analytic are used for statistics\n",
      "The court of law governing the terms is in a jurisdiction that is less friendly to user privacy protection (Georgia, USA)\n",
      "The service conduct data profiling based on your characteristics, behavior and preferences for advertising\n",
      "The copyright license on user data is broader than necessary\n",
      "Tracking via third-party cookies for advertising\n",
      "The court of law governing the terms is in a jurisdiction that is less friendly to user privacy protection (Belize)\n",
      "This service forces users into binding arbitration in the case of disputes\n",
      "Third-party cookies are used for statistics (AT internet; Google Analytics; Estat)\n",
      "Terms may be changed any time at their discretion, without notice to the user\n",
      "The service can delete your account without a reason, but upon prior notice\n",
      "Couchsurfing may close your account at their sole discretion\n",
      "Third party privacy-focused cookies are employed, but with opt out instructions\n",
      "Your use can be throttled\n",
      "Your personal data may be disclosed to comply with government requests without notice to you\n",
      "Can ban or delete your account for any reason\n",
      "User-generated content can be blocked or censored for any reason\n",
      "This service receives your percise location through GPS coordinates\n",
      "The service may sell your data unless you opt out\n",
      "Any liability on behalf of the service is only limited to $ 1,000\n",
      "Your biometric data is collected and without necessarily your explicit consent\n",
      "Terms of Service may be changed any time at their discretion, without notice to the user\n",
      "Your personal data is used for advertising\n",
      "The Privacy Policy may be changed any time at their discretion, without notice to the user\n",
      "[US] Your account can be deleted upon notice and without a reason\n",
      "You are tracked via device fingerprinting\n",
      "Terms may be changed any time at their discretion, without notice to you\n",
      "Voice data is collected and shared with third-parties\n",
      "The court of law governing the terms is in a jurisdiction that is less friendly to user privacy protection (Australia)\n",
      "The court of law governing the terms is in a jurisdiction that is less friendly to user privacy protection (India)\n",
      "Any liability on behalf of the service is only limited to the past year of fees you paid as a user not exceeding $100\n",
      "Some personal data may be kept after the end of the data retention period or a request for erasure\n",
      "Third party cookies are employed, but with opt out instructions\n",
      "The service may keep a secure, anonymized record of users' data for analytical purposes even after the data retention period\n",
      "This service shares your personal data with third parties that are not involved in its operation\n",
      "Any liability on behalf of the service is only limited to the fees you paid as a user in the past 3 months, or $500, whichever is greater\n",
      "The service may use tracking pixels, web beacons, browser fingerprinting, and device fingerprinting on users.\n",
      "Your DNA samples may be shared with law enforcement agencies\n",
      "Malwarebytes' app may use device fingerprinting on users.\n",
      "[UK] Some personal data may be kept after the end of the data retention period or a request for erasure for analytics purposes\n",
      "Third-party privacy-focused cookies are used for statistics\n",
      "The service is only available in countries approved by the U.S. government\n"
     ]
    }
   ],
   "source": [
    "for pair in unique_clause_pairs:\n",
    "    rating = pair[1]\n",
    "    if (rating==\"bad\"):\n",
    "        print(pair[0])"
   ]
  },
  {
   "attachments": {},
   "cell_type": "markdown",
   "metadata": {},
   "source": [
    "### 2. BERT model"
   ]
  },
  {
   "attachments": {},
   "cell_type": "markdown",
   "metadata": {},
   "source": [
    "#### a. Filtering: removing pairs with \"unknown\" as label."
   ]
  },
  {
   "cell_type": "code",
   "execution_count": 54,
   "metadata": {},
   "outputs": [
    {
     "name": "stdout",
     "output_type": "stream",
     "text": [
      "Data set size: 1074\n",
      "Train+dev set size: 859\n",
      "Test set size: 215\n"
     ]
    }
   ],
   "source": [
    "# Step 3.1: Filter out clauses with 'unknown' ratings\n",
    "filtered_clause_pairs = [(title, rating) for title, rating in unique_clause_pairs if rating != \"unknown\"]\n",
    "\n",
    "# Split the filtered data\n",
    "clauses, ratings = zip(*filtered_clause_pairs)  # Extract clauses and their ratings\n",
    "\n",
    "# Map ratings to integers\n",
    "rating_dict = {\"very bad\": 0, \"bad\": 1, \"neutral\": 2, \"good\": 3}  # Modify if you have different ratings\n",
    "ratings_int = [rating_dict[r] for r in ratings]\n",
    "\n",
    "# Step 3.2: Split data into train, dev, and test sets (80% train, 10% dev, 10% test)\n",
    "X_temp, X_test, y_temp, y_test = train_test_split(clauses, ratings_int, test_size=0.2, random_state=42)\n",
    "\n",
    "# Print size\n",
    "print(f\"Data set size: {len(filtered_clause_pairs)}\")\n",
    "print(f\"Train+dev set size: {len(y_temp)}\")\n",
    "print(f\"Test set size: {len(y_test)}\")"
   ]
  },
  {
   "attachments": {},
   "cell_type": "markdown",
   "metadata": {},
   "source": [
    "#### b. Deduplication based on n-gram similarity"
   ]
  },
  {
   "cell_type": "code",
   "execution_count": 55,
   "metadata": {},
   "outputs": [],
   "source": [
    "def get_ngrams(text, n=3):\n",
    "    \"\"\"Convert text into a set of n-grams.\"\"\"\n",
    "    tokens = nltk.word_tokenize(text.lower())  # Tokenize and lowercase\n",
    "    tokens = [t for t in tokens if t.isalnum() and t not in ENGLISH_STOP_WORDS]  # Remove stopwords and non-alphanumeric\n",
    "    return set(ngrams(tokens, n))\n",
    "\n",
    "def jaccard_similarity(set1, set2):\n",
    "    \"\"\"Compute Jaccard similarity between two sets.\"\"\"\n",
    "    intersection = len(set1 & set2)\n",
    "    union = len(set1 | set2)\n",
    "    return intersection / union if union != 0 else 0\n",
    "\n",
    "def deduplicate_test_set(train_clauses, test_clauses, test_labels, threshold=0.7, n=3):\n",
    "    \"\"\"Remove test clauses that are too similar to any train clause based on n-gram Jaccard similarity.\"\"\"\n",
    "    train_ngrams = [get_ngrams(clause, n) for clause in train_clauses]\n",
    "    \n",
    "    filtered_test_clauses = []\n",
    "    filtered_test_labels = []\n",
    "    \n",
    "    for test_clause, test_label in zip(test_clauses, test_labels):\n",
    "        test_ngram_set = get_ngrams(test_clause, n)\n",
    "        \n",
    "        # Check similarity with each train clause\n",
    "        max_similarity = max(jaccard_similarity(test_ngram_set, train_set) for train_set in train_ngrams)\n",
    "        \n",
    "        if max_similarity < threshold:\n",
    "            filtered_test_clauses.append(test_clause)\n",
    "            filtered_test_labels.append(test_label)\n",
    "    \n",
    "    return filtered_test_clauses, filtered_test_labels"
   ]
  },
  {
   "cell_type": "code",
   "execution_count": 56,
   "metadata": {},
   "outputs": [
    {
     "name": "stdout",
     "output_type": "stream",
     "text": [
      "Before deduplication: test+dev set size is 215\n",
      "After deduplication: test+dev set size is 158\n"
     ]
    }
   ],
   "source": [
    "# Apply deduplication\n",
    "print(f\"Before deduplication: test+dev set size is {len(y_test)}\")\n",
    "X_test, y_test = deduplicate_test_set(X_temp, X_test, y_test, threshold=0.7, n=3)\n",
    "print(f\"After deduplication: test+dev set size is {len(y_test)}\")"
   ]
  },
  {
   "attachments": {},
   "cell_type": "markdown",
   "metadata": {},
   "source": [
    "#### c. Training BERT"
   ]
  },
  {
   "cell_type": "code",
   "execution_count": 57,
   "metadata": {},
   "outputs": [
    {
     "name": "stdout",
     "output_type": "stream",
     "text": [
      "Train set size: 730\n",
      "Dev set size: 129\n"
     ]
    }
   ],
   "source": [
    "X_train, X_dev, y_train, y_dev = train_test_split(X_temp, y_temp, test_size=0.15, random_state=42)\n",
    "print(f\"Train set size: {len(y_train)}\")\n",
    "print(f\"Dev set size: {len(y_dev)}\")\n",
    "\n",
    "# Step 3.3: Convert into a format that Hugging Face can use\n",
    "train_data = Dataset.from_dict({\"text\": X_train, \"label\": y_train})\n",
    "dev_data = Dataset.from_dict({\"text\": X_dev, \"label\": y_dev})\n",
    "test_data = Dataset.from_dict({\"text\": X_test, \"label\": y_test})"
   ]
  },
  {
   "cell_type": "code",
   "execution_count": 58,
   "metadata": {},
   "outputs": [
    {
     "data": {
      "application/vnd.jupyter.widget-view+json": {
       "model_id": "26e0c42eec264d7e9d0ec3179219f602",
       "version_major": 2,
       "version_minor": 0
      },
      "text/plain": [
       "Map:   0%|          | 0/730 [00:00<?, ? examples/s]"
      ]
     },
     "metadata": {},
     "output_type": "display_data"
    },
    {
     "data": {
      "application/vnd.jupyter.widget-view+json": {
       "model_id": "338cb4b5d14e4777b7790ecb2d7567e5",
       "version_major": 2,
       "version_minor": 0
      },
      "text/plain": [
       "Map:   0%|          | 0/129 [00:00<?, ? examples/s]"
      ]
     },
     "metadata": {},
     "output_type": "display_data"
    },
    {
     "data": {
      "application/vnd.jupyter.widget-view+json": {
       "model_id": "2c72e1f7079b45419db24d84c4714c1d",
       "version_major": 2,
       "version_minor": 0
      },
      "text/plain": [
       "Map:   0%|          | 0/158 [00:00<?, ? examples/s]"
      ]
     },
     "metadata": {},
     "output_type": "display_data"
    },
    {
     "data": {
      "application/vnd.jupyter.widget-view+json": {
       "model_id": "101ff65c923c4b589ab3af6e86447b31",
       "version_major": 2,
       "version_minor": 0
      },
      "text/plain": [
       "Map:   0%|          | 0/730 [00:00<?, ? examples/s]"
      ]
     },
     "metadata": {},
     "output_type": "display_data"
    },
    {
     "data": {
      "application/vnd.jupyter.widget-view+json": {
       "model_id": "7bd9da54cccb4b20a5ae4bac452d3c73",
       "version_major": 2,
       "version_minor": 0
      },
      "text/plain": [
       "Map:   0%|          | 0/129 [00:00<?, ? examples/s]"
      ]
     },
     "metadata": {},
     "output_type": "display_data"
    },
    {
     "data": {
      "application/vnd.jupyter.widget-view+json": {
       "model_id": "bb60b05f99b7490c89db507380acae85",
       "version_major": 2,
       "version_minor": 0
      },
      "text/plain": [
       "Map:   0%|          | 0/158 [00:00<?, ? examples/s]"
      ]
     },
     "metadata": {},
     "output_type": "display_data"
    },
    {
     "data": {
      "application/vnd.jupyter.widget-view+json": {
       "model_id": "206d9212bfb14b99849856d2d6c29ae6",
       "version_major": 2,
       "version_minor": 0
      },
      "text/plain": [
       "Map:   0%|          | 0/730 [00:00<?, ? examples/s]"
      ]
     },
     "metadata": {},
     "output_type": "display_data"
    },
    {
     "name": "stderr",
     "output_type": "stream",
     "text": [
      "/var/folders/zl/gjtb3by11p7b_j804bt863qh0000gn/T/ipykernel_16976/3550178219.py:24: UserWarning: To copy construct from a tensor, it is recommended to use sourceTensor.clone().detach() or sourceTensor.clone().detach().requires_grad_(True), rather than torch.tensor(sourceTensor).\n",
      "  train_data = train_data.map(lambda x: {\"label\": torch.tensor(x[\"label\"]).long()})\n"
     ]
    },
    {
     "data": {
      "application/vnd.jupyter.widget-view+json": {
       "model_id": "9f8834e2dfe0430eadea7a1227baf3dd",
       "version_major": 2,
       "version_minor": 0
      },
      "text/plain": [
       "Map:   0%|          | 0/129 [00:00<?, ? examples/s]"
      ]
     },
     "metadata": {},
     "output_type": "display_data"
    },
    {
     "name": "stderr",
     "output_type": "stream",
     "text": [
      "/var/folders/zl/gjtb3by11p7b_j804bt863qh0000gn/T/ipykernel_16976/3550178219.py:25: UserWarning: To copy construct from a tensor, it is recommended to use sourceTensor.clone().detach() or sourceTensor.clone().detach().requires_grad_(True), rather than torch.tensor(sourceTensor).\n",
      "  dev_data = dev_data.map(lambda x: {\"label\": torch.tensor(x[\"label\"]).long()})\n"
     ]
    },
    {
     "data": {
      "application/vnd.jupyter.widget-view+json": {
       "model_id": "59ad9e29bd1c4c519d7eb0c5f5cd6401",
       "version_major": 2,
       "version_minor": 0
      },
      "text/plain": [
       "Map:   0%|          | 0/158 [00:00<?, ? examples/s]"
      ]
     },
     "metadata": {},
     "output_type": "display_data"
    },
    {
     "name": "stderr",
     "output_type": "stream",
     "text": [
      "/var/folders/zl/gjtb3by11p7b_j804bt863qh0000gn/T/ipykernel_16976/3550178219.py:26: UserWarning: To copy construct from a tensor, it is recommended to use sourceTensor.clone().detach() or sourceTensor.clone().detach().requires_grad_(True), rather than torch.tensor(sourceTensor).\n",
      "  test_data = test_data.map(lambda x: {\"label\": torch.tensor(x[\"label\"]).long()})\n"
     ]
    }
   ],
   "source": [
    "# Step 4.1: Load the BERT tokenizer\n",
    "tokenizer = BertTokenizer.from_pretrained(\"bert-base-uncased\")\n",
    "\n",
    "# Step 4.2: Define a function to tokenize the input texts\n",
    "def tokenize_function(examples):\n",
    "    return tokenizer(examples.get('text', \"\"), padding='max_length', truncation=True, max_length=512)\n",
    "\n",
    "# Step 4.3: Apply the tokenizer to the train, dev, and test datasets\n",
    "train_data = train_data.map(tokenize_function, batched=True)\n",
    "dev_data = dev_data.map(tokenize_function, batched=True)\n",
    "test_data = test_data.map(tokenize_function, batched=True)\n",
    "\n",
    "# Step 4.4: Set the format for PyTorch\n",
    "train_data.set_format(type='torch', columns=['input_ids', 'attention_mask', 'token_type_ids', 'label'])\n",
    "dev_data.set_format(type='torch', columns=['input_ids', 'attention_mask', 'token_type_ids', 'label'])\n",
    "test_data.set_format(type='torch', columns=['input_ids', 'attention_mask', 'token_type_ids', 'label'])\n",
    "\n",
    "# Step 4.5: Remove the original text filed\n",
    "train_data = train_data.map(tokenize_function, batched=True, remove_columns=[\"text\"])\n",
    "dev_data = dev_data.map(tokenize_function, batched=True, remove_columns=[\"text\"])\n",
    "test_data = test_data.map(tokenize_function, batched=True, remove_columns=[\"text\"])\n",
    "\n",
    "# Step 4.6: Make sure we are working with longs\n",
    "train_data = train_data.map(lambda x: {\"label\": torch.tensor(x[\"label\"]).long()})\n",
    "dev_data = dev_data.map(lambda x: {\"label\": torch.tensor(x[\"label\"]).long()})\n",
    "test_data = test_data.map(lambda x: {\"label\": torch.tensor(x[\"label\"]).long()})"
   ]
  },
  {
   "cell_type": "code",
   "execution_count": 59,
   "metadata": {},
   "outputs": [],
   "source": [
    "# Step 5.1: Take a smaller sample (e.g., 5%) of the training data\n",
    "train_sample = train_data.shuffle(seed=42).select(range(int(0.1 * len(train_data))))\n",
    "dev_sample = dev_data.shuffle(seed=42).select(range(int(0.2*len(dev_data))))"
   ]
  },
  {
   "cell_type": "code",
   "execution_count": 60,
   "metadata": {},
   "outputs": [],
   "source": [
    "def compute_metrics(eval_pred):\n",
    "    logits, labels = eval_pred\n",
    "    preds = np.argmax(logits, axis=1)  # Convert logits to predicted labels\n",
    "\n",
    "    accuracy = accuracy_score(labels, preds)\n",
    "    precision = precision_score(labels, preds, average='weighted')\n",
    "    recall = recall_score(labels, preds, average='weighted')\n",
    "    f1 = f1_score(labels, preds, average='weighted')\n",
    "\n",
    "    return {\n",
    "        \"accuracy\": accuracy,\n",
    "        \"precision\": precision,\n",
    "        \"recall\": recall,\n",
    "        \"f1\": f1\n",
    "    }"
   ]
  },
  {
   "cell_type": "code",
   "execution_count": 61,
   "metadata": {},
   "outputs": [
    {
     "name": "stderr",
     "output_type": "stream",
     "text": [
      "Some weights of BertForSequenceClassification were not initialized from the model checkpoint at bert-base-uncased and are newly initialized: ['classifier.bias', 'classifier.weight']\n",
      "You should probably TRAIN this model on a down-stream task to be able to use it for predictions and inference.\n"
     ]
    }
   ],
   "source": [
    "model = BertForSequenceClassification.from_pretrained(\"bert-base-uncased\", num_labels=4)"
   ]
  },
  {
   "cell_type": "code",
   "execution_count": 62,
   "metadata": {},
   "outputs": [],
   "source": [
    "# Step 0: Create a custom callback to store losses\n",
    "class LossesCallback(TrainerCallback):\n",
    "    def __init__(self):\n",
    "        self.train_losses = []\n",
    "        self.dev_losses = []\n",
    "\n",
    "    def on_log(self, args, state, control, logs=None, **kwargs):\n",
    "        if logs is not None:\n",
    "            if 'loss' in logs:  # Capture training loss\n",
    "                self.train_losses.append(logs['loss'])\n",
    "            if 'eval_loss' in logs:  # Capture development loss\n",
    "                self.dev_losses.append(logs['eval_loss'])\n",
    "\n",
    "# Step 1: Instantiate the custom callback\n",
    "losses_callback = LossesCallback()"
   ]
  },
  {
   "cell_type": "code",
   "execution_count": 63,
   "metadata": {},
   "outputs": [],
   "source": [
    "# Step 2: Modify TrainingArguments to log losses during training\n",
    "training_args = TrainingArguments(\n",
    "    output_dir='./results',\n",
    "    eval_strategy=\"epoch\",  # Evaluate after each epoch\n",
    "    save_strategy=\"epoch\",  # Save model at each epoch\n",
    "    save_total_limit=2,  # Keep last 2 checkpoints\n",
    "    learning_rate=5e-5,\n",
    "    per_device_train_batch_size=2,\n",
    "    per_device_eval_batch_size=2,\n",
    "    num_train_epochs=6,\n",
    "    weight_decay=0.01,\n",
    "    logging_dir='./logs',\n",
    "    logging_steps=10,  # Log every 10 steps\n",
    "    report_to=\"tensorboard\",  # Optional: To use TensorBoard for more advanced plotting\n",
    ")\n",
    "\n",
    "# Step 3: Create Trainer with the custom callback\n",
    "trainer = Trainer(\n",
    "    model=model,\n",
    "    args=training_args,\n",
    "    train_dataset=train_sample,\n",
    "    eval_dataset=dev_sample,\n",
    "    compute_metrics=compute_metrics,\n",
    "    callbacks=[losses_callback]  # Add the callback to store losses\n",
    ")"
   ]
  },
  {
   "cell_type": "code",
   "execution_count": 64,
   "metadata": {},
   "outputs": [
    {
     "data": {
      "text/html": [
       "\n",
       "    <div>\n",
       "      \n",
       "      <progress value='112' max='222' style='width:300px; height:20px; vertical-align: middle;'></progress>\n",
       "      [112/222 02:20 < 02:20, 0.78 it/s, Epoch 3/6]\n",
       "    </div>\n",
       "    <table border=\"1\" class=\"dataframe\">\n",
       "  <thead>\n",
       " <tr style=\"text-align: left;\">\n",
       "      <th>Epoch</th>\n",
       "      <th>Training Loss</th>\n",
       "      <th>Validation Loss</th>\n",
       "      <th>Accuracy</th>\n",
       "      <th>Precision</th>\n",
       "      <th>Recall</th>\n",
       "      <th>F1</th>\n",
       "    </tr>\n",
       "  </thead>\n",
       "  <tbody>\n",
       "    <tr>\n",
       "      <td>1</td>\n",
       "      <td>1.141600</td>\n",
       "      <td>1.112098</td>\n",
       "      <td>0.360000</td>\n",
       "      <td>0.129600</td>\n",
       "      <td>0.360000</td>\n",
       "      <td>0.190588</td>\n",
       "    </tr>\n",
       "    <tr>\n",
       "      <td>2</td>\n",
       "      <td>0.977600</td>\n",
       "      <td>0.979429</td>\n",
       "      <td>0.560000</td>\n",
       "      <td>0.606364</td>\n",
       "      <td>0.560000</td>\n",
       "      <td>0.546860</td>\n",
       "    </tr>\n",
       "  </tbody>\n",
       "</table><p>\n",
       "    <div>\n",
       "      \n",
       "      <progress value='12' max='13' style='width:300px; height:20px; vertical-align: middle;'></progress>\n",
       "      [12/13 00:02 < 00:00, 3.74 it/s]\n",
       "    </div>\n",
       "    "
      ],
      "text/plain": [
       "<IPython.core.display.HTML object>"
      ]
     },
     "metadata": {},
     "output_type": "display_data"
    },
    {
     "data": {
      "text/plain": [
       "TrainOutput(global_step=222, training_loss=0.4861600384502126, metrics={'train_runtime': 364.4867, 'train_samples_per_second': 1.202, 'train_steps_per_second': 0.609, 'total_flos': 115244711682048.0, 'train_loss': 0.4861600384502126, 'epoch': 6.0})"
      ]
     },
     "execution_count": 64,
     "metadata": {},
     "output_type": "execute_result"
    }
   ],
   "source": [
    "trainer.train()"
   ]
  },
  {
   "cell_type": "code",
   "execution_count": 65,
   "metadata": {},
   "outputs": [
    {
     "data": {
      "image/png": "[encoded data removed]",
      "text/plain": [
       "<Figure size 720x432 with 1 Axes>"
      ]
     },
     "metadata": {
      "needs_background": "light"
     },
     "output_type": "display_data"
    }
   ],
   "source": [
    "# Step 5: Plot the training and development losses\n",
    "epochs = list(range(1, len(losses_callback.train_losses) + 1))  # Create an array for epochs (assuming one log per epoch)\n",
    "\n",
    "# Ensure both training and development losses are the same length\n",
    "min_len = min(len(losses_callback.train_losses), len(losses_callback.dev_losses))\n",
    "\n",
    "plt.figure(figsize=(10, 6))\n",
    "plt.plot(epochs[:min_len], losses_callback.train_losses[:min_len], label=\"Training Loss\", marker='o', linestyle='-', color='b')\n",
    "plt.plot(epochs[:min_len], losses_callback.dev_losses[:min_len], label=\"Development Loss\", marker='o', linestyle='--', color='r')\n",
    "plt.xlabel(\"Epochs\")\n",
    "plt.ylabel(\"Loss\")\n",
    "plt.title(\"Training and Development Loss per Epoch\")\n",
    "plt.legend()\n",
    "plt.grid(True)\n",
    "plt.show()"
   ]
  },
  {
   "cell_type": "code",
   "execution_count": null,
   "metadata": {},
   "outputs": [],
   "source": [
    "# Evaluate on the train set\n",
    "train_results = trainer.evaluate(train_data)\n",
    "# Print loss and accuracy\n",
    "print(f\"Train Loss: {train_results['eval_loss']:.4f}\")\n",
    "print(f\"Train Accuracy: {train_results['eval_accuracy']:.4f}\")  # Accuracy from compute_metrics\n",
    "# Evaluate on the dev set\n",
    "dev_results = trainer.evaluate(dev_data)\n",
    "# Print loss and accuracy\n",
    "print(f\"Dev Loss: {dev_results['eval_loss']:.4f}\")\n",
    "print(f\"Dev Accuracy: {dev_results['eval_accuracy']:.4f}\")  # Accuracy from compute_metrics"
   ]
  },
  {
   "cell_type": "code",
   "execution_count": 66,
   "metadata": {},
   "outputs": [
    {
     "data": {
      "text/html": [
       "\n",
       "    <div>\n",
       "      \n",
       "      <progress value='35' max='79' style='width:300px; height:20px; vertical-align: middle;'></progress>\n",
       "      [35/79 00:08 < 00:10, 4.12 it/s]\n",
       "    </div>\n",
       "    "
      ],
      "text/plain": [
       "<IPython.core.display.HTML object>"
      ]
     },
     "metadata": {},
     "output_type": "display_data"
    },
    {
     "name": "stdout",
     "output_type": "stream",
     "text": [
      "Test Loss: 1.7990\n",
      "Test Accuracy: 0.6076\n"
     ]
    }
   ],
   "source": [
    "# Evaluate on the test set\n",
    "test_results = trainer.evaluate(test_data)\n",
    "\n",
    "# Print loss and accuracy\n",
    "print(f\"Test Loss: {test_results['eval_loss']:.4f}\")\n",
    "print(f\"Test Accuracy: {test_results['eval_accuracy']:.4f}\")  # Accuracy from compute_metrics"
   ]
  }
 ],
 "metadata": {
  "kernelspec": {
   "display_name": "Python 3",
   "language": "python",
   "name": "python3"
  },
  "language_info": {
   "codemirror_mode": {
    "name": "ipython",
    "version": 3
   },
   "file_extension": ".py",
   "mimetype": "text/x-python",
   "name": "python",
   "nbconvert_exporter": "python",
   "pygments_lexer": "ipython3",
   "version": "3.9.12"
  },
  "orig_nbformat": 4
 },
 "nbformat": 4,
 "nbformat_minor": 2
}
