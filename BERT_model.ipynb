{
 "cells": [
  {
   "attachments": {},
   "cell_type": "markdown",
   "metadata": {},
   "source": [
    "## BERT model:"
   ]
  },
  {
   "cell_type": "code",
   "execution_count": 47,
   "metadata": {},
   "outputs": [
    {
     "name": "stderr",
     "output_type": "stream",
     "text": [
      "[nltk_data] Downloading package punkt to\n",
      "[nltk_data]     /Users/benjaminward/nltk_data...\n",
      "[nltk_data]   Package punkt is already up-to-date!\n"
     ]
    }
   ],
   "source": [
    "# For retrieving the clauses and labels.\n",
    "import os\n",
    "import json\n",
    "# For the duplicates\n",
    "from collections import defaultdict, Counter\n",
    "# For BERT\n",
    "import torch\n",
    "import numpy as np\n",
    "from datasets import load_dataset, Dataset\n",
    "from sklearn.model_selection import train_test_split\n",
    "from transformers import BertTokenizer, BertForSequenceClassification, Trainer, TrainingArguments, TrainerCallback\n",
    "from sklearn.metrics import accuracy_score, classification_report\n",
    "# For deduplication\n",
    "import nltk\n",
    "from nltk.util import ngrams\n",
    "from sklearn.feature_extraction.text import ENGLISH_STOP_WORDS\n",
    "nltk.download('punkt')\n",
    "# For metrics\n",
    "from sklearn.metrics import accuracy_score, precision_score, recall_score, f1_score\n",
    "# For plots \n",
    "import matplotlib.pyplot as plt"
   ]
  },
  {
   "attachments": {},
   "cell_type": "markdown",
   "metadata": {},
   "source": [
    "### 1. Extracting the individual clauses and labels"
   ]
  },
  {
   "attachments": {},
   "cell_type": "markdown",
   "metadata": {},
   "source": [
    "#### a. Data extraction"
   ]
  },
  {
   "cell_type": "code",
   "execution_count": 48,
   "metadata": {},
   "outputs": [
    {
     "name": "stdout",
     "output_type": "stream",
     "text": [
      "⚠️ WARNING: 'clauses' list is empty in 'RESEARCHCHEMAIAL SWITZERLAND/clauses.json'\n",
      "⚠️ WARNING: 'clauses' list is empty in 'Kink.com/clauses.json'\n",
      "\n",
      "✅ Extracted 14407 clause-rating pairs from the first two companies.\n",
      "\n",
      "('Instead of asking directly, this Service will assume your consent merely from your usage.', 'bad')\n",
      "('This service tracks which web page referred you to it', 'bad')\n",
      "('The service can sell or otherwise transfer your personal data as part of a bankruptcy proceeding or other type of financial transaction.', 'bad')\n",
      "('You must provide your legal name, pseudonyms are not allowed', 'bad')\n",
      "('This service employs third-party cookies, but with opt-out instructions', 'bad')\n"
     ]
    }
   ],
   "source": [
    "data_dir = \"data\"  # Data directory containing company folders\n",
    "clause_pairs = []\n",
    "\n",
    "# Step 1: Check if data directory exists\n",
    "if not os.path.exists(data_dir):\n",
    "    print(f\"❌ ERROR: Data directory '{data_dir}' does not exist.\")\n",
    "    exit()\n",
    "\n",
    "# Step 2: Initialize a counter for the companies\n",
    "company_counter = 0\n",
    "\n",
    "# Step 3: Loop through all company folders inside the data directory\n",
    "for company in os.listdir(data_dir):\n",
    "    company_path = os.path.join(data_dir, company)\n",
    "\n",
    "    # Check if it's a directory (company folder)\n",
    "    if os.path.isdir(company_path):\n",
    "        clause_file = os.path.join(company_path, \"clauses.json\")\n",
    "\n",
    "        # Step 4: Check if clauses.json exists\n",
    "        if not os.path.isfile(clause_file):\n",
    "            print(f\"❌ ERROR: 'clauses.json' not found in '{company}' folder\")\n",
    "            continue\n",
    "\n",
    "        try:\n",
    "            # Step 5: Check if clauses.json is valid JSON\n",
    "            with open(clause_file, \"r\", encoding=\"utf-8\") as f:\n",
    "                data = json.load(f)\n",
    "\n",
    "            # Step 6: Check if 'clauses' key exists\n",
    "            if \"clauses\" not in data:\n",
    "                print(f\"⚠️ WARNING: No 'clauses' key found in '{company}/clauses.json'\")\n",
    "                continue\n",
    "\n",
    "            clauses = data[\"clauses\"]\n",
    "            if not clauses:\n",
    "                print(f\"⚠️ WARNING: 'clauses' list is empty in '{company}/clauses.json'\")\n",
    "                continue\n",
    "\n",
    "            # Step 7: Extract (title, rating) pairs\n",
    "            for clause in clauses:\n",
    "                title = clause.get(\"title\", \"\").strip() if clause.get(\"title\") else \"\"\n",
    "                rating = clause.get(\"rating\", \"\").strip() if clause.get(\"rating\") else \"\"\n",
    "\n",
    "                if title and rating:\n",
    "                    clause_pairs.append((title, rating))\n",
    "                else:\n",
    "                    print(f\"⚠️ WARNING: Skipping a clause in '{company}' due to missing title or rating.\")\n",
    "        \n",
    "        except json.JSONDecodeError:\n",
    "            print(f\"❌ ERROR: Invalid JSON in '{company}/clauses.json'\")\n",
    "\n",
    "        # Step 8: Stop after the first 2 companies\n",
    "        company_counter += 1\n",
    "        if company_counter >= 900:\n",
    "            break  # Exit the loop after processing the first two companies\n",
    "\n",
    "# Final results\n",
    "print(f\"\\n✅ Extracted {len(clause_pairs)} clause-rating pairs from the first two companies.\\n\")\n",
    "for pair in clause_pairs[:5]:  # Print first 5 for checking\n",
    "    print(pair)\n"
   ]
  },
  {
   "attachments": {},
   "cell_type": "markdown",
   "metadata": {},
   "source": [
    "#### b. Duplicate analysis"
   ]
  },
  {
   "cell_type": "code",
   "execution_count": 49,
   "metadata": {},
   "outputs": [
    {
     "name": "stdout",
     "output_type": "stream",
     "text": [
      "⚠️ WARNING: 'clauses' list is empty in 'RESEARCHCHEMAIAL SWITZERLAND/clauses.json'\n",
      "⚠️ WARNING: 'clauses' list is empty in 'Kink.com/clauses.json'\n"
     ]
    }
   ],
   "source": [
    "clause_pairs = []  # Reset to include folder info\n",
    "\n",
    "# Step 3: Loop through all company folders inside the data directory\n",
    "for company in os.listdir(data_dir):\n",
    "    company_path = os.path.join(data_dir, company)\n",
    "\n",
    "    if os.path.isdir(company_path):\n",
    "        clause_file = os.path.join(company_path, \"clauses.json\")\n",
    "\n",
    "        if not os.path.isfile(clause_file):\n",
    "            print(f\"❌ ERROR: 'clauses.json' not found in '{company}' folder\")\n",
    "            continue\n",
    "\n",
    "        try:\n",
    "            with open(clause_file, \"r\", encoding=\"utf-8\") as f:\n",
    "                data = json.load(f)\n",
    "\n",
    "            if \"clauses\" not in data:\n",
    "                print(f\"⚠️ WARNING: No 'clauses' key found in '{company}/clauses.json'\")\n",
    "                continue\n",
    "\n",
    "            clauses = data[\"clauses\"]\n",
    "            if not clauses:\n",
    "                print(f\"⚠️ WARNING: 'clauses' list is empty in '{company}/clauses.json'\")\n",
    "                continue\n",
    "\n",
    "            # Store (title, rating, folder)\n",
    "            for clause in clauses:\n",
    "                title = clause.get(\"title\", \"\").strip() if clause.get(\"title\") else \"\"\n",
    "                rating = clause.get(\"rating\", \"\").strip() if clause.get(\"rating\") else \"\"\n",
    "\n",
    "                if title and rating:\n",
    "                    clause_pairs.append((title, rating, company))  # Store the folder name\n",
    "                else:\n",
    "                    print(f\"⚠️ WARNING: Skipping a clause in '{company}' due to missing title or rating.\")\n",
    "\n",
    "        except json.JSONDecodeError:\n",
    "            print(f\"❌ ERROR: Invalid JSON in '{company}/clauses.json'\")\n"
   ]
  },
  {
   "cell_type": "code",
   "execution_count": 50,
   "metadata": {},
   "outputs": [
    {
     "name": "stdout",
     "output_type": "stream",
     "text": [
      "\n",
      "🔍 Top 10 most duplicated clause-rating pairs:\n",
      "Clause: There is a date of the last update of the agreements\n",
      "Rating: neutral\n",
      "Occurrences: 198\n",
      "Found in folders: The Movie Database (TMDb), Dropbox, Encyclopedia Britannica, Represent, Credit Karma, Nextcloud, Google Chrome, CouchSurfing, Astronomer, Follow My Health, Prezi, Vox Media, Flickr, Twitch, Busuu, Swiss Government, Samsung, TourOfCalifornia.org, Pinterest, Elk.zone, Yahoo!, Schoology, Microspot, Bilibili, Free Software Foundation, FairTec, FaceApp, Reddit, ePlus Technology, Le Monde, Codeberg, Tuta, Brave, Canvas, hCaptcha, Dark Reader, Toggl Track, BFM TV, Douban, How-To Geek, Simitless, Gfycat, Fedora, Pantip.com, Heaven HR, Nslookup, Parler, Notion, Weatheralex1 Hub, SpanishDict, Arch Linux, Free, Forbes, The Filipino Channel, Weblate, ptgms Industries, STiBaRC, Guilded, Guiding Tech, Minecraft, Disney+, Speedtest by Ookla, Odysee, Eltiempo.es, Privacy.com, Waterfox, Brilliant, Xiaomi, APK Pure, Calendly, ADT, OsmAnd, JojoYou (PriEco), Free Code Camp, Open Collective, MuseScore, GoDaddy, YNAB. (You Need a Budget), Uber, Cisco, CNN, Selfie2Anime, xda-developers, VPN.AC, Enpass, Among Us, Translate, FreeTube, Wallapop, Symbaloo, Google, Booking.com, Tubi, iFunny, Zoho, F-List, Condé Nast, NBC News, Recipe Realm, SpigotMC, Flipboard, BudgetBakers, Replika, Consumer News & Business Channel, Washington Post, Instagram, Wise, TechByte Net, IVPN, Skillshare, WikiTree, KDE, Conjuguemos, Authy (Twilio), Merriam-Webster, SpaceHey, GlobaliD, ClassDojo, RethinkDNS, Mozilla Thunderbird, TubeBuddy, Future PLC, Lichess, Le Soir, LBRY, Avast, Deveroonie.xyz, iCloud, DeviantArt, Malwarebytes, Metager, Prisma Media, Vivaldi, Crain's Chicago Business, Disroot, Getty Images, MobyGames, Gather Town, GeeksforGeeks, The Walt Disney Company, FanFiction, mastodon.social, Jitsi, Le Parisien, MySudo, Netflix, eBuddy, Cryptomator, Le Bon Coin, Apple Services, Unity, ShortcutWorld.com, Yello, BBVA, Headspace, kik-messenger, HideMyAss!, Zoom Video Communications, PayPal, Roadtrip Nation, Mega, OpenStreetMap, MyAnimeList, Marmiton, Archive of Our Own, Leetify, Opera, Orange, Vercel, Gettr, Huawei, Tumblr, Однокла́ссники (Ok.ru), Strava, EthanMcBloxxer, CodeSandbox, Alibaba, Gap Creek Media, Audacity, Linguee, Medium, DrugBank, Fedora Email, NordVPN, Wish, ProtonVPN, Jeuxvideo.com\n",
      "--------------------------------------------------------------------------------\n",
      "Clause: You are responsible for maintaining the security of your account and for the activities on your account\n",
      "Rating: neutral\n",
      "Occurrences: 189\n",
      "Found in folders: FileFactory, Ouigo, Element, Credit Karma, Nextcloud, SC Johnson, CouchSurfing, Burger King, Letterboxd, Follow My Health, Prezi, GitHub, Twitch, Busuu, Wishlist, Turnitin, Pinterest, Kahoot!, Doodle, ASKfm, Tinder, ExpressVPN, Mailfence, likee, Bilibili, FaceApp, Reddit, Artspace, DiscourseHosting, Le Monde, Codeberg, Brainly, Sync, IMDb, Filen, hCaptcha, Dailymotion, Search Encrypt, SourceHut, MeWe, Wattpad, Douban, Wolt, Liberapay, Gfycat, 23andMe, Collins Dictionary, Rofkin, Forbes, The Filipino Channel, Waze, Blizzard, Scratch, Guilded, Pexgle, Minecraft, Disney+, Speedtest by Ookla, Atlassian, BetterHelp, Privacy.com, X, Brilliant, Team SDS, Slack, Icedrive, Calendly, matrix.org, Free Code Camp, Vimeo, Fox News, Xfinity, El País, Open Collective, Duolingo, Cisco, CNN, Fivestars, Selfie2Anime, xda-developers, Canva, Chapril, Qwant, Translate, Wallapop, Symbaloo, PureVPN, ViacomCBS, Khan Academy, Veepn, Google, SourceForge, YTMP3.CC, Porton Private Cloudstorage, Signal, CNED, Pearltrees, Tubi, Instructure, F-List, Smartmessages, Fiverr, Yuka, SpigotMC, El Mundo (Spain), BudgetBakers, Replika, Washington Post, Spotify, Coinbase, Wise, Redbubble, HP | Hewlett-Packard, Yleisradio, Discogs, VKontakte, InfinityFree, Authy (Twilio), Merriam-Webster, Genius, Foursquare, Alan Thomson Simulation, Future PLC, Kongregate, Patook, WhatsApp, Discovery, Observable, DeviantArt, Malwarebytes, Simply Earth, WordReference, WikiHow, Profilic, Firefox Cloud Services, Doctolib, Getty Images, Ziff Davis, The Walt Disney Company, Quizlet, FanFiction, Le Parisien, Goodreads, Disqus, Netflix, webmail, Pico, Remind, FamilyTreeDNA, Unity, HuffPost, Minds, Amazon AWS, National Geographic, Zoom Video Communications, Bitwarden, OpenAI, PayPal, Roadtrip Nation, Mega, OpenStreetMap, Stingle Photos, MyAnimeList, UptimeRobot, Dendreo, Leetify, Opera, Bandcamp, Crunchyroll, New York Times, Vercel, Gettr, Fandango, McDonald's, Huawei, Strava, Alibaba, Metacafe, AliExpress, CollegeBoard, DrugBank, Riot Games (League of Legends), Medscape, Fedora Email, NordVPN\n",
      "--------------------------------------------------------------------------------\n",
      "Clause: The service is provided 'as is' and to be used at the users' sole risk\n",
      "Rating: neutral\n",
      "Occurrences: 188\n",
      "Found in folders: FileFactory, Dropbox, Element, Encyclopedia Britannica, Microsoft Services, edX, Rumble, Quora, W3Schools, Follow My Health, Session, Prezi, GitHub, Vox Media, Twitch, Presearch, Turnitin, FastMail, Pinterest, Steam, Yahoo!, Schoology, Kahoot!, Healthline, Doodle, ASKfm, ExpressVPN, Mailfence, likee, Bilibili, YouTube, Artspace, Reddit, Le Monde, Codeberg, Meredith, RiseUp.net, Brainly, Sync, Brave, Yandex, hCaptcha, Dailymotion, Search Encrypt, Wattpad, Gfycat, BitChute, Parler, ISODME, Weatheralex1 Hub, Forbes, Waze, Blizzard, Scratch, Guilded, Pexgle, Guiding Tech, Minecraft, CyberGhost, BetterHelp, X, Slack, Urban Dictionary, ADT, Free Code Camp, Vimeo, pCloud, Wikimedia, AirVPN, Xfinity, Nulled, GoDaddy, Surfshark, Cisco, CNN, Fivestars, xda-developers, VPN.AC, Chapril, Enpass, Kaspersky, Khan Academy, SourceForge, YTMP3.CC, Amazon, Shopify, Signal, F-Droid, CNED, Attendify, Open Humans, iFunny, Instructure, Hacker Wars, NBC News, United States Postal Service, Smartmessages, Fiverr, BudgetBakers, Consumer News & Business Channel, Washington Post, OneSignal, Instagram, Tripadvisor, Coinbase, IVPN, Bitly, Instabridge, LinkedIn, WikiTree, Heroku, Signal Stickers, VKontakte, Authy (Twilio), Merriam-Webster, Wikipedia, Genius, Foursquare, Future PLC, Ting Inc., Kongregate, Patreon, LBRY, Patook, Avast, WhatsApp, Discovery, Observable, DeviantArt, Internet Archive, AnonAddy, Simply Earth, Vivaldi, Adobe Services, WikiHow, Crain's Chicago Business, Firefox Cloud Services, XE.com, Alzforum, MobyGames, The Walt Disney Company, Quizlet, KidzSearch, FanFiction, Jitsi, Goodreads, eBay, WeMod, Le Parisien, Pure Dating, Disqus, MySudo, eBuddy, webmail, Virtual World Computing Cocoon MyData Rewards, SparkNotes, Apple Services, Unity, HuffPost, ShortcutWorld.com, HideMyAss!, Amazon AWS, BlueMail, Zoom Video Communications, Bitwarden, Mega, OpenStreetMap, Ryver, Archive of Our Own, Dendreo, Bandcamp, Fandango, New York Times, LightyearVPN, Huawei, Tumblr, Однокла́ссники (Ok.ru), Strava, Upcloud, Ubisoft, McDonald's, DrugBank, Riot Games (League of Legends), Medscape, NordVPN, ProtonVPN, Pornhub\n",
      "--------------------------------------------------------------------------------\n",
      "Clause: This service assumes no liability for any losses or damages resulting from any matter relating to the service\n",
      "Rating: neutral\n",
      "Occurrences: 187\n",
      "Found in folders: FileFactory, Ouigo, Dropbox, Element, Encyclopedia Britannica, Represent, edX, Cloudflare, Rumble, Session, Prezi, GitHub, Busuu, Presearch, TourOfCalifornia.org, Pinterest, Google Analytics, Yahoo!, Healthline, ASKfm, ExpressVPN, Mailfence, likee, FaceApp, Reddit, Artspace, DiscourseHosting, Le Monde, Meredith, RiseUp.net, Tickets Plus, Houseparty, Sync, IMDb, Brave, Blooket, hCaptcha, Dailymotion, Search Encrypt, SourceHut, Wattpad, Gfycat, Nslookup, BitChute, Parler, Rofkin, Weatheralex1 Hub, SpanishDict, Listudy, The Filipino Channel, Weblate, Blizzard, Guilded, Pexgle, Guiding Tech, Disney+, Speedtest by Ookla, Odysee, X, Privacy.com, Truth Social, Brilliant, APK Pure, Calendly, Urban Dictionary, ADT, matrix.org, JojoYou (PriEco), Vimeo, AirVPN, Nulled, GoDaddy, YNAB. (You Need a Budget), Cisco, Fivestars, xda-developers, Creative Commons, Qwant, Enpass, Among Us, Translate, Symbaloo, PureVPN, Khan Academy, Veepn, Google, SourceForge, YTMP3.CC, Shopify, Signal, Booking.com, Attendify, Tubi, iFunny, Instructure, t2bot.io, United States Postal Service, Fiverr, Flipboard, Replika, Washington Post, Instagram, Tripadvisor, Coinbase, Redbubble, HP | Hewlett-Packard, IVPN, Instabridge, LinkedIn, Heroku, VKontakte, Meower, Authy (Twilio), Merriam-Webster, ClassDojo, Alan Thomson Simulation, Future PLC, Ting Inc., Patreon, LBRY, Patook, Avast, Index Education, Discovery, Observable, DeviantArt, Malwarebytes, AnonAddy, Vivaldi, Adobe Services, WikiHow, Crain's Chicago Business, Profilic, XE.com, Alzforum, Getty Images, MobyGames, Gather Town, USSeek, The Walt Disney Company, Wickr Me, KidzSearch, Le Parisien, Jitsi, Goodreads, eBay, WeMod, WeTransfer, Pure Dating, Open Source Initiative, MySudo, eBuddy, webmail, Remind, Le Bon Coin, Tresorit, FamilyTreeDNA, HuffPost, ShortcutWorld.com, HideMyAss!, Anonfiles, OpenAI, Zoom Video Communications, Stingle Photos, Mega, OpenStreetMap, Ryver, Leetify, Opera, Crunchyroll, Gettr, McDonald's, Huawei, Однокла́ссники (Ok.ru), YouGov, Strava, CodeSandbox, Alibaba, Metacafe, Audacity, DrugBank, Riot Games (League of Legends), Medscape, NordVPN, Wish, Jeuxvideo.com, W3Schools\n",
      "--------------------------------------------------------------------------------\n",
      "Clause: The service provider makes no warranty regarding uninterrupted, timely, secure or error-free service\n",
      "Rating: neutral\n",
      "Occurrences: 178\n",
      "Found in folders: FileFactory, Adventurer's Codex, Ableton, BBC, Element, Represent, Microsoft Services, edX, Rumble, Burger King, Session, Prezi, GitHub, Vox Media, Presearch, TourOfCalifornia.org, Steam, Yahoo!, Schoology, Healthline, Doodle, ExpressVPN, Bilibili, FaceApp, YouTube, Artspace, Reddit, Le Monde, RiseUp.net, Brainly, Sync, Yandex, hCaptcha, Dailymotion, Douban, Wolt, Simitless, Liberapay, Gfycat, BitChute, 23andMe, Listudy, The Filipino Channel, Waze, Blizzard, Scratch, Guilded, Pexgle, Guiding Tech, Minecraft, Speedtest by Ookla, Vouchley, Eltiempo.es, CyberGhost, BetterHelp, Privacy.com, X, Truth Social, Brilliant, Icedrive, Urban Dictionary, matrix.org, OsmAnd, pCloud, Vimeo, V.H. Hess, Wikimedia, AirVPN, Xfinity, El País, Surfshark, YNAB. (You Need a Budget), Uber, CNN, Fivestars, Marca, xda-developers, Qwant, Enpass, Among Us, Translate, PureVPN, Khan Academy, Veepn, SourceForge, Porton Private Cloudstorage, Signal, Shopify, CNED, Pearltrees, Tubi, iFunny, Viagogo, F-List, Hacker Wars, t2bot.io, United States Postal Service, Smartmessages, El Mundo (Spain), Consumer News & Business Channel, Washington Post, TikTok, Instagram, Coinbase, Redbubble, HP | Hewlett-Packard, IVPN, LinkedIn, Skillshare, Signal Stickers, Discogs, InfinityFree, Meower, Wikipedia, ClassDojo, Future PLC, Ting Inc., Le Figaro, LBRY, Avast, WhatsApp, Discovery, Observable, DeviantArt, Simply Earth, Vivaldi, WikiHow, MobyGames, Wickr Me, Jitsi, WeMod, WeTransfer, Pure Dating, Bumble, Open Source Initiative, Disqus, eBuddy, webmail, Virtual World Computing Cocoon MyData Rewards, SparkNotes, Le Bon Coin, MIT App Inventor, Apple Services, Unity, HuffPost, ShortcutWorld.com, Headspace, HideMyAss!, National Geographic, Anonfiles, Zoom Video Communications, Bitwarden, OpenAI, Stingle Photos, Mega, OpenStreetMap, MyAnimeList, Ryver, Archive of Our Own, Crunchyroll, New York Times, Vercel, Gettr, Ubisoft, Tumblr, Однокла́ссники (Ok.ru), McDonald's, Strava, Upcloud, CodeSandbox, Alibaba, DrugBank, NordVPN, Wish, Synonymo, W3Schools\n",
      "--------------------------------------------------------------------------------\n",
      "Clause: You can opt out of promotional communications\n",
      "Rating: good\n",
      "Occurrences: 169\n",
      "Found in folders: FileFactory, Adventurer's Codex, Dropbox, BBC, Encyclopedia Britannica, Represent, IKEA, Nextcloud, Rumble, CouchSurfing, Quora, Prezi, Twitch, FastMail, Pinterest, Steam, Kahoot!, Healthline, Microspot, ExpressVPN, Free Software Foundation, FaceApp, Reddit, Artspace, LibreOffice, Le Monde, Meredith, Search Encrypt, SourceHut, Wattpad, Wolt, Gfycat, Heaven HR, Parler, Collins Dictionary, 23andMe, ISODME, SpanishDict, WordPress.org, The Filipino Channel, Weblate, Moodle, Pexgle, Guiding Tech, Disney+, Speedtest by Ookla, Atlassian, Odysee, Eltiempo.es, Amazon Prime Video, Amnesty International Limited (UK), X, Privacy.com, Truth Social, Brilliant, Xiaomi, BlaBlaCar, Calendly, Open Collective, MuseScore, Duolingo, GoDaddy, SmartNews, Cisco, Fivestars, xda-developers, Creative Commons, Canva, Qwant, Enpass, Symbaloo, Startpage, PureVPN, privacypolicies.com, Kaspersky, ViacomCBS, Khan Academy, SourceForge, Amazon, El Mundo (El Salvador), Booking.com, Attendify, Tubi, iFunny, Instructure, Zoho, Condé Nast, United States Postal Service, Fiverr, Flipboard, Pocket, Washington Post, OneSignal, Hacking with Swift, Coinbase, Redbubble, HP | Hewlett-Packard, Yleisradio, L'Equipe, Authy (Twilio), Merriam-Webster, Mozilla.org, Genius, Swisscows, Foursquare, Alan Thomson Simulation, Future PLC, Ting Inc., Le Figaro, Le Soir, LBRY, Discovery, DeviantArt, Standard Notes, Malwarebytes, Simply Earth, Vivaldi, Adobe Services, WikiHow, Clockify, Crain's Chicago Business, Profilic, Firefox Cloud Services, XE.com, Alzforum, Stack Overflow, MobyGames, Ziff Davis, GeeksforGeeks, The Walt Disney Company, Goodreads, eBay, WeMod, Open Source Initiative, Disqus, MySudo, Netflix, Pico, Unity, BBVA, Headspace, kik-messenger, BitDefender, HideMyAss!, BlueMail, Zoom Video Communications, PayPal, Stingle Photos, Mega, UptimeRobot, Opera, Bandcamp, Crunchyroll, KeyMe, Vercel, Gettr, Huawei, Tumblr, Однокла́ссники (Ok.ru), CodeSandbox, CollegeBoard, Medium, Riot Games (League of Legends), NordVPN, Wish, ProtonVPN, Jeuxvideo.com\n",
      "--------------------------------------------------------------------------------\n",
      "Clause: You have the right to leave this service at any time\n",
      "Rating: good\n",
      "Occurrences: 169\n",
      "Found in folders: Ableton, Dropbox, BBC, Represent, edX, The Session, Nextcloud, Google Chrome, Astronomer, Follow My Health, GitHub, Twitch, Busuu, Presearch, Samsung, FastMail, Google Analytics, Healthline, ASKfm, Mailfence, likee, YouTube, Reddit, LibreOffice, DiscourseHosting, Le Monde, Codeberg, Line Corporation, RiseUp.net, Houseparty, Sync, Brave, hCaptcha, MeWe, Wattpad, Wolt, Liberapay, Nslookup, BitChute, Parler, 23andMe, Rofkin, SpanishDict, Listudy, Waze, Guilded, Pexgle, Minecraft, Disney+, Odysee, CyberGhost, X, Privacy.com, Brilliant, Slack, V.H. Hess, Free Code Camp, Vimeo, pCloud, Xfinity, GoDaddy, Chapril, PureVPN, Kaspersky, Khan Academy, Roblox, Google, Porton Private Cloudstorage, Signal, Pearltrees, Tubi, Open Humans, Bereal, Instructure, Hulu, zmudzinski.me Personal Blog (DEPRECATED), United States Postal Service, Smartmessages, Yuka, Replika, Consumer News & Business Channel, OneSignal, Instagram, Tripadvisor, Coinbase, Redbubble, HP | Hewlett-Packard, SpiderOak, Brax.Me, Instabridge, LinkedIn, WikiTree, Heroku, Discogs, Meower, Conjuguemos, Authy (Twilio), Wikipedia, ClassDojo, Foursquare, Snapchat, Ting Inc., Kongregate, Patreon, LBRY, Patook, iCloud, Observable, Standard Notes, Malwarebytes, Prisma Media, AnonAddy, Privacy Guides, Vivaldi, Adobe Services, Pixel8Earth, Clockify, Firefox Cloud Services, Diario AS, Stack Overflow, ToS;DR Phoenix, The Walt Disney Company, Wickr Me, Quizlet, mastodon.social, Jitsi, Bumble, Facebook, MySudo, Netflix, eBuddy, Remind, Virtual World Computing Cocoon MyData Rewards, Crowdmark, Apple Services, Tresorit, FamilyTreeDNA, Unity, HuffPost, Yello, OpenAI, Bitwarden, Zoom Video Communications, PayPal, Stingle Photos, Mega, OpenStreetMap, Dendreo, Opera, Bandcamp, Crunchyroll, New York Times, Vercel, Gettr, LightyearVPN, Tumblr, Однокла́ссники (Ok.ru), Ubisoft, Strava, Upcloud, CodeSandbox, McDonald's, YouGov, Metacafe, Audacity, Medium, Fedora Email, NordVPN, Wish\n",
      "--------------------------------------------------------------------------------\n",
      "Clause: This service gives your personal data to third parties involved in its operation\n",
      "Rating: bad\n",
      "Occurrences: 161\n",
      "Found in folders: FileFactory, Realestate.com.au, Ouigo, Element, Encyclopedia Britannica, Represent, Credit Karma, Microsoft Services, IKEA, Nextcloud, Google Chrome, SC Johnson, Rumble, Linksys, Astronomer, Vox Media, Samsung, Google Analytics, Schoology, Tinder, ExpressVPN, Free Software Foundation, FaceApp, ePlus Technology, Le Monde, Meredith, Line Corporation, IMDb, Yandex, Dailymotion, Wattpad, BFM TV, Wolt, Gfycat, Pantip.com, Heaven HR, Notion, Collins Dictionary, Walmart, Rofkin, SpanishDict, Free, The Filipino Channel, Weblate, Guilded, Pexgle, VPN Hamster, Minecraft, Speedtest by Ookla, Disney+, Odysee, Eltiempo.es, Flatmates, CyberGhost, Privacy.com, Brilliant, BlaBlaCar, Calendly, ADT, matrix.org, Free Code Camp, MuseScore, GoDaddy, Uber, CNN, Selfie2Anime, xda-developers, Movistar, Among Us, Translate, Wallapop, Symbaloo, PureVPN, privacypolicies.com, Kaspersky, ViacomCBS, Veepn, Roblox, Shopify, Booking.com, Météo France, CNED, Pearltrees, iFunny, Bereal, F-List, Condé Nast, Hulu, NBC News, United States Postal Service, Flipboard, BudgetBakers, Neurococi, Washington Post, OneSignal, TikTok, Coinbase, Redbubble, HP | Hewlett-Packard, Instabridge, LinkedIn, L'Equipe, InfinityFree, Conjuguemos, Authy (Twilio), Merriam-Webster, ClassDojo, Gandi, TubeBuddy, Future PLC, Le Figaro, Le Soir, Index Education, iCloud, Discovery, Nvidia, Malwarebytes, Prisma Media, Bing, Clockify, Crain's Chicago Business, Profilic, Alzforum, Getty Images, MobyGames, Gather Town, Ziff Davis, GeeksforGeeks, The Walt Disney Company, mastodon.social, Le Parisien, Open Source Initiative, Pico, Remind, Le Bon Coin, MIT App Inventor, FamilyTreeDNA, Unity, Yello, BBVA, HideMyAss!, Amazon AWS, BlueMail, Zoom Video Communications, Bitwarden, OpenAI, Roadtrip Nation, UptimeRobot, Marmiton, 10minutemail, Leetify, Opera, Orange, Crunchyroll, Tumblr, Однокла́ссники (Ok.ru), YouGov, Alibaba, NordVPN, Wish, Jeuxvideo.com\n",
      "--------------------------------------------------------------------------------\n",
      "Clause: Blocking first party cookies may limit your ability to use the service\n",
      "Rating: neutral\n",
      "Occurrences: 153\n",
      "Found in folders: Ableton, Realestate.com.au, Ouigo, The Movie Database (TMDb), Dropbox, Encyclopedia Britannica, Credit Karma, edX, Rumble, Prezi, GitHub, Flickr, Swiss Government, Samsung, OpenHAB, Steam, Healthline, ExpressVPN, likee, Bilibili, FaceApp, Reddit, Artspace, LibreOffice, ePlus Technology, Le Monde, Sync, hCaptcha, Toggl Track, How-To Geek, Wolt, Gfycat, Fedora, Heaven HR, Parler, Arch Linux, Free, The Filipino Channel, Blizzard, Guilded, VPN Hamster, Speedtest by Ookla, Vouchley, Amazon Prime Video, Eltiempo.es, Flatmates, X, Privacy.com, Waterfox, Brilliant, APK Pure, Urban Dictionary, JojoYou (PriEco), pCloud, Fivestars, Marca, xda-developers, Creative Commons, Canva, Qwant, Among Us, Translate, Telegram, Campus Innovations Kultur, privacypolicies.com, Kaspersky, Khan Academy, Roblox, El Mundo (El Salvador), Shopify, Météo France, CNED, Pearltrees, Tubi, Viagogo, Instructure, Zoho, Hulu, Hinterland Games, NBC News, United States Postal Service, SpigotMC, El Mundo (Spain), Neurococi, Consumer News & Business Channel, Washington Post, TikTok, Instagram, Tripadvisor, Redbubble, HP | Hewlett-Packard, Instabridge, LinkedIn, L'Equipe, Authy (Twilio), Merriam-Webster, TubeBuddy, Foursquare, Snapchat, Alan Thomson Simulation, Future PLC, Le Figaro, Patreon, Le Soir, LBRY, Avast, Index Education, iCloud, WhatsApp, Malwarebytes, Vivaldi, Crain's Chicago Business, Firefox Cloud Services, XE.com, Doctolib, Ziff Davis, GeeksforGeeks, FanFiction, Le Parisien, WeMod, Pure Dating, Facebook, Disqus, Netflix, Unity, Yello, BBVA, Headspace, BitDefender, Amazon AWS, OpenAI, HideMyAss!, PayPal, Mega, MyAnimeList, 10minutemail, Leetify, Orange, Gettr, McDonald's, Alibaba, Gap Creek Media, AliExpress, Linguee, DrugBank, Medium, Riot Games (League of Legends), Medscape, Disney+, Wish\n",
      "--------------------------------------------------------------------------------\n",
      "Clause: The service does not guarantee accuracy or reliability of the information provided\n",
      "Rating: neutral\n",
      "Occurrences: 146\n",
      "Found in folders: FileFactory, BBC, Represent, Credit Karma, Microsoft Services, edX, Rumble, Quora, Burger King, GitHub, Twitch, Busuu, Presearch, Swiss Government, TourOfCalifornia.org, Yahoo!, ASKfm, ExpressVPN, likee, ProtonVPN, Bilibili, YouTube, Artspace, Reddit, Le Monde, Brainly, Canvas, Dailymotion, Search Encrypt, Wattpad, Douban, Wolt, Nslookup, BitChute, Weatheralex1 Hub, The Filipino Channel, Waze, Guiding Tech, Minecraft, Odysee, Eltiempo.es, BetterHelp, Privacy.com, X, BlaBlaCar, ADT, OsmAnd, pCloud, V.H. Hess, Wikimedia, Xfinity, El País, Nulled, Surfshark, Cisco, CNN, Fivestars, Marca, xda-developers, Canva, Qwant, Enpass, Orchid VPN, SourceForge, Signal, Shopify, Tubi, iFunny, F-List, Hacker Wars, t2bot.io, Hinterland Games, United States Postal Service, Fiverr, Cakey Bot, El Mundo (Spain), Consumer News & Business Channel, Washington Post, TikTok, Tripadvisor, Coinbase, HP | Hewlett-Packard, Bitly, InfinityFree, SpaceHey, The MOD Archive, ClassDojo, Foursquare, Ting Inc., LBRY, Patook, Return YouTube Dislike, WhatsApp, Discovery, Observable, Internet Archive, Privacy Guides, Vivaldi, Crain's Chicago Business, XE.com, Alzforum, MobyGames, USSeek, KidzSearch, FanFiction, eBay, WeMod, Pure Dating, Open Source Initiative, Disqus, webmail, Virtual World Computing Cocoon MyData Rewards, SparkNotes, FamilyTreeDNA, HuffPost, ShortcutWorld.com, Minds, BBVA, Headspace, National Geographic, Bitwarden, Zoom Video Communications, Mega, OpenStreetMap, MyAnimeList, Ryver, Archive of Our Own, Opera, Crunchyroll, KeyMe, Fandango, Ubisoft, Huawei, McDonald's, Strava, Alibaba, Metacafe, Audacity, DrugBank, Riot Games (League of Legends), Medscape, NordVPN, Wish, Synonymo, W3Schools\n",
      "--------------------------------------------------------------------------------\n"
     ]
    }
   ],
   "source": [
    "# Count occurrences of each (clause, rating) pair\n",
    "pair_counts = Counter((title, rating) for title, rating, _ in clause_pairs)\n",
    "\n",
    "# Get the top 5 most duplicated pairs\n",
    "most_common_pairs = pair_counts.most_common(10)\n",
    "\n",
    "# Map each (clause, rating) to its folder locations\n",
    "pair_locations = defaultdict(set)\n",
    "for title, rating, folder in clause_pairs:\n",
    "    pair_locations[(title, rating)].add(folder)\n",
    "\n",
    "# Print the results\n",
    "print(\"\\n🔍 Top 10 most duplicated clause-rating pairs:\")\n",
    "for (title, rating), count in most_common_pairs:\n",
    "    folders = list(pair_locations[(title, rating)])  # Convert set to list\n",
    "    print(f\"Clause: {title}\\nRating: {rating}\\nOccurrences: {count}\\nFound in folders: {', '.join(folders)}\")\n",
    "    print(\"-\" * 80)\n"
   ]
  },
  {
   "attachments": {},
   "cell_type": "markdown",
   "metadata": {},
   "source": [
    "#### c. Processing code:"
   ]
  },
  {
   "cell_type": "code",
   "execution_count": 51,
   "metadata": {},
   "outputs": [
    {
     "name": "stdout",
     "output_type": "stream",
     "text": [
      "⚠️ WARNING: 'clauses' list is empty in 'RESEARCHCHEMAIAL SWITZERLAND/clauses.json'\n",
      "⚠️ WARNING: 'clauses' list is empty in 'Kink.com/clauses.json'\n",
      "\n",
      "✅ Extracted 14407 clause-rating pairs from the first two companies.\n",
      "\n",
      "('Instead of asking directly, this Service will assume your consent merely from your usage.', 'bad')\n",
      "('This service tracks which web page referred you to it', 'bad')\n",
      "('The service can sell or otherwise transfer your personal data as part of a bankruptcy proceeding or other type of financial transaction.', 'bad')\n",
      "('You must provide your legal name, pseudonyms are not allowed', 'bad')\n",
      "('This service employs third-party cookies, but with opt-out instructions', 'bad')\n"
     ]
    }
   ],
   "source": [
    "data_dir = \"data\"  # Data directory containing company folders\n",
    "clause_pairs = []\n",
    "\n",
    "# Step 1: Check if data directory exists\n",
    "if not os.path.exists(data_dir):\n",
    "    print(f\"❌ ERROR: Data directory '{data_dir}' does not exist.\")\n",
    "    exit()\n",
    "\n",
    "# Step 2: Initialize a counter for the companies\n",
    "company_counter = 0\n",
    "\n",
    "# Step 3: Loop through all company folders inside the data directory\n",
    "for company in os.listdir(data_dir):\n",
    "    company_path = os.path.join(data_dir, company)\n",
    "\n",
    "    # Check if it's a directory (company folder)\n",
    "    if os.path.isdir(company_path):\n",
    "        clause_file = os.path.join(company_path, \"clauses.json\")\n",
    "\n",
    "        # Step 4: Check if clauses.json exists\n",
    "        if not os.path.isfile(clause_file):\n",
    "            print(f\"❌ ERROR: 'clauses.json' not found in '{company}' folder\")\n",
    "            continue\n",
    "\n",
    "        try:\n",
    "            # Step 5: Check if clauses.json is valid JSON\n",
    "            with open(clause_file, \"r\", encoding=\"utf-8\") as f:\n",
    "                data = json.load(f)\n",
    "\n",
    "            # Step 6: Check if 'clauses' key exists\n",
    "            if \"clauses\" not in data:\n",
    "                print(f\"⚠️ WARNING: No 'clauses' key found in '{company}/clauses.json'\")\n",
    "                continue\n",
    "\n",
    "            clauses = data[\"clauses\"]\n",
    "            if not clauses:\n",
    "                print(f\"⚠️ WARNING: 'clauses' list is empty in '{company}/clauses.json'\")\n",
    "                continue\n",
    "\n",
    "            # Step 7: Extract (title, rating) pairs\n",
    "            for clause in clauses:\n",
    "                title = clause.get(\"title\", \"\").strip() if clause.get(\"title\") else \"\"\n",
    "                rating = clause.get(\"rating\", \"\").strip() if clause.get(\"rating\") else \"\"\n",
    "\n",
    "                if title and rating:\n",
    "                    clause_pairs.append((title, rating))\n",
    "                else:\n",
    "                    print(f\"⚠️ WARNING: Skipping a clause in '{company}' due to missing title or rating.\")\n",
    "        \n",
    "        except json.JSONDecodeError:\n",
    "            print(f\"❌ ERROR: Invalid JSON in '{company}/clauses.json'\")\n",
    "\n",
    "        # Step 8: Stop after the first 2 companies\n",
    "        company_counter += 1\n",
    "        if company_counter >= 900:\n",
    "            break  # Exit the loop after processing the first two companies\n",
    "\n",
    "# Final results\n",
    "print(f\"\\n✅ Extracted {len(clause_pairs)} clause-rating pairs from the first two companies.\\n\")\n",
    "for pair in clause_pairs[:5]:  # Print first 5 for checking\n",
    "    print(pair)\n"
   ]
  },
  {
   "cell_type": "code",
   "execution_count": 52,
   "metadata": {},
   "outputs": [
    {
     "name": "stdout",
     "output_type": "stream",
     "text": [
      "Before removal of duplicates: 14407 clause-rating pairs.\n",
      "✅ Removed exact duplicates. 1123 unique clause-rating pairs.\n",
      "Number of clauses which appear more than once in our dataset: 447.\n",
      "Number of clauses which we removed because there were already present once: 13284\n"
     ]
    }
   ],
   "source": [
    "# Step 1: Initialize a set to store unique clause-rating pairs, and non-unique clause-rating pais.\n",
    "unique_clause_pairs = set()\n",
    "non_unique_clause_pairs = set()\n",
    "occurrences_of_non_unique_clause_pairs = 0\n",
    "\n",
    "# Step 2: Filter out duplicates by checking if the pair already exists in the set\n",
    "filtered_clause_pairs = []\n",
    "\n",
    "for title, rating in clause_pairs:\n",
    "    # Use a tuple of (description, rating) as the set key\n",
    "    pair = (title, rating)\n",
    "    \n",
    "    # If the pair is not in the set, add it to the filtered list and the set\n",
    "    if pair not in unique_clause_pairs:\n",
    "        filtered_clause_pairs.append(pair)\n",
    "        unique_clause_pairs.add(pair)\n",
    "    else:\n",
    "        non_unique_clause_pairs.add(pair)\n",
    "        occurrences_of_non_unique_clause_pairs +=1\n",
    "\n",
    "unique_clause_pairs = list(unique_clause_pairs)\n",
    "non_unique_clause_pairs = list(non_unique_clause_pairs)\n",
    "\n",
    "# Step 3: Check how many unique pairs there are\n",
    "print(f\"Before removal of duplicates: {len(clause_pairs)} clause-rating pairs.\")\n",
    "print(f\"✅ Removed exact duplicates. {len(filtered_clause_pairs)} unique clause-rating pairs.\")\n",
    "print(f\"Number of clauses which appear more than once in our dataset: {len(non_unique_clause_pairs)}.\")\n",
    "print(f\"Number of clauses which we removed because there were already present once: {occurrences_of_non_unique_clause_pairs}\")\n"
   ]
  },
  {
   "cell_type": "code",
   "execution_count": 53,
   "metadata": {},
   "outputs": [
    {
     "name": "stdout",
     "output_type": "stream",
     "text": [
      "Title: You have the right to request lower Charges from Third Party Providers\n",
      "Rating: neutral\n",
      "\n",
      "Title: This service is only available to users over a certain age (13)\n",
      "Rating: neutral\n",
      "\n",
      "Title: This service is only available to users over 15 years old\n",
      "Rating: neutral\n",
      "\n",
      "Title: You should revisit the privacy policy periodically, although in case of material changes, the service will notify\n",
      "Rating: neutral\n",
      "\n",
      "Title: Any liability on behalf of the service is only limited to the fees you paid as a user\n",
      "Rating: bad\n",
      "\n"
     ]
    }
   ],
   "source": [
    "# Example of accessing the descriptions and ratings\n",
    "for pair in unique_clause_pairs[:5]:  # Print first 5 pairs for checking\n",
    "    title = pair[0]  # Clause description (x)\n",
    "    rating = pair[1]       # Clause rating (y)\n",
    "    print(f\"Title: {title}\\nRating: {rating}\\n\")"
   ]
  },
  {
   "attachments": {},
   "cell_type": "markdown",
   "metadata": {},
   "source": [
    "### 2. BERT model"
   ]
  },
  {
   "attachments": {},
   "cell_type": "markdown",
   "metadata": {},
   "source": [
    "#### a. Filtering: removing pairs with \"unknown\" as label."
   ]
  },
  {
   "cell_type": "code",
   "execution_count": 54,
   "metadata": {},
   "outputs": [
    {
     "name": "stdout",
     "output_type": "stream",
     "text": [
      "Data set size: 1074\n",
      "Train+dev set size: 859\n",
      "Test set size: 215\n"
     ]
    }
   ],
   "source": [
    "# Step 3.1: Filter out clauses with 'unknown' ratings\n",
    "filtered_clause_pairs = [(title, rating) for title, rating in unique_clause_pairs if rating != \"unknown\"]\n",
    "\n",
    "# Split the filtered data\n",
    "clauses, ratings = zip(*filtered_clause_pairs)  # Extract clauses and their ratings\n",
    "\n",
    "# Map ratings to integers\n",
    "rating_dict = {\"very bad\": 0, \"bad\": 1, \"neutral\": 2, \"good\": 3}  # Modify if you have different ratings\n",
    "ratings_int = [rating_dict[r] for r in ratings]\n",
    "\n",
    "# Step 3.2: Split data into train, dev, and test sets (80% train, 10% dev, 10% test)\n",
    "X_temp, X_test, y_temp, y_test = train_test_split(clauses, ratings_int, test_size=0.2, random_state=42)\n",
    "\n",
    "# Print size\n",
    "print(f\"Data set size: {len(filtered_clause_pairs)}\")\n",
    "print(f\"Train+dev set size: {len(y_temp)}\")\n",
    "print(f\"Test set size: {len(y_test)}\")"
   ]
  },
  {
   "attachments": {},
   "cell_type": "markdown",
   "metadata": {},
   "source": [
    "#### b. Deduplication based on n-gram similarity"
   ]
  },
  {
   "cell_type": "code",
   "execution_count": 55,
   "metadata": {},
   "outputs": [],
   "source": [
    "def get_ngrams(text, n=3):\n",
    "    \"\"\"Convert text into a set of n-grams.\"\"\"\n",
    "    tokens = nltk.word_tokenize(text.lower())  # Tokenize and lowercase\n",
    "    tokens = [t for t in tokens if t.isalnum() and t not in ENGLISH_STOP_WORDS]  # Remove stopwords and non-alphanumeric\n",
    "    return set(ngrams(tokens, n))\n",
    "\n",
    "def jaccard_similarity(set1, set2):\n",
    "    \"\"\"Compute Jaccard similarity between two sets.\"\"\"\n",
    "    intersection = len(set1 & set2)\n",
    "    union = len(set1 | set2)\n",
    "    return intersection / union if union != 0 else 0\n",
    "\n",
    "def deduplicate_test_set(train_clauses, test_clauses, test_labels, threshold=0.7, n=3):\n",
    "    \"\"\"Remove test clauses that are too similar to any train clause based on n-gram Jaccard similarity.\"\"\"\n",
    "    train_ngrams = [get_ngrams(clause, n) for clause in train_clauses]\n",
    "    \n",
    "    filtered_test_clauses = []\n",
    "    filtered_test_labels = []\n",
    "    \n",
    "    for test_clause, test_label in zip(test_clauses, test_labels):\n",
    "        test_ngram_set = get_ngrams(test_clause, n)\n",
    "        \n",
    "        # Check similarity with each train clause\n",
    "        max_similarity = max(jaccard_similarity(test_ngram_set, train_set) for train_set in train_ngrams)\n",
    "        \n",
    "        if max_similarity < threshold:\n",
    "            filtered_test_clauses.append(test_clause)\n",
    "            filtered_test_labels.append(test_label)\n",
    "    \n",
    "    return filtered_test_clauses, filtered_test_labels"
   ]
  },
  {
   "cell_type": "code",
   "execution_count": 56,
   "metadata": {},
   "outputs": [
    {
     "name": "stdout",
     "output_type": "stream",
     "text": [
      "Before deduplication: test+dev set size is 215\n",
      "After deduplication: test+dev set size is 158\n"
     ]
    }
   ],
   "source": [
    "# Apply deduplication\n",
    "print(f\"Before deduplication: test+dev set size is {len(y_test)}\")\n",
    "X_test, y_test = deduplicate_test_set(X_temp, X_test, y_test, threshold=0.7, n=3)\n",
    "print(f\"After deduplication: test+dev set size is {len(y_test)}\")"
   ]
  },
  {
   "attachments": {},
   "cell_type": "markdown",
   "metadata": {},
   "source": [
    "#### c. Training BERT"
   ]
  },
  {
   "cell_type": "code",
   "execution_count": 57,
   "metadata": {},
   "outputs": [
    {
     "name": "stdout",
     "output_type": "stream",
     "text": [
      "Train set size: 730\n",
      "Dev set size: 129\n"
     ]
    }
   ],
   "source": [
    "X_train, X_dev, y_train, y_dev = train_test_split(X_temp, y_temp, test_size=0.15, random_state=42)\n",
    "print(f\"Train set size: {len(y_train)}\")\n",
    "print(f\"Dev set size: {len(y_dev)}\")\n",
    "\n",
    "# Step 3.3: Convert into a format that Hugging Face can use\n",
    "train_data = Dataset.from_dict({\"text\": X_train, \"label\": y_train})\n",
    "dev_data = Dataset.from_dict({\"text\": X_dev, \"label\": y_dev})\n",
    "test_data = Dataset.from_dict({\"text\": X_test, \"label\": y_test})"
   ]
  },
  {
   "cell_type": "code",
   "execution_count": 58,
   "metadata": {},
   "outputs": [
    {
     "data": {
      "application/vnd.jupyter.widget-view+json": {
       "model_id": "26e0c42eec264d7e9d0ec3179219f602",
       "version_major": 2,
       "version_minor": 0
      },
      "text/plain": [
       "Map:   0%|          | 0/730 [00:00<?, ? examples/s]"
      ]
     },
     "metadata": {},
     "output_type": "display_data"
    },
    {
     "data": {
      "application/vnd.jupyter.widget-view+json": {
       "model_id": "338cb4b5d14e4777b7790ecb2d7567e5",
       "version_major": 2,
       "version_minor": 0
      },
      "text/plain": [
       "Map:   0%|          | 0/129 [00:00<?, ? examples/s]"
      ]
     },
     "metadata": {},
     "output_type": "display_data"
    },
    {
     "data": {
      "application/vnd.jupyter.widget-view+json": {
       "model_id": "2c72e1f7079b45419db24d84c4714c1d",
       "version_major": 2,
       "version_minor": 0
      },
      "text/plain": [
       "Map:   0%|          | 0/158 [00:00<?, ? examples/s]"
      ]
     },
     "metadata": {},
     "output_type": "display_data"
    },
    {
     "data": {
      "application/vnd.jupyter.widget-view+json": {
       "model_id": "101ff65c923c4b589ab3af6e86447b31",
       "version_major": 2,
       "version_minor": 0
      },
      "text/plain": [
       "Map:   0%|          | 0/730 [00:00<?, ? examples/s]"
      ]
     },
     "metadata": {},
     "output_type": "display_data"
    },
    {
     "data": {
      "application/vnd.jupyter.widget-view+json": {
       "model_id": "7bd9da54cccb4b20a5ae4bac452d3c73",
       "version_major": 2,
       "version_minor": 0
      },
      "text/plain": [
       "Map:   0%|          | 0/129 [00:00<?, ? examples/s]"
      ]
     },
     "metadata": {},
     "output_type": "display_data"
    },
    {
     "data": {
      "application/vnd.jupyter.widget-view+json": {
       "model_id": "bb60b05f99b7490c89db507380acae85",
       "version_major": 2,
       "version_minor": 0
      },
      "text/plain": [
       "Map:   0%|          | 0/158 [00:00<?, ? examples/s]"
      ]
     },
     "metadata": {},
     "output_type": "display_data"
    },
    {
     "data": {
      "application/vnd.jupyter.widget-view+json": {
       "model_id": "206d9212bfb14b99849856d2d6c29ae6",
       "version_major": 2,
       "version_minor": 0
      },
      "text/plain": [
       "Map:   0%|          | 0/730 [00:00<?, ? examples/s]"
      ]
     },
     "metadata": {},
     "output_type": "display_data"
    },
    {
     "name": "stderr",
     "output_type": "stream",
     "text": [
      "/var/folders/zl/gjtb3by11p7b_j804bt863qh0000gn/T/ipykernel_16976/3550178219.py:24: UserWarning: To copy construct from a tensor, it is recommended to use sourceTensor.clone().detach() or sourceTensor.clone().detach().requires_grad_(True), rather than torch.tensor(sourceTensor).\n",
      "  train_data = train_data.map(lambda x: {\"label\": torch.tensor(x[\"label\"]).long()})\n"
     ]
    },
    {
     "data": {
      "application/vnd.jupyter.widget-view+json": {
       "model_id": "9f8834e2dfe0430eadea7a1227baf3dd",
       "version_major": 2,
       "version_minor": 0
      },
      "text/plain": [
       "Map:   0%|          | 0/129 [00:00<?, ? examples/s]"
      ]
     },
     "metadata": {},
     "output_type": "display_data"
    },
    {
     "name": "stderr",
     "output_type": "stream",
     "text": [
      "/var/folders/zl/gjtb3by11p7b_j804bt863qh0000gn/T/ipykernel_16976/3550178219.py:25: UserWarning: To copy construct from a tensor, it is recommended to use sourceTensor.clone().detach() or sourceTensor.clone().detach().requires_grad_(True), rather than torch.tensor(sourceTensor).\n",
      "  dev_data = dev_data.map(lambda x: {\"label\": torch.tensor(x[\"label\"]).long()})\n"
     ]
    },
    {
     "data": {
      "application/vnd.jupyter.widget-view+json": {
       "model_id": "59ad9e29bd1c4c519d7eb0c5f5cd6401",
       "version_major": 2,
       "version_minor": 0
      },
      "text/plain": [
       "Map:   0%|          | 0/158 [00:00<?, ? examples/s]"
      ]
     },
     "metadata": {},
     "output_type": "display_data"
    },
    {
     "name": "stderr",
     "output_type": "stream",
     "text": [
      "/var/folders/zl/gjtb3by11p7b_j804bt863qh0000gn/T/ipykernel_16976/3550178219.py:26: UserWarning: To copy construct from a tensor, it is recommended to use sourceTensor.clone().detach() or sourceTensor.clone().detach().requires_grad_(True), rather than torch.tensor(sourceTensor).\n",
      "  test_data = test_data.map(lambda x: {\"label\": torch.tensor(x[\"label\"]).long()})\n"
     ]
    }
   ],
   "source": [
    "# Step 4.1: Load the BERT tokenizer\n",
    "tokenizer = BertTokenizer.from_pretrained(\"bert-base-uncased\")\n",
    "\n",
    "# Step 4.2: Define a function to tokenize the input texts\n",
    "def tokenize_function(examples):\n",
    "    return tokenizer(examples.get('text', \"\"), padding='max_length', truncation=True, max_length=512)\n",
    "\n",
    "# Step 4.3: Apply the tokenizer to the train, dev, and test datasets\n",
    "train_data = train_data.map(tokenize_function, batched=True)\n",
    "dev_data = dev_data.map(tokenize_function, batched=True)\n",
    "test_data = test_data.map(tokenize_function, batched=True)\n",
    "\n",
    "# Step 4.4: Set the format for PyTorch\n",
    "train_data.set_format(type='torch', columns=['input_ids', 'attention_mask', 'token_type_ids', 'label'])\n",
    "dev_data.set_format(type='torch', columns=['input_ids', 'attention_mask', 'token_type_ids', 'label'])\n",
    "test_data.set_format(type='torch', columns=['input_ids', 'attention_mask', 'token_type_ids', 'label'])\n",
    "\n",
    "# Step 4.5: Remove the original text filed\n",
    "train_data = train_data.map(tokenize_function, batched=True, remove_columns=[\"text\"])\n",
    "dev_data = dev_data.map(tokenize_function, batched=True, remove_columns=[\"text\"])\n",
    "test_data = test_data.map(tokenize_function, batched=True, remove_columns=[\"text\"])\n",
    "\n",
    "# Step 4.6: Make sure we are working with longs\n",
    "train_data = train_data.map(lambda x: {\"label\": torch.tensor(x[\"label\"]).long()})\n",
    "dev_data = dev_data.map(lambda x: {\"label\": torch.tensor(x[\"label\"]).long()})\n",
    "test_data = test_data.map(lambda x: {\"label\": torch.tensor(x[\"label\"]).long()})"
   ]
  },
  {
   "cell_type": "code",
   "execution_count": 59,
   "metadata": {},
   "outputs": [],
   "source": [
    "# Step 5.1: Take a smaller sample (e.g., 5%) of the training data\n",
    "train_sample = train_data.shuffle(seed=42).select(range(int(0.1 * len(train_data))))\n",
    "dev_sample = dev_data.shuffle(seed=42).select(range(int(0.2*len(dev_data))))"
   ]
  },
  {
   "cell_type": "code",
   "execution_count": 60,
   "metadata": {},
   "outputs": [],
   "source": [
    "def compute_metrics(eval_pred):\n",
    "    logits, labels = eval_pred\n",
    "    preds = np.argmax(logits, axis=1)  # Convert logits to predicted labels\n",
    "\n",
    "    accuracy = accuracy_score(labels, preds)\n",
    "    precision = precision_score(labels, preds, average='weighted')\n",
    "    recall = recall_score(labels, preds, average='weighted')\n",
    "    f1 = f1_score(labels, preds, average='weighted')\n",
    "\n",
    "    return {\n",
    "        \"accuracy\": accuracy,\n",
    "        \"precision\": precision,\n",
    "        \"recall\": recall,\n",
    "        \"f1\": f1\n",
    "    }"
   ]
  },
  {
   "cell_type": "code",
   "execution_count": 61,
   "metadata": {},
   "outputs": [
    {
     "name": "stderr",
     "output_type": "stream",
     "text": [
      "Some weights of BertForSequenceClassification were not initialized from the model checkpoint at bert-base-uncased and are newly initialized: ['classifier.bias', 'classifier.weight']\n",
      "You should probably TRAIN this model on a down-stream task to be able to use it for predictions and inference.\n"
     ]
    }
   ],
   "source": [
    "model = BertForSequenceClassification.from_pretrained(\"bert-base-uncased\", num_labels=4)"
   ]
  },
  {
   "cell_type": "code",
   "execution_count": 62,
   "metadata": {},
   "outputs": [],
   "source": [
    "# Step 0: Create a custom callback to store losses\n",
    "class LossesCallback(TrainerCallback):\n",
    "    def __init__(self):\n",
    "        self.train_losses = []\n",
    "        self.dev_losses = []\n",
    "\n",
    "    def on_log(self, args, state, control, logs=None, **kwargs):\n",
    "        if logs is not None:\n",
    "            if 'loss' in logs:  # Capture training loss\n",
    "                self.train_losses.append(logs['loss'])\n",
    "            if 'eval_loss' in logs:  # Capture development loss\n",
    "                self.dev_losses.append(logs['eval_loss'])\n",
    "\n",
    "# Step 1: Instantiate the custom callback\n",
    "losses_callback = LossesCallback()"
   ]
  },
  {
   "cell_type": "code",
   "execution_count": 63,
   "metadata": {},
   "outputs": [],
   "source": [
    "# Step 2: Modify TrainingArguments to log losses during training\n",
    "training_args = TrainingArguments(\n",
    "    output_dir='./results',\n",
    "    eval_strategy=\"epoch\",  # Evaluate after each epoch\n",
    "    save_strategy=\"epoch\",  # Save model at each epoch\n",
    "    save_total_limit=2,  # Keep last 2 checkpoints\n",
    "    learning_rate=5e-5,\n",
    "    per_device_train_batch_size=2,\n",
    "    per_device_eval_batch_size=2,\n",
    "    num_train_epochs=6,\n",
    "    weight_decay=0.01,\n",
    "    logging_dir='./logs',\n",
    "    logging_steps=10,  # Log every 10 steps\n",
    "    report_to=\"tensorboard\",  # Optional: To use TensorBoard for more advanced plotting\n",
    ")\n",
    "\n",
    "# Step 3: Create Trainer with the custom callback\n",
    "trainer = Trainer(\n",
    "    model=model,\n",
    "    args=training_args,\n",
    "    train_dataset=train_sample,\n",
    "    eval_dataset=dev_sample,\n",
    "    compute_metrics=compute_metrics,\n",
    "    callbacks=[losses_callback]  # Add the callback to store losses\n",
    ")"
   ]
  },
  {
   "cell_type": "code",
   "execution_count": 64,
   "metadata": {},
   "outputs": [
    {
     "data": {
      "text/html": [
       "\n",
       "    <div>\n",
       "      \n",
       "      <progress value='112' max='222' style='width:300px; height:20px; vertical-align: middle;'></progress>\n",
       "      [112/222 02:20 < 02:20, 0.78 it/s, Epoch 3/6]\n",
       "    </div>\n",
       "    <table border=\"1\" class=\"dataframe\">\n",
       "  <thead>\n",
       " <tr style=\"text-align: left;\">\n",
       "      <th>Epoch</th>\n",
       "      <th>Training Loss</th>\n",
       "      <th>Validation Loss</th>\n",
       "      <th>Accuracy</th>\n",
       "      <th>Precision</th>\n",
       "      <th>Recall</th>\n",
       "      <th>F1</th>\n",
       "    </tr>\n",
       "  </thead>\n",
       "  <tbody>\n",
       "    <tr>\n",
       "      <td>1</td>\n",
       "      <td>1.141600</td>\n",
       "      <td>1.112098</td>\n",
       "      <td>0.360000</td>\n",
       "      <td>0.129600</td>\n",
       "      <td>0.360000</td>\n",
       "      <td>0.190588</td>\n",
       "    </tr>\n",
       "    <tr>\n",
       "      <td>2</td>\n",
       "      <td>0.977600</td>\n",
       "      <td>0.979429</td>\n",
       "      <td>0.560000</td>\n",
       "      <td>0.606364</td>\n",
       "      <td>0.560000</td>\n",
       "      <td>0.546860</td>\n",
       "    </tr>\n",
       "  </tbody>\n",
       "</table><p>\n",
       "    <div>\n",
       "      \n",
       "      <progress value='12' max='13' style='width:300px; height:20px; vertical-align: middle;'></progress>\n",
       "      [12/13 00:02 < 00:00, 3.74 it/s]\n",
       "    </div>\n",
       "    "
      ],
      "text/plain": [
       "<IPython.core.display.HTML object>"
      ]
     },
     "metadata": {},
     "output_type": "display_data"
    },
    {
     "data": {
      "text/plain": [
       "TrainOutput(global_step=222, training_loss=0.4861600384502126, metrics={'train_runtime': 364.4867, 'train_samples_per_second': 1.202, 'train_steps_per_second': 0.609, 'total_flos': 115244711682048.0, 'train_loss': 0.4861600384502126, 'epoch': 6.0})"
      ]
     },
     "execution_count": 64,
     "metadata": {},
     "output_type": "execute_result"
    }
   ],
   "source": [
    "trainer.train()"
   ]
  },
  {
   "cell_type": "code",
   "execution_count": 65,
   "metadata": {},
   "outputs": [
    {
     "data": {
      "image/png": "[encoded data removed]",
      "text/plain": [
       "<Figure size 720x432 with 1 Axes>"
      ]
     },
     "metadata": {
      "needs_background": "light"
     },
     "output_type": "display_data"
    }
   ],
   "source": [
    "# Step 5: Plot the training and development losses\n",
    "epochs = list(range(1, len(losses_callback.train_losses) + 1))  # Create an array for epochs (assuming one log per epoch)\n",
    "\n",
    "# Ensure both training and development losses are the same length\n",
    "min_len = min(len(losses_callback.train_losses), len(losses_callback.dev_losses))\n",
    "\n",
    "plt.figure(figsize=(10, 6))\n",
    "plt.plot(epochs[:min_len], losses_callback.train_losses[:min_len], label=\"Training Loss\", marker='o', linestyle='-', color='b')\n",
    "plt.plot(epochs[:min_len], losses_callback.dev_losses[:min_len], label=\"Development Loss\", marker='o', linestyle='--', color='r')\n",
    "plt.xlabel(\"Epochs\")\n",
    "plt.ylabel(\"Loss\")\n",
    "plt.title(\"Training and Development Loss per Epoch\")\n",
    "plt.legend()\n",
    "plt.grid(True)\n",
    "plt.show()"
   ]
  },
  {
   "cell_type": "code",
   "execution_count": 66,
   "metadata": {},
   "outputs": [
    {
     "data": {
      "text/html": [
       "\n",
       "    <div>\n",
       "      \n",
       "      <progress value='35' max='79' style='width:300px; height:20px; vertical-align: middle;'></progress>\n",
       "      [35/79 00:08 < 00:10, 4.12 it/s]\n",
       "    </div>\n",
       "    "
      ],
      "text/plain": [
       "<IPython.core.display.HTML object>"
      ]
     },
     "metadata": {},
     "output_type": "display_data"
    },
    {
     "name": "stdout",
     "output_type": "stream",
     "text": [
      "Test Loss: 1.7990\n",
      "Test Accuracy: 0.6076\n"
     ]
    }
   ],
   "source": [
    "# Evaluate on the test set\n",
    "test_results = trainer.evaluate(test_data)\n",
    "\n",
    "# Print loss and accuracy\n",
    "print(f\"Test Loss: {test_results['eval_loss']:.4f}\")\n",
    "print(f\"Test Accuracy: {test_results['eval_accuracy']:.4f}\")  # Accuracy from compute_metrics"
   ]
  }
 ],
 "metadata": {
  "kernelspec": {
   "display_name": "Python 3",
   "language": "python",
   "name": "python3"
  },
  "language_info": {
   "codemirror_mode": {
    "name": "ipython",
    "version": 3
   },
   "file_extension": ".py",
   "mimetype": "text/x-python",
   "name": "python",
   "nbconvert_exporter": "python",
   "pygments_lexer": "ipython3",
   "version": "3.9.12"
  },
  "orig_nbformat": 4
 },
 "nbformat": 4,
 "nbformat_minor": 2
}
