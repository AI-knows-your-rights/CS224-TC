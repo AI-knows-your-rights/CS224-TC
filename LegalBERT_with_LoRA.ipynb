{
 "cells": [
  {
   "attachments": {},
   "cell_type": "markdown",
   "metadata": {},
   "source": [
    "## LEGALBERT model:"
   ]
  },
  {
   "cell_type": "code",
   "execution_count": 1,
   "metadata": {},
   "outputs": [
    {
     "name": "stderr",
     "output_type": "stream",
     "text": [
      "/Users/benjaminward/opt/anaconda3/lib/python3.9/site-packages/pandas/core/computation/expressions.py:21: UserWarning: Pandas requires version '2.8.4' or newer of 'numexpr' (version '2.8.1' currently installed).\n",
      "  from pandas.core.computation.check import NUMEXPR_INSTALLED\n",
      "/Users/benjaminward/opt/anaconda3/lib/python3.9/site-packages/pandas/core/arrays/masked.py:60: UserWarning: Pandas requires version '1.3.6' or newer of 'bottleneck' (version '1.3.4' currently installed).\n",
      "  from pandas.core import (\n",
      "[nltk_data] Downloading package punkt to\n",
      "[nltk_data]     /Users/benjaminward/nltk_data...\n",
      "[nltk_data]   Package punkt is already up-to-date!\n"
     ]
    }
   ],
   "source": [
    "# For retrieving the clauses and labels.\n",
    "import os\n",
    "import json\n",
    "# For the duplicates\n",
    "from collections import defaultdict, Counter\n",
    "# For BERT\n",
    "import torch\n",
    "import numpy as np\n",
    "from datasets import load_dataset, Dataset\n",
    "from sklearn.model_selection import train_test_split\n",
    "from transformers import BertTokenizer, BertForSequenceClassification, Trainer, TrainingArguments, TrainerCallback\n",
    "from sklearn.metrics import accuracy_score, classification_report\n",
    "# For deduplication\n",
    "import nltk\n",
    "from nltk.util import ngrams\n",
    "from sklearn.feature_extraction.text import ENGLISH_STOP_WORDS\n",
    "nltk.download('punkt')\n",
    "# For metrics\n",
    "from sklearn.metrics import accuracy_score, precision_score, recall_score, f1_score\n",
    "# For plots \n",
    "import matplotlib.pyplot as plt\n",
    "# For LoRA\n",
    "from peft import LoraConfig, get_peft_model, TaskType"
   ]
  },
  {
   "attachments": {},
   "cell_type": "markdown",
   "metadata": {},
   "source": [
    "### 1. Extracting the individual clauses and labels"
   ]
  },
  {
   "attachments": {},
   "cell_type": "markdown",
   "metadata": {},
   "source": [
    "#### a. Data extraction"
   ]
  },
  {
   "cell_type": "code",
   "execution_count": 2,
   "metadata": {},
   "outputs": [
    {
     "name": "stdout",
     "output_type": "stream",
     "text": [
      "⚠️ WARNING: 'clauses' list is empty in 'RESEARCHCHEMAIAL SWITZERLAND/clauses.json'\n",
      "⚠️ WARNING: 'clauses' list is empty in 'Kink.com/clauses.json'\n",
      "\n",
      "✅ Extracted 14407 clause-rating pairs from the first two companies.\n",
      "\n",
      "('Instead of asking directly, this Service will assume your consent merely from your usage.', 'bad')\n",
      "('This service tracks which web page referred you to it', 'bad')\n",
      "('The service can sell or otherwise transfer your personal data as part of a bankruptcy proceeding or other type of financial transaction.', 'bad')\n",
      "('You must provide your legal name, pseudonyms are not allowed', 'bad')\n",
      "('This service employs third-party cookies, but with opt-out instructions', 'bad')\n"
     ]
    }
   ],
   "source": [
    "data_dir = \"data\"  # Data directory containing company folders\n",
    "clause_pairs = []\n",
    "\n",
    "# Step 1: Check if data directory exists\n",
    "if not os.path.exists(data_dir):\n",
    "    print(f\"❌ ERROR: Data directory '{data_dir}' does not exist.\")\n",
    "    exit()\n",
    "\n",
    "# Step 2: Initialize a counter for the companies\n",
    "company_counter = 0\n",
    "\n",
    "# Step 3: Loop through all company folders inside the data directory\n",
    "for company in os.listdir(data_dir):\n",
    "    company_path = os.path.join(data_dir, company)\n",
    "\n",
    "    # Check if it's a directory (company folder)\n",
    "    if os.path.isdir(company_path):\n",
    "        clause_file = os.path.join(company_path, \"clauses.json\")\n",
    "\n",
    "        # Step 4: Check if clauses.json exists\n",
    "        if not os.path.isfile(clause_file):\n",
    "            print(f\"❌ ERROR: 'clauses.json' not found in '{company}' folder\")\n",
    "            continue\n",
    "\n",
    "        try:\n",
    "            # Step 5: Check if clauses.json is valid JSON\n",
    "            with open(clause_file, \"r\", encoding=\"utf-8\") as f:\n",
    "                data = json.load(f)\n",
    "\n",
    "            # Step 6: Check if 'clauses' key exists\n",
    "            if \"clauses\" not in data:\n",
    "                print(f\"⚠️ WARNING: No 'clauses' key found in '{company}/clauses.json'\")\n",
    "                continue\n",
    "\n",
    "            clauses = data[\"clauses\"]\n",
    "            if not clauses:\n",
    "                print(f\"⚠️ WARNING: 'clauses' list is empty in '{company}/clauses.json'\")\n",
    "                continue\n",
    "\n",
    "            # Step 7: Extract (title, rating) pairs\n",
    "            for clause in clauses:\n",
    "                title = clause.get(\"title\", \"\").strip() if clause.get(\"title\") else \"\"\n",
    "                rating = clause.get(\"rating\", \"\").strip() if clause.get(\"rating\") else \"\"\n",
    "\n",
    "                if title and rating:\n",
    "                    clause_pairs.append((title, rating))\n",
    "                else:\n",
    "                    print(f\"⚠️ WARNING: Skipping a clause in '{company}' due to missing title or rating.\")\n",
    "        \n",
    "        except json.JSONDecodeError:\n",
    "            print(f\"❌ ERROR: Invalid JSON in '{company}/clauses.json'\")\n",
    "\n",
    "        # Step 8: Stop after the first 2 companies\n",
    "        company_counter += 1\n",
    "        if company_counter >= 900:\n",
    "            break  # Exit the loop after processing the first two companies\n",
    "\n",
    "# Final results\n",
    "print(f\"\\n✅ Extracted {len(clause_pairs)} clause-rating pairs from the first two companies.\\n\")\n",
    "for pair in clause_pairs[:5]:  # Print first 5 for checking\n",
    "    print(pair)\n"
   ]
  },
  {
   "attachments": {},
   "cell_type": "markdown",
   "metadata": {},
   "source": [
    "#### b. Duplicate analysis"
   ]
  },
  {
   "cell_type": "code",
   "execution_count": 3,
   "metadata": {},
   "outputs": [
    {
     "name": "stdout",
     "output_type": "stream",
     "text": [
      "⚠️ WARNING: 'clauses' list is empty in 'RESEARCHCHEMAIAL SWITZERLAND/clauses.json'\n",
      "⚠️ WARNING: 'clauses' list is empty in 'Kink.com/clauses.json'\n"
     ]
    }
   ],
   "source": [
    "clause_pairs = []  # Reset to include folder info\n",
    "\n",
    "# Step 3: Loop through all company folders inside the data directory\n",
    "for company in os.listdir(data_dir):\n",
    "    company_path = os.path.join(data_dir, company)\n",
    "\n",
    "    if os.path.isdir(company_path):\n",
    "        clause_file = os.path.join(company_path, \"clauses.json\")\n",
    "\n",
    "        if not os.path.isfile(clause_file):\n",
    "            print(f\"❌ ERROR: 'clauses.json' not found in '{company}' folder\")\n",
    "            continue\n",
    "\n",
    "        try:\n",
    "            with open(clause_file, \"r\", encoding=\"utf-8\") as f:\n",
    "                data = json.load(f)\n",
    "\n",
    "            if \"clauses\" not in data:\n",
    "                print(f\"⚠️ WARNING: No 'clauses' key found in '{company}/clauses.json'\")\n",
    "                continue\n",
    "\n",
    "            clauses = data[\"clauses\"]\n",
    "            if not clauses:\n",
    "                print(f\"⚠️ WARNING: 'clauses' list is empty in '{company}/clauses.json'\")\n",
    "                continue\n",
    "\n",
    "            # Store (title, rating, folder)\n",
    "            for clause in clauses:\n",
    "                title = clause.get(\"title\", \"\").strip() if clause.get(\"title\") else \"\"\n",
    "                rating = clause.get(\"rating\", \"\").strip() if clause.get(\"rating\") else \"\"\n",
    "\n",
    "                if title and rating:\n",
    "                    clause_pairs.append((title, rating, company))  # Store the folder name\n",
    "                else:\n",
    "                    print(f\"⚠️ WARNING: Skipping a clause in '{company}' due to missing title or rating.\")\n",
    "\n",
    "        except json.JSONDecodeError:\n",
    "            print(f\"❌ ERROR: Invalid JSON in '{company}/clauses.json'\")"
   ]
  },
  {
   "cell_type": "code",
   "execution_count": 4,
   "metadata": {},
   "outputs": [
    {
     "name": "stdout",
     "output_type": "stream",
     "text": [
      "\n",
      "🔍 Top 10 most duplicated clause-rating pairs:\n",
      "Clause: There is a date of the last update of the agreements\n",
      "Rating: neutral\n",
      "Occurrences: 198\n",
      "Found in folders: F-List, Mega, BBVA, Jeuxvideo.com, The Filipino Channel, HideMyAss!, Microspot, Douban, Gettr, Free, Medium, Le Parisien, Archive of Our Own, Malwarebytes, Gap Creek Media, BudgetBakers, Credit Karma, Wise, Codeberg, Enpass, Parler, Le Monde, MyAnimeList, mastodon.social, Vercel, LBRY, Zoom Video Communications, Google Chrome, NordVPN, VPN.AC, Pinterest, FanFiction, IVPN, SpanishDict, Open Collective, Skillshare, GoDaddy, Conjuguemos, Mozilla Thunderbird, iFunny, kik-messenger, GlobaliD, DeviantArt, Google, Twitch, TubeBuddy, Bilibili, Odysee, Netflix, Waterfox, MuseScore, The Movie Database (TMDb), Headspace, Arch Linux, Fedora Email, FreeTube, Represent, Nslookup, Vivaldi, DrugBank, Brilliant, Authy (Twilio), Booking.com, Roadtrip Nation, iCloud, Lichess, CNN, Flipboard, Le Bon Coin, Fedora, Calendly, OsmAnd, JojoYou (PriEco), Le Soir, Yahoo!, WikiTree, Uber, Однокла́ссники (Ok.ru), SpaceHey, The Walt Disney Company, Notion, Forbes, Recipe Realm, Gfycat, Weblate, ePlus Technology, Elk.zone, Toggl Track, Opera, Wish, Free Code Camp, Gather Town, Deveroonie.xyz, NBC News, MobyGames, Strava, Jitsi, eBuddy, Schoology, Translate, How-To Geek, Unity, Prisma Media, FairTec, RethinkDNS, Orange, ShortcutWorld.com, Prezi, Astronomer, CodeSandbox, Future PLC, OpenStreetMap, Huawei, Follow My Health, ClassDojo, Replika, ptgms Industries, KDE, SpigotMC, Crain's Chicago Business, Linguee, Encyclopedia Britannica, Condé Nast, Flickr, Leetify, Dark Reader, Symbaloo, Tumblr, TechByte Net, Canvas, Pantip.com, Getty Images, Disney+, TourOfCalifornia.org, Vox Media, ADT, CouchSurfing, Wallapop, Guilded, Weatheralex1 Hub, Eltiempo.es, xda-developers, BFM TV, Busuu, Heaven HR, Brave, MySudo, Nextcloud, Dropbox, Guiding Tech, Simitless, Tuta, Reddit, Minecraft, Marmiton, Privacy.com, Selfie2Anime, Among Us, PayPal, Alibaba, Instagram, GeeksforGeeks, STiBaRC, Swiss Government, APK Pure, Speedtest by Ookla, Free Software Foundation, Yello, Cisco, Merriam-Webster, EthanMcBloxxer, Audacity, Metager, Tubi, YNAB. (You Need a Budget), Samsung, FaceApp, Xiaomi, Apple Services, Zoho, Cryptomator, Consumer News & Business Channel, Disroot, Avast, Washington Post, ProtonVPN, hCaptcha\n",
      "--------------------------------------------------------------------------------\n",
      "Clause: You are responsible for maintaining the security of your account and for the activities on your account\n",
      "Rating: neutral\n",
      "Occurrences: 189\n",
      "Found in folders: Alan Thomson Simulation, F-List, Bitwarden, Mega, Wolt, Rofkin, The Filipino Channel, Coinbase, Douban, Element, Turnitin, Gettr, Fandango, Duolingo, Firefox Cloud Services, Le Parisien, Malwarebytes, BudgetBakers, Collins Dictionary, Tinder, matrix.org, AliExpress, El País, HP | Hewlett-Packard, Credit Karma, ViacomCBS, Wise, Codeberg, Le Monde, Discovery, YTMP3.CC, MyAnimeList, Vercel, Fivestars, McDonald's, Xfinity, Zoom Video Communications, Sync, webmail, NordVPN, PureVPN, Yleisradio, MeWe, Metacafe, Discogs, Pinterest, FanFiction, Open Collective, Amazon AWS, Filen, Redbubble, FamilyTreeDNA, Observable, Yuka, DeviantArt, Google, ASKfm, WordReference, Crunchyroll, Twitch, Bilibili, Netflix, Burger King, National Geographic, Qwant, VKontakte, Fedora Email, Pexgle, Pico, Spotify, DrugBank, Brilliant, Authy (Twilio), Roadtrip Nation, CollegeBoard, Veepn, CNN, Calendly, ExpressVPN, Medscape, SourceForge, GitHub, Porton Private Cloudstorage, Khan Academy, BetterHelp, The Walt Disney Company, Forbes, FileFactory, Gfycat, New York Times, Opera, SC Johnson, Free Code Camp, Waze, Strava, Scratch, Translate, Brainly, CNED, Unity, Goodreads, Dailymotion, Prezi, Kongregate, Dendreo, Future PLC, OpenStreetMap, Huawei, Doctolib, Follow My Health, Replika, Search Encrypt, Remind, SpigotMC, 23andMe, Patook, Slack, Leetify, X, Foursquare, Symbaloo, Smartmessages, WhatsApp, Disqus, Profilic, Vimeo, Getty Images, Disney+, Fiverr, Kahoot!, DiscourseHosting, Quizlet, Signal, CouchSurfing, Instructure, Canva, Wallapop, Stingle Photos, Guilded, Genius, InfinityFree, xda-developers, Busuu, Nextcloud, Doodle, IMDb, Pearltrees, Reddit, Minecraft, SourceHut, Ziff Davis, Team SDS, Privacy.com, Selfie2Anime, El Mundo (Spain), Wattpad, Letterboxd, OpenAI, Fox News, HuffPost, UptimeRobot, PayPal, Alibaba, Liberapay, Blizzard, Ouigo, Atlassian, Speedtest by Ookla, Wishlist, Bandcamp, Icedrive, Cisco, Simply Earth, Merriam-Webster, Tubi, Chapril, Riot Games (League of Legends), FaceApp, likee, Artspace, Mailfence, WikiHow, Washington Post, Minds, hCaptcha\n",
      "--------------------------------------------------------------------------------\n",
      "Clause: The service is provided 'as is' and to be used at the users' sole risk\n",
      "Rating: neutral\n",
      "Occurrences: 188\n",
      "Found in folders: Bitwarden, RiseUp.net, Mega, Amazon, HideMyAss!, Coinbase, Element, FastMail, Turnitin, Fandango, Firefox Cloud Services, F-Droid, LinkedIn, Le Parisien, Heroku, Archive of Our Own, Nulled, Adobe Services, Steam, BudgetBakers, Bitly, Codeberg, Enpass, Attendify, Parler, Le Monde, Discovery, WikiHow, YTMP3.CC, BitChute, Fivestars, McDonald's, Xfinity, LBRY, Zoom Video Communications, Upcloud, Sync, webmail, NordVPN, VPN.AC, Pinterest, FanFiction, IVPN, Alzforum, GoDaddy, Amazon AWS, Wikipedia, iFunny, Observable, DeviantArt, OneSignal, ASKfm, Twitch, Bilibili, VKontakte, Pexgle, Urban Dictionary, Vivaldi, DrugBank, Authy (Twilio), CNN, ExpressVPN, Medscape, SourceForge, Ubisoft, Presearch, GitHub, Ting Inc., W3Schools, Yahoo!, Microsoft Services, Khan Academy, BetterHelp, WikiTree, Однокла́ссники (Ok.ru), The Walt Disney Company, Forbes, eBay, FileFactory, Gfycat, Pornhub, New York Times, XE.com, Free Code Camp, NBC News, Rumble, MobyGames, Waze, Strava, Jitsi, Scratch, Patreon, eBuddy, Schoology, AnonAddy, Brainly, CNED, Unity, Goodreads, United States Postal Service, Dailymotion, Instabridge, Open Humans, ShortcutWorld.com, Prezi, YouTube, Kongregate, Dendreo, Future PLC, OpenStreetMap, Huawei, Signal Stickers, Follow My Health, Surfshark, Search Encrypt, Healthline, Crain's Chicago Business, Encyclopedia Britannica, Quora, Internet Archive, CyberGhost, Wikimedia, Patook, Slack, Kaspersky, Pure Dating, X, Foursquare, Tumblr, Smartmessages, WhatsApp, WeMod, SparkNotes, Vimeo, Disqus, Fiverr, Kahoot!, Vox Media, Quizlet, Meredith, pCloud, ADT, Signal, Instructure, Genius, Guilded, ISODME, Weatheralex1 Hub, Session, xda-developers, Brave, MySudo, Dropbox, Doodle, Guiding Tech, AirVPN, KidzSearch, Reddit, Minecraft, Wattpad, Virtual World Computing Cocoon MyData Rewards, HuffPost, Instagram, LightyearVPN, Blizzard, Tripadvisor, BlueMail, Bandcamp, Ryver, Cisco, Simply Earth, Merriam-Webster, Chapril, Riot Games (League of Legends), Yandex, Hacker Wars, Apple Services, edX, Consumer News & Business Channel, Artspace, likee, Mailfence, Avast, Washington Post, ProtonVPN, Shopify, hCaptcha\n",
      "--------------------------------------------------------------------------------\n",
      "Clause: This service assumes no liability for any losses or damages resulting from any matter relating to the service\n",
      "Rating: neutral\n",
      "Occurrences: 187\n",
      "Found in folders: Alan Thomson Simulation, RiseUp.net, Mega, Listudy, Rofkin, Jeuxvideo.com, The Filipino Channel, Houseparty, HideMyAss!, Coinbase, Element, Gettr, LinkedIn, Wickr Me, Le Parisien, Heroku, Malwarebytes, Nulled, Adobe Services, matrix.org, HP | Hewlett-Packard, Enpass, Attendify, Parler, Le Monde, Discovery, WikiHow, YTMP3.CC, BitChute, Fivestars, Open Source Initiative, McDonald's, LBRY, Zoom Video Communications, Sync, webmail, NordVPN, PureVPN, Truth Social, Metacafe, Pinterest, IVPN, SpanishDict, Alzforum, WeTransfer, Creative Commons, GoDaddy, iFunny, Redbubble, FamilyTreeDNA, Observable, DeviantArt, Google, ASKfm, Crunchyroll, Odysee, Qwant, VKontakte, Pexgle, Represent, Urban Dictionary, Nslookup, Vivaldi, DrugBank, Brilliant, Authy (Twilio), Booking.com, Veepn, Flipboard, Le Bon Coin, Calendly, ExpressVPN, Medscape, SourceForge, USSeek, Presearch, GitHub, Blooket, Ting Inc., JojoYou (PriEco), W3Schools, Washington Post, Yahoo!, Khan Academy, Однокла́ссники (Ok.ru), The Walt Disney Company, eBay, FileFactory, Gfycat, Weblate, Opera, Wish, XE.com, Gather Town, Rumble, MobyGames, Strava, Jitsi, Patreon, eBuddy, AnonAddy, Translate, Goodreads, United States Postal Service, Dailymotion, Instabridge, ShortcutWorld.com, Prezi, CodeSandbox, Future PLC, OpenStreetMap, Huawei, Healthline, ClassDojo, Replika, Search Encrypt, Remind, Tresorit, Crain's Chicago Business, Encyclopedia Britannica, Patook, Index Education, Pure Dating, Leetify, X, Symbaloo, YouGov, WeMod, Profilic, Vimeo, Getty Images, Disney+, Fiverr, DiscourseHosting, TourOfCalifornia.org, Meredith, ADT, Signal, Instructure, Stingle Photos, Guilded, Weatheralex1 Hub, Session, xda-developers, Busuu, Tickets Plus, Brave, MySudo, Dropbox, Guiding Tech, Anonfiles, AirVPN, KidzSearch, IMDb, Reddit, SourceHut, Meower, Privacy.com, Wattpad, Among Us, OpenAI, HuffPost, Alibaba, Instagram, Blizzard, Ouigo, Tripadvisor, t2bot.io, APK Pure, Speedtest by Ookla, Ryver, Google Analytics, Cisco, Merriam-Webster, Audacity, Tubi, YNAB. (You Need a Budget), Riot Games (League of Legends), FaceApp, likee, edX, Artspace, Mailfence, Avast, Cloudflare, Shopify, hCaptcha\n",
      "--------------------------------------------------------------------------------\n",
      "Clause: The service provider makes no warranty regarding uninterrupted, timely, secure or error-free service\n",
      "Rating: neutral\n",
      "Occurrences: 178\n",
      "Found in folders: F-List, RiseUp.net, Le Figaro, Bitwarden, Listudy, Wolt, Mega, The Filipino Channel, HideMyAss!, Coinbase, Douban, Element, Gettr, TikTok, LinkedIn, Wickr Me, Archive of Our Own, V.H. Hess, Steam, matrix.org, El País, HP | Hewlett-Packard, Enpass, Le Monde, Discovery, WikiHow, MyAnimeList, BitChute, Vercel, Fivestars, Open Source Initiative, McDonald's, Xfinity, LBRY, Zoom Video Communications, Upcloud, Vouchley, Sync, webmail, NordVPN, PureVPN, Truth Social, Discogs, IVPN, Skillshare, WeTransfer, Wikipedia, iFunny, Redbubble, Observable, DeviantArt, Crunchyroll, Bilibili, Burger King, National Geographic, Synonymo, Qwant, Headspace, Pexgle, Represent, Urban Dictionary, Vivaldi, DrugBank, Brilliant, BBC, Veepn, CNN, Le Bon Coin, Bumble, ExpressVPN, OsmAnd, SourceForge, Ubisoft, Presearch, GitHub, Ting Inc., Porton Private Cloudstorage, W3Schools, Yahoo!, Microsoft Services, Khan Academy, BetterHelp, Uber, Однокла́ссники (Ok.ru), MIT App Inventor, FileFactory, Gfycat, New York Times, Wish, Rumble, MobyGames, Waze, Ableton, Strava, Jitsi, Scratch, eBuddy, Schoology, Translate, Brainly, CNED, Unity, Marca, United States Postal Service, Dailymotion, ShortcutWorld.com, Prezi, YouTube, CodeSandbox, Future PLC, OpenStreetMap, Surfshark, Signal Stickers, ClassDojo, Healthline, 23andMe, CyberGhost, Wikimedia, Pure Dating, X, Tumblr, Smartmessages, WhatsApp, WeMod, SparkNotes, Vimeo, Disqus, TourOfCalifornia.org, Vox Media, Adventurer's Codex, pCloud, Signal, Stingle Photos, Guilded, InfinityFree, Eltiempo.es, Session, xda-developers, Viagogo, Doodle, Guiding Tech, Simitless, Anonfiles, AirVPN, Pearltrees, Reddit, Minecraft, Meower, Privacy.com, El Mundo (Spain), Virtual World Computing Cocoon MyData Rewards, Among Us, OpenAI, HuffPost, Liberapay, Alibaba, Instagram, Blizzard, t2bot.io, Speedtest by Ookla, Icedrive, Ryver, Simply Earth, Tubi, YNAB. (You Need a Budget), Yandex, FaceApp, Hacker Wars, Apple Services, edX, Consumer News & Business Channel, Artspace, Avast, Washington Post, Shopify, hCaptcha\n",
      "--------------------------------------------------------------------------------\n",
      "Clause: You can opt out of promotional communications\n",
      "Rating: good\n",
      "Occurrences: 169\n",
      "Found in folders: Alan Thomson Simulation, Le Figaro, Mega, BBVA, Wolt, Amazon, Jeuxvideo.com, The Filipino Channel, El Mundo (El Salvador), Coinbase, Microspot, FastMail, HideMyAss!, Gettr, Stack Overflow, Duolingo, Firefox Cloud Services, Medium, BitDefender, Malwarebytes, Adobe Services, Steam, Collins Dictionary, WordPress.org, HP | Hewlett-Packard, Moodle, ViacomCBS, Enpass, Attendify, Parler, Le Monde, privacypolicies.com, Discovery, Vercel, Fivestars, Open Source Initiative, LBRY, Zoom Video Communications, LibreOffice, IKEA, NordVPN, PureVPN, Truth Social, Yleisradio, Pinterest, SpanishDict, Alzforum, Open Collective, GoDaddy, Creative Commons, iFunny, Redbubble, kik-messenger, DeviantArt, OneSignal, Crunchyroll, Twitch, Odysee, Netflix, Qwant, MuseScore, Headspace, Pexgle, Represent, Pico, Vivaldi, Brilliant, Authy (Twilio), BBC, Booking.com, CollegeBoard, Flipboard, Calendly, ExpressVPN, SourceForge, Ting Inc., Le Soir, Khan Academy, Однокла́ссники (Ok.ru), The Walt Disney Company, Standard Notes, Clockify, eBay, FileFactory, Gfycat, Pocket, Weblate, Opera, Wish, XE.com, ProtonVPN, Rumble, MobyGames, Amnesty International Limited (UK), Unity, Goodreads, United States Postal Service, L'Equipe, Amazon Prime Video, Prezi, Startpage, CodeSandbox, Future PLC, Huawei, Healthline, Swisscows, Mozilla.org, Search Encrypt, 23andMe, Crain's Chicago Business, Encyclopedia Britannica, Quora, Condé Nast, Kaspersky, X, Foursquare, Symbaloo, Tumblr, Disqus, WeMod, Profilic, Disney+, Fiverr, Kahoot!, Adventurer's Codex, Meredith, CouchSurfing, Instructure, Canva, Stingle Photos, Genius, ISODME, Eltiempo.es, xda-developers, Heaven HR, MySudo, Nextcloud, Dropbox, Guiding Tech, Reddit, SourceHut, Ziff Davis, Privacy.com, Wattpad, UptimeRobot, PayPal, GeeksforGeeks, BlueMail, Atlassian, Speedtest by Ookla, Bandcamp, SmartNews, Free Software Foundation, Cisco, Simply Earth, Merriam-Webster, KeyMe, Tubi, Riot Games (League of Legends), FaceApp, Xiaomi, Zoho, Hacking with Swift, Artspace, WikiHow, Washington Post, BlaBlaCar\n",
      "--------------------------------------------------------------------------------\n",
      "Clause: You have the right to leave this service at any time\n",
      "Rating: good\n",
      "Occurrences: 169\n",
      "Found in folders: Bitwarden, RiseUp.net, Mega, Listudy, Wolt, Rofkin, Houseparty, Coinbase, FastMail, Gettr, Stack Overflow, Firefox Cloud Services, Medium, LinkedIn, Wickr Me, Heroku, Malwarebytes, Adobe Services, V.H. Hess, HP | Hewlett-Packard, Codeberg, Parler, Le Monde, mastodon.social, BitChute, Vercel, McDonald's, Xfinity, LBRY, Zoom Video Communications, Upcloud, LibreOffice, Sync, Google Chrome, The Session, NordVPN, PureVPN, MeWe, Metacafe, Discogs, SpanishDict, GoDaddy, Conjuguemos, Wikipedia, Redbubble, FamilyTreeDNA, Observable, Yuka, Google, OneSignal, ASKfm, Crunchyroll, Twitch, Odysee, Netflix, SpiderOak, Snapchat, Diario AS, Fedora Email, Pexgle, Represent, Nslookup, Vivaldi, Pixel8Earth, Brilliant, Authy (Twilio), BBC, iCloud, Bumble, Ubisoft, Presearch, GitHub, Ting Inc., Porton Private Cloudstorage, Khan Academy, WikiTree, Однокла́ссники (Ok.ru), Standard Notes, The Walt Disney Company, Clockify, Brax.Me, New York Times, Opera, Wish, Free Code Camp, Waze, Ableton, Strava, Jitsi, Patreon, eBuddy, AnonAddy, Crowdmark, Unity, United States Postal Service, Instabridge, Prisma Media, Open Humans, YouTube, Astronomer, CodeSandbox, Kongregate, OpenStreetMap, Dendreo, Follow My Health, ClassDojo, Replika, Healthline, Remind, 23andMe, Tresorit, CyberGhost, Patook, Slack, Kaspersky, X, Foursquare, Tumblr, YouGov, Smartmessages, Facebook, Vimeo, Disney+, DiscourseHosting, Quizlet, pCloud, Signal, Instructure, Stingle Photos, Guilded, zmudzinski.me Personal Blog (DEPRECATED), Line Corporation, Roblox, Busuu, Brave, MySudo, Nextcloud, Dropbox, Pearltrees, Reddit, Minecraft, Meower, Privacy.com, Wattpad, Virtual World Computing Cocoon MyData Rewards, OpenAI, HuffPost, PayPal, Liberapay, Instagram, LightyearVPN, Hulu, Tripadvisor, Bandcamp, Bereal, Privacy Guides, Yello, Google Analytics, Audacity, Tubi, Chapril, Samsung, ToS;DR Phoenix, likee, Apple Services, edX, Consumer News & Business Channel, Mailfence, hCaptcha\n",
      "--------------------------------------------------------------------------------\n",
      "Clause: This service gives your personal data to third parties involved in its operation\n",
      "Rating: bad\n",
      "Occurrences: 161\n",
      "Found in folders: F-List, Bitwarden, Le Figaro, BBVA, Wolt, Rofkin, Jeuxvideo.com, The Filipino Channel, HideMyAss!, Coinbase, Element, Bing, Free, TikTok, LinkedIn, Le Parisien, Walmart, Malwarebytes, BudgetBakers, Collins Dictionary, Tinder, matrix.org, Météo France, HP | Hewlett-Packard, Credit Karma, ViacomCBS, Le Monde, privacypolicies.com, Linksys, Discovery, mastodon.social, Open Source Initiative, Zoom Video Communications, Google Chrome, IKEA, NordVPN, PureVPN, SpanishDict, Alzforum, GoDaddy, Conjuguemos, Amazon AWS, VPN Hamster, iFunny, Redbubble, FamilyTreeDNA, OneSignal, Crunchyroll, TubeBuddy, Odysee, MuseScore, Pexgle, Represent, Pico, Brilliant, Authy (Twilio), Booking.com, Roadtrip Nation, iCloud, Veepn, Flipboard, CNN, Le Bon Coin, Calendly, ExpressVPN, Le Soir, Microsoft Services, Однокла́ссники (Ok.ru), Uber, The Walt Disney Company, Notion, Clockify, MIT App Inventor, FileFactory, Gfycat, 10minutemail, Weblate, ePlus Technology, Opera, Wish, SC Johnson, Free Code Camp, Nvidia, Gather Town, NBC News, Rumble, MobyGames, Schoology, Translate, Gandi, CNED, Unity, Movistar, United States Postal Service, Dailymotion, Instabridge, Prisma Media, L'Equipe, Orange, Astronomer, Future PLC, ClassDojo, Remind, Crain's Chicago Business, Encyclopedia Britannica, Realestate.com.au, Condé Nast, CyberGhost, Index Education, Kaspersky, Leetify, Symbaloo, Tumblr, YouGov, Profilic, Pantip.com, Getty Images, Disney+, Vox Media, Meredith, ADT, Neurococi, Wallapop, Guilded, InfinityFree, Line Corporation, Eltiempo.es, xda-developers, Roblox, BFM TV, Heaven HR, Nextcloud, IMDb, Pearltrees, Minecraft, Marmiton, Ziff Davis, Privacy.com, Selfie2Anime, Wattpad, Among Us, OpenAI, UptimeRobot, Alibaba, GeeksforGeeks, Ouigo, Hulu, BlueMail, Speedtest by Ookla, Bereal, Flatmates, Free Software Foundation, Yello, Google Analytics, Merriam-Webster, Samsung, Yandex, FaceApp, Washington Post, BlaBlaCar, Shopify\n",
      "--------------------------------------------------------------------------------\n",
      "Clause: Blocking first party cookies may limit your ability to use the service\n",
      "Rating: neutral\n",
      "Occurrences: 153\n",
      "Found in folders: Alan Thomson Simulation, Le Figaro, Mega, BBVA, Wolt, The Filipino Channel, El Mundo (El Salvador), HideMyAss!, Gettr, Free, TikTok, Firefox Cloud Services, Medium, LinkedIn, Le Parisien, BitDefender, Malwarebytes, Gap Creek Media, Steam, AliExpress, Météo France, HP | Hewlett-Packard, Credit Karma, Parler, Le Monde, privacypolicies.com, MyAnimeList, Fivestars, McDonald's, LBRY, Sync, Vouchley, LibreOffice, Campus Innovations Kultur, FanFiction, Creative Commons, Amazon AWS, VPN Hamster, Redbubble, Hinterland Games, TubeBuddy, Bilibili, Netflix, Waterfox, Qwant, The Movie Database (TMDb), Headspace, Arch Linux, Telegram, Urban Dictionary, Vivaldi, DrugBank, Brilliant, Authy (Twilio), iCloud, Fedora, ExpressVPN, Medscape, GitHub, JojoYou (PriEco), Le Soir, Khan Academy, Gfycat, 10minutemail, ePlus Technology, Toggl Track, Wish, XE.com, NBC News, Rumble, Ableton, Patreon, Translate, How-To Geek, CNED, Unity, Marca, United States Postal Service, Instabridge, L'Equipe, Orange, Amazon Prime Video, Prezi, Future PLC, Healthline, Doctolib, SpigotMC, Crain's Chicago Business, Linguee, Encyclopedia Britannica, Realestate.com.au, Index Education, Kaspersky, Pure Dating, Flickr, Leetify, X, Foursquare, Facebook, WhatsApp, WeMod, Disqus, Disney+, pCloud, Neurococi, Instructure, Canva, Guilded, Eltiempo.es, OpenHAB, xda-developers, Roblox, Viagogo, Heaven HR, Dropbox, Pearltrees, Reddit, Ziff Davis, Privacy.com, El Mundo (Spain), Among Us, OpenAI, PayPal, Alibaba, Instagram, GeeksforGeeks, Blizzard, Ouigo, Hulu, Tripadvisor, Swiss Government, APK Pure, Speedtest by Ookla, Flatmates, Yello, Merriam-Webster, Tubi, Samsung, Riot Games (League of Legends), FaceApp, likee, Zoho, edX, Consumer News & Business Channel, Artspace, Snapchat, Avast, Washington Post, Shopify, hCaptcha\n",
      "--------------------------------------------------------------------------------\n",
      "Clause: The service does not guarantee accuracy or reliability of the information provided\n",
      "Rating: neutral\n",
      "Occurrences: 146\n",
      "Found in folders: F-List, Bitwarden, Mega, BBVA, Wolt, The Filipino Channel, Coinbase, Douban, Fandango, TikTok, Archive of Our Own, Nulled, V.H. Hess, Minds, El País, HP | Hewlett-Packard, Bitly, Credit Karma, Enpass, Le Monde, Discovery, MyAnimeList, BitChute, Fivestars, Open Source Initiative, McDonald's, Xfinity, LBRY, Zoom Video Communications, webmail, NordVPN, Metacafe, FanFiction, Alzforum, iFunny, FamilyTreeDNA, Observable, ASKfm, Hinterland Games, Crunchyroll, Twitch, Bilibili, Odysee, Burger King, National Geographic, Synonymo, Qwant, Headspace, Represent, Nslookup, Vivaldi, Return YouTube Dislike, DrugBank, BBC, CNN, ExpressVPN, Medscape, OsmAnd, SourceForge, Ubisoft, USSeek, Presearch, GitHub, Ting Inc., W3Schools, Yahoo!, Microsoft Services, BetterHelp, SpaceHey, eBay, FileFactory, Opera, Wish, XE.com, ProtonVPN, Rumble, MobyGames, Waze, Strava, The MOD Archive, Brainly, Marca, United States Postal Service, Dailymotion, ShortcutWorld.com, YouTube, Surfshark, OpenStreetMap, Huawei, ClassDojo, Search Encrypt, Crain's Chicago Business, Quora, Internet Archive, Wikimedia, Patook, Pure Dating, X, Foursquare, WhatsApp, WeMod, SparkNotes, Canvas, Disqus, Fiverr, TourOfCalifornia.org, pCloud, ADT, Signal, Canva, InfinityFree, Weatheralex1 Hub, Eltiempo.es, xda-developers, Busuu, Guiding Tech, KidzSearch, Reddit, Minecraft, Privacy.com, El Mundo (Spain), Wattpad, Virtual World Computing Cocoon MyData Rewards, HuffPost, Alibaba, Tripadvisor, Cakey Bot, Swiss Government, t2bot.io, Orchid VPN, Privacy Guides, Ryver, Cisco, KeyMe, Audacity, Tubi, Riot Games (League of Legends), Hacker Wars, edX, likee, Consumer News & Business Channel, Artspace, Washington Post, BlaBlaCar, Shopify\n",
      "--------------------------------------------------------------------------------\n"
     ]
    }
   ],
   "source": [
    "# Count occurrences of each (clause, rating) pair\n",
    "pair_counts = Counter((title, rating) for title, rating, _ in clause_pairs)\n",
    "\n",
    "# Get the top 5 most duplicated pairs\n",
    "most_common_pairs = pair_counts.most_common(10)\n",
    "\n",
    "# Map each (clause, rating) to its folder locations\n",
    "pair_locations = defaultdict(set)\n",
    "for title, rating, folder in clause_pairs:\n",
    "    pair_locations[(title, rating)].add(folder)\n",
    "\n",
    "# Print the results\n",
    "print(\"\\n🔍 Top 10 most duplicated clause-rating pairs:\")\n",
    "for (title, rating), count in most_common_pairs:\n",
    "    folders = list(pair_locations[(title, rating)])  # Convert set to list\n",
    "    print(f\"Clause: {title}\\nRating: {rating}\\nOccurrences: {count}\\nFound in folders: {', '.join(folders)}\")\n",
    "    print(\"-\" * 80)\n"
   ]
  },
  {
   "attachments": {},
   "cell_type": "markdown",
   "metadata": {},
   "source": [
    "#### c. Processing code:"
   ]
  },
  {
   "cell_type": "code",
   "execution_count": 5,
   "metadata": {},
   "outputs": [
    {
     "name": "stdout",
     "output_type": "stream",
     "text": [
      "⚠️ WARNING: 'clauses' list is empty in 'RESEARCHCHEMAIAL SWITZERLAND/clauses.json'\n",
      "⚠️ WARNING: 'clauses' list is empty in 'Kink.com/clauses.json'\n",
      "\n",
      "✅ Extracted 14407 clause-rating pairs from the first two companies.\n",
      "\n",
      "('Instead of asking directly, this Service will assume your consent merely from your usage.', 'bad')\n",
      "('This service tracks which web page referred you to it', 'bad')\n",
      "('The service can sell or otherwise transfer your personal data as part of a bankruptcy proceeding or other type of financial transaction.', 'bad')\n",
      "('You must provide your legal name, pseudonyms are not allowed', 'bad')\n",
      "('This service employs third-party cookies, but with opt-out instructions', 'bad')\n"
     ]
    }
   ],
   "source": [
    "data_dir = \"data\"  # Data directory containing company folders\n",
    "clause_pairs = []\n",
    "\n",
    "# Step 1: Check if data directory exists\n",
    "if not os.path.exists(data_dir):\n",
    "    print(f\"❌ ERROR: Data directory '{data_dir}' does not exist.\")\n",
    "    exit()\n",
    "\n",
    "# Step 2: Initialize a counter for the companies\n",
    "company_counter = 0\n",
    "\n",
    "# Step 3: Loop through all company folders inside the data directory\n",
    "for company in os.listdir(data_dir):\n",
    "    company_path = os.path.join(data_dir, company)\n",
    "\n",
    "    # Check if it's a directory (company folder)\n",
    "    if os.path.isdir(company_path):\n",
    "        clause_file = os.path.join(company_path, \"clauses.json\")\n",
    "\n",
    "        # Step 4: Check if clauses.json exists\n",
    "        if not os.path.isfile(clause_file):\n",
    "            print(f\"❌ ERROR: 'clauses.json' not found in '{company}' folder\")\n",
    "            continue\n",
    "\n",
    "        try:\n",
    "            # Step 5: Check if clauses.json is valid JSON\n",
    "            with open(clause_file, \"r\", encoding=\"utf-8\") as f:\n",
    "                data = json.load(f)\n",
    "\n",
    "            # Step 6: Check if 'clauses' key exists\n",
    "            if \"clauses\" not in data:\n",
    "                print(f\"⚠️ WARNING: No 'clauses' key found in '{company}/clauses.json'\")\n",
    "                continue\n",
    "\n",
    "            clauses = data[\"clauses\"]\n",
    "            if not clauses:\n",
    "                print(f\"⚠️ WARNING: 'clauses' list is empty in '{company}/clauses.json'\")\n",
    "                continue\n",
    "\n",
    "            # Step 7: Extract (title, rating) pairs\n",
    "            for clause in clauses:\n",
    "                title = clause.get(\"title\", \"\").strip() if clause.get(\"title\") else \"\"\n",
    "                rating = clause.get(\"rating\", \"\").strip() if clause.get(\"rating\") else \"\"\n",
    "\n",
    "                if title and rating:\n",
    "                    clause_pairs.append((title, rating))\n",
    "                else:\n",
    "                    print(f\"⚠️ WARNING: Skipping a clause in '{company}' due to missing title or rating.\")\n",
    "        \n",
    "        except json.JSONDecodeError:\n",
    "            print(f\"❌ ERROR: Invalid JSON in '{company}/clauses.json'\")\n",
    "\n",
    "        # Step 8: Stop after the first 2 companies\n",
    "        company_counter += 1\n",
    "        if company_counter >= 900:\n",
    "            break  # Exit the loop after processing the first two companies\n",
    "\n",
    "# Final results\n",
    "print(f\"\\n✅ Extracted {len(clause_pairs)} clause-rating pairs from the first two companies.\\n\")\n",
    "for pair in clause_pairs[:5]:  # Print first 5 for checking\n",
    "    print(pair)\n"
   ]
  },
  {
   "cell_type": "code",
   "execution_count": 6,
   "metadata": {},
   "outputs": [
    {
     "name": "stdout",
     "output_type": "stream",
     "text": [
      "Before removal of duplicates: 14407 clause-rating pairs.\n",
      "✅ Removed exact duplicates. 1123 unique clause-rating pairs.\n",
      "Number of clauses which appear more than once in our dataset: 447.\n",
      "Number of clauses which we removed because there were already present once: 13284\n"
     ]
    }
   ],
   "source": [
    "# Step 1: Initialize a set to store unique clause-rating pairs, and non-unique clause-rating pais.\n",
    "unique_clause_pairs = set()\n",
    "non_unique_clause_pairs = set()\n",
    "occurrences_of_non_unique_clause_pairs = 0\n",
    "\n",
    "# Step 2: Filter out duplicates by checking if the pair already exists in the set\n",
    "filtered_clause_pairs = []\n",
    "\n",
    "for title, rating in clause_pairs:\n",
    "    # Use a tuple of (description, rating) as the set key\n",
    "    pair = (title, rating)\n",
    "    \n",
    "    # If the pair is not in the set, add it to the filtered list and the set\n",
    "    if pair not in unique_clause_pairs:\n",
    "        filtered_clause_pairs.append(pair)\n",
    "        unique_clause_pairs.add(pair)\n",
    "    else:\n",
    "        non_unique_clause_pairs.add(pair)\n",
    "        occurrences_of_non_unique_clause_pairs +=1\n",
    "\n",
    "unique_clause_pairs = list(unique_clause_pairs)\n",
    "non_unique_clause_pairs = list(non_unique_clause_pairs)\n",
    "\n",
    "# Step 3: Check how many unique pairs there are\n",
    "print(f\"Before removal of duplicates: {len(clause_pairs)} clause-rating pairs.\")\n",
    "print(f\"✅ Removed exact duplicates. {len(filtered_clause_pairs)} unique clause-rating pairs.\")\n",
    "print(f\"Number of clauses which appear more than once in our dataset: {len(non_unique_clause_pairs)}.\")\n",
    "print(f\"Number of clauses which we removed because there were already present once: {occurrences_of_non_unique_clause_pairs}\")\n"
   ]
  },
  {
   "cell_type": "code",
   "execution_count": 7,
   "metadata": {},
   "outputs": [
    {
     "name": "stdout",
     "output_type": "stream",
     "text": [
      "Title: The website are made available under a free software license\n",
      "Rating: good\n",
      "\n",
      "Title: User logs are deleted after 30 days\n",
      "Rating: good\n",
      "\n",
      "Title: SmartThings may change its terms at any time, but the user will receive notification of the changes.\n",
      "Rating: neutral\n",
      "\n",
      "Title: The court of law governing the terms is in San Francisco, California, U.S.A.\n",
      "Rating: neutral\n",
      "\n",
      "Title: This service provides an onion site accessible over Tor\n",
      "Rating: good\n",
      "\n"
     ]
    }
   ],
   "source": [
    "# Example of accessing the descriptions and ratings\n",
    "for pair in unique_clause_pairs[:5]:  # Print first 5 pairs for checking\n",
    "    title = pair[0]  # Clause description (x)\n",
    "    rating = pair[1]       # Clause rating (y)\n",
    "    print(f\"Title: {title}\\nRating: {rating}\\n\")"
   ]
  },
  {
   "attachments": {},
   "cell_type": "markdown",
   "metadata": {},
   "source": [
    "### 2. LEGAL-BERT model"
   ]
  },
  {
   "attachments": {},
   "cell_type": "markdown",
   "metadata": {},
   "source": [
    "#### a. Filtering: removing pairs with \"unknown\" as label."
   ]
  },
  {
   "cell_type": "code",
   "execution_count": 8,
   "metadata": {},
   "outputs": [
    {
     "name": "stdout",
     "output_type": "stream",
     "text": [
      "Data set size: 1074\n",
      "Train+dev set size: 859\n",
      "Test set size: 215\n"
     ]
    }
   ],
   "source": [
    "# Step 3.1: Filter out clauses with 'unknown' ratings\n",
    "filtered_clause_pairs = [(title, rating) for title, rating in unique_clause_pairs if rating != \"unknown\"]\n",
    "\n",
    "# Split the filtered data\n",
    "clauses, ratings = zip(*filtered_clause_pairs)  # Extract clauses and their ratings\n",
    "\n",
    "# Map ratings to integers\n",
    "rating_dict = {\"very bad\": 0, \"bad\": 1, \"neutral\": 2, \"good\": 3}  # Modify if you have different ratings\n",
    "ratings_int = [rating_dict[r] for r in ratings]\n",
    "\n",
    "# Step 3.2: Split data into train, dev, and test sets (80% train, 10% dev, 10% test)\n",
    "X_temp, X_test, y_temp, y_test = train_test_split(clauses, ratings_int, test_size=0.2, random_state=42)\n",
    "\n",
    "# Print size\n",
    "print(f\"Data set size: {len(filtered_clause_pairs)}\")\n",
    "print(f\"Train+dev set size: {len(y_temp)}\")\n",
    "print(f\"Test set size: {len(y_test)}\")"
   ]
  },
  {
   "attachments": {},
   "cell_type": "markdown",
   "metadata": {},
   "source": [
    "#### b. Deduplication based on n-gram similarity"
   ]
  },
  {
   "cell_type": "code",
   "execution_count": 9,
   "metadata": {},
   "outputs": [],
   "source": [
    "def get_ngrams(text, n=3):\n",
    "    \"\"\"Convert text into a set of n-grams.\"\"\"\n",
    "    tokens = nltk.word_tokenize(text.lower())  # Tokenize and lowercase\n",
    "    tokens = [t for t in tokens if t.isalnum() and t not in ENGLISH_STOP_WORDS]  # Remove stopwords and non-alphanumeric\n",
    "    return set(ngrams(tokens, n))\n",
    "\n",
    "def jaccard_similarity(set1, set2):\n",
    "    \"\"\"Compute Jaccard similarity between two sets.\"\"\"\n",
    "    intersection = len(set1 & set2)\n",
    "    union = len(set1 | set2)\n",
    "    return intersection / union if union != 0 else 0\n",
    "\n",
    "def deduplicate_test_set(train_clauses, test_clauses, test_labels, threshold=0.7, n=3):\n",
    "    \"\"\"Remove test clauses that are too similar to any train clause based on n-gram Jaccard similarity.\"\"\"\n",
    "    train_ngrams = [get_ngrams(clause, n) for clause in train_clauses]\n",
    "    \n",
    "    filtered_test_clauses = []\n",
    "    filtered_test_labels = []\n",
    "    \n",
    "    for test_clause, test_label in zip(test_clauses, test_labels):\n",
    "        test_ngram_set = get_ngrams(test_clause, n)\n",
    "        \n",
    "        # Check similarity with each train clause\n",
    "        max_similarity = max(jaccard_similarity(test_ngram_set, train_set) for train_set in train_ngrams)\n",
    "        \n",
    "        if max_similarity < threshold:\n",
    "            filtered_test_clauses.append(test_clause)\n",
    "            filtered_test_labels.append(test_label)\n",
    "    \n",
    "    return filtered_test_clauses, filtered_test_labels"
   ]
  },
  {
   "cell_type": "code",
   "execution_count": 10,
   "metadata": {},
   "outputs": [
    {
     "name": "stdout",
     "output_type": "stream",
     "text": [
      "Before deduplication: test+dev set size is 215\n",
      "After deduplication: test+dev set size is 155\n"
     ]
    }
   ],
   "source": [
    "# Apply deduplication\n",
    "print(f\"Before deduplication: test+dev set size is {len(y_test)}\")\n",
    "X_test, y_test = deduplicate_test_set(X_temp, X_test, y_test, threshold=0.7, n=3)\n",
    "print(f\"After deduplication: test+dev set size is {len(y_test)}\")"
   ]
  },
  {
   "attachments": {},
   "cell_type": "markdown",
   "metadata": {},
   "source": [
    "#### c. Training LEGAL-BERT"
   ]
  },
  {
   "cell_type": "code",
   "execution_count": 11,
   "metadata": {},
   "outputs": [
    {
     "name": "stdout",
     "output_type": "stream",
     "text": [
      "Train set size: 730\n",
      "Dev set size: 129\n"
     ]
    }
   ],
   "source": [
    "X_train, X_dev, y_train, y_dev = train_test_split(X_temp, y_temp, test_size=0.15, random_state=42)\n",
    "print(f\"Train set size: {len(y_train)}\")\n",
    "print(f\"Dev set size: {len(y_dev)}\")\n",
    "\n",
    "# Step 3.3: Convert into a format that Hugging Face can use\n",
    "train_data = Dataset.from_dict({\"text\": X_train, \"label\": y_train})\n",
    "dev_data = Dataset.from_dict({\"text\": X_dev, \"label\": y_dev})\n",
    "test_data = Dataset.from_dict({\"text\": X_test, \"label\": y_test})"
   ]
  },
  {
   "cell_type": "code",
   "execution_count": 12,
   "metadata": {},
   "outputs": [
    {
     "data": {
      "application/vnd.jupyter.widget-view+json": {
       "model_id": "2e88bfdad841408590f49d3a441e12dd",
       "version_major": 2,
       "version_minor": 0
      },
      "text/plain": [
       "Map:   0%|          | 0/730 [00:00<?, ? examples/s]"
      ]
     },
     "metadata": {},
     "output_type": "display_data"
    },
    {
     "data": {
      "application/vnd.jupyter.widget-view+json": {
       "model_id": "cdea30a221664a93838ba4cfd7ef5357",
       "version_major": 2,
       "version_minor": 0
      },
      "text/plain": [
       "Map:   0%|          | 0/129 [00:00<?, ? examples/s]"
      ]
     },
     "metadata": {},
     "output_type": "display_data"
    },
    {
     "data": {
      "application/vnd.jupyter.widget-view+json": {
       "model_id": "b156bb74e1574baba7911549186dcc62",
       "version_major": 2,
       "version_minor": 0
      },
      "text/plain": [
       "Map:   0%|          | 0/155 [00:00<?, ? examples/s]"
      ]
     },
     "metadata": {},
     "output_type": "display_data"
    },
    {
     "data": {
      "application/vnd.jupyter.widget-view+json": {
       "model_id": "51a63c9dd7854b789bd04cb44eb9c0f5",
       "version_major": 2,
       "version_minor": 0
      },
      "text/plain": [
       "Map:   0%|          | 0/730 [00:00<?, ? examples/s]"
      ]
     },
     "metadata": {},
     "output_type": "display_data"
    },
    {
     "data": {
      "application/vnd.jupyter.widget-view+json": {
       "model_id": "36220cd94cff4fbeaa261e804beaaaaf",
       "version_major": 2,
       "version_minor": 0
      },
      "text/plain": [
       "Map:   0%|          | 0/129 [00:00<?, ? examples/s]"
      ]
     },
     "metadata": {},
     "output_type": "display_data"
    },
    {
     "data": {
      "application/vnd.jupyter.widget-view+json": {
       "model_id": "e68a44bbc4ca4334826ff4675231dc58",
       "version_major": 2,
       "version_minor": 0
      },
      "text/plain": [
       "Map:   0%|          | 0/155 [00:00<?, ? examples/s]"
      ]
     },
     "metadata": {},
     "output_type": "display_data"
    },
    {
     "data": {
      "application/vnd.jupyter.widget-view+json": {
       "model_id": "3e9399b8978a4341a9bc30d14e3c864e",
       "version_major": 2,
       "version_minor": 0
      },
      "text/plain": [
       "Map:   0%|          | 0/730 [00:00<?, ? examples/s]"
      ]
     },
     "metadata": {},
     "output_type": "display_data"
    },
    {
     "name": "stderr",
     "output_type": "stream",
     "text": [
      "/var/folders/zl/gjtb3by11p7b_j804bt863qh0000gn/T/ipykernel_7346/2024427771.py:24: UserWarning: To copy construct from a tensor, it is recommended to use sourceTensor.clone().detach() or sourceTensor.clone().detach().requires_grad_(True), rather than torch.tensor(sourceTensor).\n",
      "  train_data = train_data.map(lambda x: {\"label\": torch.tensor(x[\"label\"]).long()})\n"
     ]
    },
    {
     "data": {
      "application/vnd.jupyter.widget-view+json": {
       "model_id": "375da2a560c54735bedf3ce1c9d5c618",
       "version_major": 2,
       "version_minor": 0
      },
      "text/plain": [
       "Map:   0%|          | 0/129 [00:00<?, ? examples/s]"
      ]
     },
     "metadata": {},
     "output_type": "display_data"
    },
    {
     "name": "stderr",
     "output_type": "stream",
     "text": [
      "/var/folders/zl/gjtb3by11p7b_j804bt863qh0000gn/T/ipykernel_7346/2024427771.py:25: UserWarning: To copy construct from a tensor, it is recommended to use sourceTensor.clone().detach() or sourceTensor.clone().detach().requires_grad_(True), rather than torch.tensor(sourceTensor).\n",
      "  dev_data = dev_data.map(lambda x: {\"label\": torch.tensor(x[\"label\"]).long()})\n"
     ]
    },
    {
     "data": {
      "application/vnd.jupyter.widget-view+json": {
       "model_id": "b0e0e96cf1064de78223df40195858e7",
       "version_major": 2,
       "version_minor": 0
      },
      "text/plain": [
       "Map:   0%|          | 0/155 [00:00<?, ? examples/s]"
      ]
     },
     "metadata": {},
     "output_type": "display_data"
    },
    {
     "name": "stderr",
     "output_type": "stream",
     "text": [
      "/var/folders/zl/gjtb3by11p7b_j804bt863qh0000gn/T/ipykernel_7346/2024427771.py:26: UserWarning: To copy construct from a tensor, it is recommended to use sourceTensor.clone().detach() or sourceTensor.clone().detach().requires_grad_(True), rather than torch.tensor(sourceTensor).\n",
      "  test_data = test_data.map(lambda x: {\"label\": torch.tensor(x[\"label\"]).long()})\n"
     ]
    }
   ],
   "source": [
    "# Step 4.1: Load the BERT tokenizer\n",
    "tokenizer = BertTokenizer.from_pretrained(\"nlpaueb/legal-bert-base-uncased\")\n",
    "\n",
    "# Step 4.2: Define a function to tokenize the input texts\n",
    "def tokenize_function(examples):\n",
    "    return tokenizer(examples.get('text', \"\"), padding='max_length', truncation=True, max_length=512)\n",
    "\n",
    "# Step 4.3: Apply the tokenizer to the train, dev, and test datasets\n",
    "train_data = train_data.map(tokenize_function, batched=True)\n",
    "dev_data = dev_data.map(tokenize_function, batched=True)\n",
    "test_data = test_data.map(tokenize_function, batched=True)\n",
    "\n",
    "# Step 4.4: Set the format for PyTorch\n",
    "train_data.set_format(type='torch', columns=['input_ids', 'attention_mask', 'token_type_ids', 'label'])\n",
    "dev_data.set_format(type='torch', columns=['input_ids', 'attention_mask', 'token_type_ids', 'label'])\n",
    "test_data.set_format(type='torch', columns=['input_ids', 'attention_mask', 'token_type_ids', 'label'])\n",
    "\n",
    "# Step 4.5: Remove the original text filed\n",
    "train_data = train_data.map(tokenize_function, batched=True, remove_columns=[\"text\"])\n",
    "dev_data = dev_data.map(tokenize_function, batched=True, remove_columns=[\"text\"])\n",
    "test_data = test_data.map(tokenize_function, batched=True, remove_columns=[\"text\"])\n",
    "\n",
    "# Step 4.6: Make sure we are working with longs\n",
    "train_data = train_data.map(lambda x: {\"label\": torch.tensor(x[\"label\"]).long()})\n",
    "dev_data = dev_data.map(lambda x: {\"label\": torch.tensor(x[\"label\"]).long()})\n",
    "test_data = test_data.map(lambda x: {\"label\": torch.tensor(x[\"label\"]).long()})"
   ]
  },
  {
   "cell_type": "code",
   "execution_count": 13,
   "metadata": {},
   "outputs": [],
   "source": [
    "# Step 5.1: Take a smaller sample (e.g., 5%) of the training data\n",
    "train_sample = train_data.shuffle(seed=42).select(range(int(0.5 * len(train_data))))\n",
    "dev_sample = dev_data.shuffle(seed=42).select(range(int(0.5*len(dev_data))))"
   ]
  },
  {
   "cell_type": "code",
   "execution_count": 14,
   "metadata": {},
   "outputs": [],
   "source": [
    "def compute_metrics(eval_pred):\n",
    "    logits, labels = eval_pred\n",
    "    preds = np.argmax(logits, axis=1)  # Convert logits to predicted labels\n",
    "\n",
    "    accuracy = accuracy_score(labels, preds)\n",
    "    precision = precision_score(labels, preds, average='weighted')\n",
    "    recall = recall_score(labels, preds, average='weighted')\n",
    "    f1 = f1_score(labels, preds, average='weighted')\n",
    "\n",
    "    return {\n",
    "        \"accuracy\": accuracy,\n",
    "        \"precision\": precision,\n",
    "        \"recall\": recall,\n",
    "        \"f1\": f1\n",
    "    }"
   ]
  },
  {
   "cell_type": "code",
   "execution_count": 15,
   "metadata": {},
   "outputs": [
    {
     "name": "stderr",
     "output_type": "stream",
     "text": [
      "/Users/benjaminward/opt/anaconda3/lib/python3.9/site-packages/torch/_utils.py:831: UserWarning: TypedStorage is deprecated. It will be removed in the future and UntypedStorage will be the only storage class. This should only matter to you if you are using storages directly.  To access UntypedStorage directly, use tensor.untyped_storage() instead of tensor.storage()\n",
      "  return self.fget.__get__(instance, owner)()\n",
      "Some weights of BertForSequenceClassification were not initialized from the model checkpoint at nlpaueb/legal-bert-base-uncased and are newly initialized: ['classifier.bias', 'classifier.weight']\n",
      "You should probably TRAIN this model on a down-stream task to be able to use it for predictions and inference.\n"
     ]
    },
    {
     "name": "stdout",
     "output_type": "stream",
     "text": [
      "trainable params: 297,988 || all params: 109,783,304 || trainable%: 0.2714\n"
     ]
    }
   ],
   "source": [
    "# Load the base BERT model\n",
    "base_model = BertForSequenceClassification.from_pretrained(\"nlpaueb/legal-bert-base-uncased\", num_labels=4)\n",
    "\n",
    "# Define LoRA configuration\n",
    "lora_config = LoraConfig(\n",
    "    task_type=TaskType.SEQ_CLS,  # Sequence Classification Task\n",
    "    inference_mode=False,        # Training mode\n",
    "    r=8,                         # LoRA rank (controls trainable parameters) - experiment with 4, 16 also (higher = more specific & memory usage)\n",
    "    lora_alpha=16,               # Scaling factor for LoRA - alpha  = 2*r is a common heuristic\n",
    "    lora_dropout=0.1,            # Dropout for better generalization - default is 0.05, but 0.1 for regularization.\n",
    ")\n",
    "\n",
    "# Apply LoRA to the model\n",
    "model = get_peft_model(base_model, lora_config)\n",
    "\n",
    "# Print trainable parameters (LoRA will modify only a small subset of layers)\n",
    "model.print_trainable_parameters()"
   ]
  },
  {
   "cell_type": "code",
   "execution_count": 16,
   "metadata": {},
   "outputs": [],
   "source": [
    "# Step 0: Create a custom callback to store losses\n",
    "class LossesCallback(TrainerCallback):\n",
    "    def __init__(self):\n",
    "        self.train_losses = []\n",
    "        self.dev_losses = []\n",
    "\n",
    "    def on_log(self, args, state, control, logs=None, **kwargs):\n",
    "        if logs is not None:\n",
    "            if 'loss' in logs:  # Capture training loss\n",
    "                self.train_losses.append(logs['loss'])\n",
    "            if 'eval_loss' in logs:  # Capture development loss\n",
    "                self.dev_losses.append(logs['eval_loss'])\n",
    "\n",
    "# Step 1: Instantiate the custom callback\n",
    "losses_callback = LossesCallback()"
   ]
  },
  {
   "cell_type": "code",
   "execution_count": 17,
   "metadata": {},
   "outputs": [
    {
     "name": "stderr",
     "output_type": "stream",
     "text": [
      "No label_names provided for model class `PeftModelForSequenceClassification`. Since `PeftModel` hides base models input arguments, if label_names is not given, label_names can't be set automatically within `Trainer`. Note that empty label_names list will be used instead.\n"
     ]
    }
   ],
   "source": [
    "# Step 2: Modify TrainingArguments for LoRA training\n",
    "training_args = TrainingArguments(\n",
    "    output_dir='./results',\n",
    "    eval_strategy=\"epoch\",  # Evaluate after each epoch\n",
    "    save_strategy=\"epoch\",  # Save model at each epoch\n",
    "    save_total_limit=2,  # Keep last 2 checkpoints\n",
    "    learning_rate=2e-4,  # LoRA fine-tuning needs a slightly higher LR - can try 1e-4 and 5e-5.\n",
    "    per_device_train_batch_size=2, # - should be 8 or 16 for both.\n",
    "    per_device_eval_batch_size=2,\n",
    "    gradient_accumulation_steps=4,  # Simulates larger batch size\n",
    "    num_train_epochs=4,  # LoRA converges faster, so fewer epochs are needed\n",
    "    weight_decay=0.01,\n",
    "    logging_dir='./logs',\n",
    "    logging_steps=10,  # Log every 10 steps\n",
    "    report_to=\"tensorboard\",  # Use TensorBoard for better visualization\n",
    ")\n",
    "\n",
    "# Step 3: Create Trainer with LoRA model and custom callback\n",
    "trainer = Trainer(\n",
    "    model=model,  # LoRA-wrapped model\n",
    "    args=training_args,\n",
    "    train_dataset=train_sample,\n",
    "    eval_dataset=dev_sample,\n",
    "    compute_metrics=compute_metrics,\n",
    "    callbacks=[losses_callback],  # Add custom loss-tracking callback\n",
    ")"
   ]
  },
  {
   "cell_type": "code",
   "execution_count": 18,
   "metadata": {},
   "outputs": [
    {
     "data": {
      "text/html": [
       "\n",
       "    <div>\n",
       "      \n",
       "      <progress value='180' max='180' style='width:300px; height:20px; vertical-align: middle;'></progress>\n",
       "      [180/180 07:50, Epoch 3/4]\n",
       "    </div>\n",
       "    <table border=\"1\" class=\"dataframe\">\n",
       "  <thead>\n",
       " <tr style=\"text-align: left;\">\n",
       "      <th>Epoch</th>\n",
       "      <th>Training Loss</th>\n",
       "      <th>Validation Loss</th>\n",
       "      <th>Accuracy</th>\n",
       "      <th>Precision</th>\n",
       "      <th>Recall</th>\n",
       "      <th>F1</th>\n",
       "    </tr>\n",
       "  </thead>\n",
       "  <tbody>\n",
       "    <tr>\n",
       "      <td>0</td>\n",
       "      <td>1.131900</td>\n",
       "      <td>1.076104</td>\n",
       "      <td>0.484375</td>\n",
       "      <td>0.234619</td>\n",
       "      <td>0.484375</td>\n",
       "      <td>0.316118</td>\n",
       "    </tr>\n",
       "    <tr>\n",
       "      <td>1</td>\n",
       "      <td>1.089000</td>\n",
       "      <td>1.063696</td>\n",
       "      <td>0.453125</td>\n",
       "      <td>0.234115</td>\n",
       "      <td>0.453125</td>\n",
       "      <td>0.308723</td>\n",
       "    </tr>\n",
       "    <tr>\n",
       "      <td>2</td>\n",
       "      <td>1.055300</td>\n",
       "      <td>1.048721</td>\n",
       "      <td>0.468750</td>\n",
       "      <td>0.275583</td>\n",
       "      <td>0.468750</td>\n",
       "      <td>0.334212</td>\n",
       "    </tr>\n",
       "    <tr>\n",
       "      <td>3</td>\n",
       "      <td>1.074200</td>\n",
       "      <td>1.056981</td>\n",
       "      <td>0.453125</td>\n",
       "      <td>0.226562</td>\n",
       "      <td>0.453125</td>\n",
       "      <td>0.302083</td>\n",
       "    </tr>\n",
       "  </tbody>\n",
       "</table><p>"
      ],
      "text/plain": [
       "<IPython.core.display.HTML object>"
      ]
     },
     "metadata": {},
     "output_type": "display_data"
    },
    {
     "data": {
      "text/plain": [
       "TrainOutput(global_step=180, training_loss=1.1253882673051623, metrics={'train_runtime': 478.1534, 'train_samples_per_second': 3.053, 'train_steps_per_second': 0.376, 'total_flos': 381789114089472.0, 'train_loss': 1.1253882673051623, 'epoch': 3.9836065573770494})"
      ]
     },
     "execution_count": 18,
     "metadata": {},
     "output_type": "execute_result"
    }
   ],
   "source": [
    "trainer.train()"
   ]
  },
  {
   "cell_type": "code",
   "execution_count": 19,
   "metadata": {},
   "outputs": [
    {
     "data": {
      "image/png": "[encoded data removed]",
      "text/plain": [
       "<Figure size 720x432 with 1 Axes>"
      ]
     },
     "metadata": {
      "needs_background": "light"
     },
     "output_type": "display_data"
    }
   ],
   "source": [
    "# Step 5: Plot the training and development losses\n",
    "epochs = list(range(1, len(losses_callback.train_losses) + 1))  # Create an array for epochs (assuming one log per epoch)\n",
    "\n",
    "# Ensure both training and development losses are the same length\n",
    "min_len = min(len(losses_callback.train_losses), len(losses_callback.dev_losses))\n",
    "\n",
    "plt.figure(figsize=(10, 6))\n",
    "plt.plot(epochs[:min_len], losses_callback.train_losses[:min_len], label=\"Training Loss\", marker='o', linestyle='-', color='b')\n",
    "plt.plot(epochs[:min_len], losses_callback.dev_losses[:min_len], label=\"Development Loss\", marker='o', linestyle='--', color='r')\n",
    "plt.xlabel(\"Epochs\")\n",
    "plt.ylabel(\"Loss\")\n",
    "plt.title(\"Training and Development Loss per Epoch\")\n",
    "plt.legend()\n",
    "plt.grid(True)\n",
    "plt.show()"
   ]
  },
  {
   "cell_type": "code",
   "execution_count": 20,
   "metadata": {},
   "outputs": [
    {
     "data": {
      "text/html": [
       "\n",
       "    <div>\n",
       "      \n",
       "      <progress value='431' max='365' style='width:300px; height:20px; vertical-align: middle;'></progress>\n",
       "      [365/365 01:46]\n",
       "    </div>\n",
       "    "
      ],
      "text/plain": [
       "<IPython.core.display.HTML object>"
      ]
     },
     "metadata": {},
     "output_type": "display_data"
    },
    {
     "name": "stdout",
     "output_type": "stream",
     "text": [
      "Train Loss: 1.0897\n",
      "Train Accuracy: 0.3932\n",
      "Dev Loss: 1.0556\n",
      "Dev Accuracy: 0.4806\n"
     ]
    },
    {
     "name": "stderr",
     "output_type": "stream",
     "text": [
      "/Users/benjaminward/opt/anaconda3/lib/python3.9/site-packages/sklearn/metrics/_classification.py:1245: UndefinedMetricWarning: Precision is ill-defined and being set to 0.0 in labels with no predicted samples. Use `zero_division` parameter to control this behavior.\n",
      "  _warn_prf(average, modifier, msg_start, len(result))\n"
     ]
    }
   ],
   "source": [
    "# Evaluate on the train set\n",
    "train_results = trainer.evaluate(train_data)\n",
    "# Print loss and accuracy\n",
    "print(f\"Train Loss: {train_results['eval_loss']:.4f}\")\n",
    "print(f\"Train Accuracy: {train_results['eval_accuracy']:.4f}\")  # Accuracy from compute_metrics\n",
    "# Evaluate on the dev set\n",
    "dev_results = trainer.evaluate(dev_data)\n",
    "# Print loss and accuracy\n",
    "print(f\"Dev Loss: {dev_results['eval_loss']:.4f}\")\n",
    "print(f\"Dev Accuracy: {dev_results['eval_accuracy']:.4f}\")  # Accuracy from compute_metrics"
   ]
  },
  {
   "cell_type": "code",
   "execution_count": 21,
   "metadata": {},
   "outputs": [
    {
     "name": "stdout",
     "output_type": "stream",
     "text": [
      "Test Loss: 1.0477\n",
      "Test Accuracy: 0.4903\n"
     ]
    },
    {
     "name": "stderr",
     "output_type": "stream",
     "text": [
      "/Users/benjaminward/opt/anaconda3/lib/python3.9/site-packages/sklearn/metrics/_classification.py:1245: UndefinedMetricWarning: Precision is ill-defined and being set to 0.0 in labels with no predicted samples. Use `zero_division` parameter to control this behavior.\n",
      "  _warn_prf(average, modifier, msg_start, len(result))\n"
     ]
    }
   ],
   "source": [
    "# Evaluate on the test set\n",
    "test_results = trainer.evaluate(test_data)\n",
    "\n",
    "# Print loss and accuracy\n",
    "print(f\"Test Loss: {test_results['eval_loss']:.4f}\")\n",
    "print(f\"Test Accuracy: {test_results['eval_accuracy']:.4f}\")  # Accuracy from compute_metrics"
   ]
  }
 ],
 "metadata": {
  "kernelspec": {
   "display_name": "Python 3",
   "language": "python",
   "name": "python3"
  },
  "language_info": {
   "codemirror_mode": {
    "name": "ipython",
    "version": 3
   },
   "file_extension": ".py",
   "mimetype": "text/x-python",
   "name": "python",
   "nbconvert_exporter": "python",
   "pygments_lexer": "ipython3",
   "version": "3.9.12"
  },
  "orig_nbformat": 4
 },
 "nbformat": 4,
 "nbformat_minor": 2
}
