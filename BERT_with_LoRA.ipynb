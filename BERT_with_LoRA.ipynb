{
 "cells": [
  {
   "cell_type": "markdown",
   "metadata": {},
   "source": [
    "## BERT model:"
   ]
  },
  {
   "cell_type": "code",
   "execution_count": 1,
   "metadata": {},
   "outputs": [
    {
     "name": "stderr",
     "output_type": "stream",
     "text": [
      "/Users/benjaminward/opt/anaconda3/lib/python3.9/site-packages/pandas/core/computation/expressions.py:21: UserWarning: Pandas requires version '2.8.4' or newer of 'numexpr' (version '2.8.1' currently installed).\n",
      "  from pandas.core.computation.check import NUMEXPR_INSTALLED\n",
      "/Users/benjaminward/opt/anaconda3/lib/python3.9/site-packages/pandas/core/arrays/masked.py:60: UserWarning: Pandas requires version '1.3.6' or newer of 'bottleneck' (version '1.3.4' currently installed).\n",
      "  from pandas.core import (\n",
      "[nltk_data] Downloading package punkt to\n",
      "[nltk_data]     /Users/benjaminward/nltk_data...\n",
      "[nltk_data]   Package punkt is already up-to-date!\n"
     ]
    }
   ],
   "source": [
    "# For retrieving the clauses and labels.\n",
    "import os\n",
    "import json\n",
    "# For the duplicates\n",
    "from collections import defaultdict, Counter\n",
    "# For BERT\n",
    "import torch\n",
    "import numpy as np\n",
    "from datasets import load_dataset, Dataset\n",
    "from sklearn.model_selection import train_test_split\n",
    "from transformers import BertTokenizer, BertForSequenceClassification, Trainer, TrainingArguments, TrainerCallback\n",
    "from sklearn.metrics import accuracy_score, classification_report\n",
    "# For deduplication\n",
    "import nltk\n",
    "from nltk.util import ngrams\n",
    "from sklearn.feature_extraction.text import ENGLISH_STOP_WORDS\n",
    "nltk.download('punkt')\n",
    "# For metrics\n",
    "from sklearn.metrics import accuracy_score, precision_score, recall_score, f1_score\n",
    "# For plots \n",
    "import matplotlib.pyplot as plt\n",
    "# For LoRA\n",
    "from peft import LoraConfig, get_peft_model, TaskType"
   ]
  },
  {
   "attachments": {},
   "cell_type": "markdown",
   "metadata": {},
   "source": [
    "### 1. Extracting the individual clauses and labels"
   ]
  },
  {
   "attachments": {},
   "cell_type": "markdown",
   "metadata": {},
   "source": [
    "#### a. Data extraction"
   ]
  },
  {
   "cell_type": "code",
   "execution_count": 2,
   "metadata": {},
   "outputs": [
    {
     "name": "stdout",
     "output_type": "stream",
     "text": [
      "⚠️ WARNING: 'clauses' list is empty in 'RESEARCHCHEMAIAL SWITZERLAND/clauses.json'\n",
      "⚠️ WARNING: 'clauses' list is empty in 'Kink.com/clauses.json'\n",
      "\n",
      "✅ Extracted 14407 clause-rating pairs from the first two companies.\n",
      "\n",
      "('Instead of asking directly, this Service will assume your consent merely from your usage.', 'bad')\n",
      "('This service tracks which web page referred you to it', 'bad')\n",
      "('The service can sell or otherwise transfer your personal data as part of a bankruptcy proceeding or other type of financial transaction.', 'bad')\n",
      "('You must provide your legal name, pseudonyms are not allowed', 'bad')\n",
      "('This service employs third-party cookies, but with opt-out instructions', 'bad')\n"
     ]
    }
   ],
   "source": [
    "data_dir = \"data_all_202503120623106\"  # Data directory containing company folders\n",
    "clause_pairs = []\n",
    "\n",
    "# Step 1: Check if data directory exists\n",
    "if not os.path.exists(data_dir):\n",
    "    print(f\"❌ ERROR: Data directory '{data_dir}' does not exist.\")\n",
    "    exit()\n",
    "\n",
    "# Step 3: Loop through all company folders inside the data directory\n",
    "for company in os.listdir(data_dir):\n",
    "    company_path = os.path.join(data_dir, company)\n",
    "\n",
    "    # Check if it's a directory (company folder)\n",
    "    if os.path.isdir(company_path):\n",
    "        clause_file = os.path.join(company_path, \"clauses.json\")\n",
    "\n",
    "        # Step 4: Check if clauses.json exists\n",
    "        if not os.path.isfile(clause_file):\n",
    "            print(f\"❌ ERROR: 'clauses.json' not found in '{company}' folder\")\n",
    "            continue\n",
    "\n",
    "        try:\n",
    "            # Step 5: Check if clauses.json is valid JSON\n",
    "            with open(clause_file, \"r\", encoding=\"utf-8\") as f:\n",
    "                data = json.load(f)\n",
    "\n",
    "            # Step 6: Check if 'clauses' key exists\n",
    "            if \"clauses\" not in data:\n",
    "                print(f\"⚠️ WARNING: No 'clauses' key found in '{company}/clauses.json'\")\n",
    "                continue\n",
    "\n",
    "            clauses = data[\"clauses\"]\n",
    "            if not clauses:\n",
    "                print(f\"⚠️ WARNING: 'clauses' list is empty in '{company}/clauses.json'\")\n",
    "                continue\n",
    "\n",
    "            # Step 7: Extract (clause_text, rating) pairs\n",
    "            for clause in clauses:\n",
    "                clause_text = clause.get(\"clause_text\", \"\").strip() if clause.get(\"clause_text\") else \"\"\n",
    "                rating = clause.get(\"rating\", \"\").strip() if clause.get(\"rating\") else \"\"\n",
    "\n",
    "                if clause_text and rating:\n",
    "                    clause_pairs.append((clause_text, rating))\n",
    "                else:\n",
    "                    print(f\"⚠️ WARNING: Skipping a clause in '{company}' due to missing clause_text or rating.\")\n",
    "        \n",
    "        except json.JSONDecodeError:\n",
    "            print(f\"❌ ERROR: Invalid JSON in '{company}/clauses.json'\")\n",
    "\n",
    "\n",
    "# Final results\n",
    "print(f\"\\n✅ Extracted {len(clause_pairs)} clause-rating pairs from the first two companies.\\n\")\n",
    "for pair in clause_pairs[:5]:  # Print first 5 for checking\n",
    "    print(pair)\n"
   ]
  },
  {
   "attachments": {},
   "cell_type": "markdown",
   "metadata": {},
   "source": [
    "#### b. Duplicate analysis"
   ]
  },
  {
   "cell_type": "code",
   "execution_count": 3,
   "metadata": {},
   "outputs": [
    {
     "name": "stdout",
     "output_type": "stream",
     "text": [
      "⚠️ WARNING: 'clauses' list is empty in 'RESEARCHCHEMAIAL SWITZERLAND/clauses.json'\n",
      "⚠️ WARNING: 'clauses' list is empty in 'Kink.com/clauses.json'\n"
     ]
    }
   ],
   "source": [
    "clause_pairs = []  # Reset to include folder info\n",
    "\n",
    "# Step 3: Loop through all company folders inside the data directory\n",
    "for company in os.listdir(data_dir):\n",
    "    company_path = os.path.join(data_dir, company)\n",
    "\n",
    "    if os.path.isdir(company_path):\n",
    "        clause_file = os.path.join(company_path, \"clauses.json\")\n",
    "\n",
    "        if not os.path.isfile(clause_file):\n",
    "            print(f\"❌ ERROR: 'clauses.json' not found in '{company}' folder\")\n",
    "            continue\n",
    "\n",
    "        try:\n",
    "            with open(clause_file, \"r\", encoding=\"utf-8\") as f:\n",
    "                data = json.load(f)\n",
    "\n",
    "            if \"clauses\" not in data:\n",
    "                print(f\"⚠️ WARNING: No 'clauses' key found in '{company}/clauses.json'\")\n",
    "                continue\n",
    "\n",
    "            clauses = data[\"clauses\"]\n",
    "            if not clauses:\n",
    "                print(f\"⚠️ WARNING: 'clauses' list is empty in '{company}/clauses.json'\")\n",
    "                continue\n",
    "\n",
    "            # Store (clause_text, rating, folder)\n",
    "            for clause in clauses:\n",
    "                clause_text = clause.get(\"clause_text\", \"\").strip() if clause.get(\"clause_text\") else \"\"\n",
    "                rating = clause.get(\"rating\", \"\").strip() if clause.get(\"rating\") else \"\"\n",
    "\n",
    "                if clause_text and rating:\n",
    "                    clause_pairs.append((clause_text, rating, company))  # Store the folder name\n",
    "                else:\n",
    "                    print(f\"⚠️ WARNING: Skipping a clause in '{company}' due to missing clause_text or rating.\")\n",
    "\n",
    "        except json.JSONDecodeError:\n",
    "            print(f\"❌ ERROR: Invalid JSON in '{company}/clauses.json'\")"
   ]
  },
  {
   "cell_type": "code",
   "execution_count": 4,
   "metadata": {},
   "outputs": [
    {
     "name": "stdout",
     "output_type": "stream",
     "text": [
      "\n",
      "🔍 Top 10 most duplicated clause-rating pairs:\n",
      "Clause: There is a date of the last update of the agreements\n",
      "Rating: neutral\n",
      "Occurrences: 198\n",
      "Found in folders: Waterfox, Brilliant, Bilibili, Notion, BBVA, Busuu, Roadtrip Nation, Google Chrome, ShortcutWorld.com, Flickr, Netflix, Le Monde, Instagram, Nslookup, Fedora, Simitless, Audacity, Odysee, Free, TechByte Net, Jeuxvideo.com, MySudo, How-To Geek, Le Soir, Jitsi, HideMyAss!, Fedora Email, Guiding Tech, Heaven HR, Nextcloud, Open Collective, Mozilla Thunderbird, Privacy.com, xda-developers, Douban, Booking.com, Le Parisien, Unity, CNN, DrugBank, Schoology, Translate, Pinterest, Astronomer, Dropbox, Vercel, Alibaba, FairTec, Prisma Media, Arch Linux, OpenStreetMap, Merriam-Webster, Wallapop, Encyclopedia Britannica, Enpass, Crain's Chicago Business, KDE, Speedtest by Ookla, Archive of Our Own, MyAnimeList, Eltiempo.es, Headspace, Flipboard, Avast, The Filipino Channel, kik-messenger, ePlus Technology, F-List, NordVPN, Getty Images, Codeberg, Deveroonie.xyz, Malwarebytes, Free Code Camp, Mega, GlobaliD, Tuta, Washington Post, MobyGames, Однокла́ссники (Ok.ru), Minecraft, Calendly, Opera, Weatheralex1 Hub, Elk.zone, Strava, APK Pure, Gap Creek Media, Skillshare, iFunny, iCloud, OsmAnd, GeeksforGeeks, ptgms Industries, Consumer News & Business Channel, Future PLC, Gather Town, Zoom Video Communications, Wise, Vox Media, FanFiction, The Movie Database (TMDb), hCaptcha, Represent, MuseScore, Toggl Track, Brave, Marmiton, The Walt Disney Company, Xiaomi, Weblate, Follow My Health, VPN.AC, SpaceHey, Samsung, BFM TV, Disney+, Free Software Foundation, BudgetBakers, mastodon.social, Guilded, Tumblr, Google, WikiTree, Authy (Twilio), PayPal, Huawei, Pantip.com, Condé Nast, Tubi, Linguee, Twitch, IVPN, RethinkDNS, Dark Reader, JojoYou (PriEco), Cryptomator, CodeSandbox, Wish, Leetify, EthanMcBloxxer, Disroot, Canvas, Among Us, Medium, Forbes, Cisco, Yahoo!, CouchSurfing, Le Bon Coin, Yello, TubeBuddy, Uber, ClassDojo, FreeTube, Reddit, Credit Karma, Conjuguemos, Selfie2Anime, Parler, GoDaddy, LBRY, Replika, Gfycat, Metager, Prezi, Apple Services, Microspot, Gettr, DeviantArt, Lichess, Orange, SpanishDict, TourOfCalifornia.org, Vivaldi, ProtonVPN, NBC News, Recipe Realm, eBuddy, FaceApp, YNAB. (You Need a Budget), STiBaRC, ADT, Swiss Government, Symbaloo, Zoho, SpigotMC\n",
      "--------------------------------------------------------------------------------\n",
      "Clause: You are responsible for maintaining the security of your account and for the activities on your account\n",
      "Rating: neutral\n",
      "Occurrences: 189\n",
      "Found in folders: Brilliant, Team SDS, Bilibili, Fandango, Instructure, Busuu, Blizzard, Roadtrip Nation, Le Monde, Turnitin, DiscourseHosting, Netflix, Metacafe, WhatsApp, Dendreo, Observable, Doodle, Atlassian, CollegeBoard, YTMP3.CC, Fedora Email, Filen, UptimeRobot, Amazon AWS, Chapril, Nextcloud, Open Collective, ExpressVPN, X, Privacy.com, xda-developers, Douban, Goodreads, Pearltrees, Xfinity, Signal, AliExpress, Quizlet, Yuka, Burger King, Bitwarden, GitHub, WikiHow, Le Parisien, Unity, CNN, DrugBank, Translate, Pinterest, Pexgle, BetterHelp, Wattpad, Vercel, Alibaba, FamilyTreeDNA, Artspace, Vimeo, Kahoot!, Element, OpenStreetMap, Merriam-Webster, Wallapop, Porton Private Cloudstorage, Mailfence, National Geographic, ViacomCBS, Speedtest by Ookla, webmail, Riot Games (League of Legends), Smartmessages, MyAnimeList, Simply Earth, The Filipino Channel, CNED, NordVPN, F-List, McDonald's, Medscape, Getty Images, Codeberg, matrix.org, Ziff Davis, Discogs, Malwarebytes, New York Times, Free Code Camp, Mega, Brainly, Washington Post, PureVPN, FileFactory, Minecraft, Calendly, Ouigo, Pico, Opera, Strava, Veepn, Fivestars, ASKfm, OpenAI, Alan Thomson Simulation, El País, Future PLC, 23andMe, Wise, Zoom Video Communications, FanFiction, HP | Hewlett-Packard, Fox News, hCaptcha, Wishlist, MeWe, Doctolib, El Mundo (Spain), Redbubble, The Walt Disney Company, Bandcamp, Follow My Health, Kongregate, Scratch, Disqus, Liberapay, Disney+, BudgetBakers, Dailymotion, Guilded, Remind, Google, Authy (Twilio), Crunchyroll, PayPal, Huawei, Collins Dictionary, VKontakte, Tubi, Twitch, Genius, Khan Academy, WordReference, Fiverr, Rofkin, Leetify, Spotify, Coinbase, IMDb, Stingle Photos, Forbes, Discovery, Cisco, CouchSurfing, Tinder, Yleisradio, Reddit, Credit Karma, Search Encrypt, Selfie2Anime, HuffPost, Patook, Replika, Waze, Sync, Gfycat, SC Johnson, Letterboxd, Canva, Prezi, Profilic, Qwant, SourceForge, likee, InfinityFree, Gettr, Firefox Cloud Services, Foursquare, Wolt, DeviantArt, Minds, Icedrive, Slack, FaceApp, SourceHut, Duolingo, Symbaloo, SpigotMC\n",
      "--------------------------------------------------------------------------------\n",
      "Clause: The service is provided 'as is' and to be used at the users' sole risk\n",
      "Rating: neutral\n",
      "Occurrences: 188\n",
      "Found in folders: Pure Dating, OneSignal, Fandango, Wikipedia, Bilibili, United States Postal Service, Instructure, Quora, Blizzard, ShortcutWorld.com, Le Monde, Turnitin, Attendify, Instagram, WhatsApp, Dendreo, Observable, Doodle, MySudo, YTMP3.CC, HideMyAss!, Jitsi, Session, Guiding Tech, SparkNotes, Healthline, Amazon AWS, Wikimedia, Chapril, ExpressVPN, X, ISODME, xda-developers, Goodreads, AirVPN, Xfinity, Signal, Quizlet, Bitwarden, BitChute, GitHub, WikiHow, Ting Inc., Unity, Le Parisien, CNN, DrugBank, Schoology, WeMod, Internet Archive, pCloud, Pinterest, Pexgle, Dropbox, W3Schools, BetterHelp, Wattpad, LightyearVPN, Artspace, Vimeo, Kahoot!, Element, OpenStreetMap, Merriam-Webster, Mailfence, F-Droid, Encyclopedia Britannica, Enpass, Crain's Chicago Business, YouTube, webmail, Riot Games (League of Legends), Archive of Our Own, Smartmessages, Microsoft Services, edX, Simply Earth, FastMail, Avast, NordVPN, CNED, Bitly, McDonald's, Shopify, Medscape, Codeberg, Alzforum, Rumble, New York Times, Free Code Camp, LinkedIn, Nulled, Mega, Brainly, Washington Post, MobyGames, Patreon, Однокла́ссники (Ok.ru), FileFactory, Minecraft, Weatheralex1 Hub, Strava, KidzSearch, Fivestars, ASKfm, iFunny, Kaspersky, Consumer News & Business Channel, Future PLC, Zoom Video Communications, BlueMail, Vox Media, FanFiction, hCaptcha, Brave, Tripadvisor, Virtual World Computing Cocoon MyData Rewards, The Walt Disney Company, Hacker Wars, Bandcamp, Follow My Health, VPN.AC, Kongregate, Yandex, Scratch, Disqus, Presearch, Adobe Services, BudgetBakers, Dailymotion, Guilded, Heroku, Tumblr, WikiTree, Authy (Twilio), Huawei, VKontakte, Twitch, IVPN, eBay, Genius, Khan Academy, Fiverr, Steam, Coinbase, Meredith, Forbes, Discovery, Cisco, XE.com, Yahoo!, Surfshark, Pornhub, Ryver, Reddit, Signal Stickers, Search Encrypt, Upcloud, Parler, HuffPost, GoDaddy, Patook, LBRY, Waze, Open Humans, Gfycat, Sync, Prezi, CyberGhost, Apple Services, SourceForge, likee, Foursquare, Firefox Cloud Services, DeviantArt, Slack, Vivaldi, ProtonVPN, Instabridge, NBC News, eBuddy, RiseUp.net, ADT, Ubisoft, Amazon, Urban Dictionary, AnonAddy\n",
      "--------------------------------------------------------------------------------\n",
      "Clause: This service assumes no liability for any losses or damages resulting from any matter relating to the service\n",
      "Rating: neutral\n",
      "Occurrences: 187\n",
      "Found in folders: Pure Dating, Brilliant, United States Postal Service, Instructure, Busuu, Blizzard, ShortcutWorld.com, Le Monde, DiscourseHosting, Attendify, Open Source Initiative, Metacafe, Instagram, Nslookup, Observable, Audacity, Odysee, Jeuxvideo.com, MySudo, YTMP3.CC, HideMyAss!, Jitsi, Session, Guiding Tech, Healthline, ExpressVPN, X, Privacy.com, xda-developers, Goodreads, AirVPN, Signal, Booking.com, Ting Inc., BitChute, GitHub, WikiHow, Le Parisien, DrugBank, WeMod, Translate, Pinterest, Pexgle, Dropbox, W3Schools, Wattpad, Alibaba, YouGov, FamilyTreeDNA, Artspace, Vimeo, Element, OpenStreetMap, Merriam-Webster, Mailfence, Encyclopedia Britannica, Enpass, Crain's Chicago Business, Meower, Speedtest by Ookla, Tickets Plus, Riot Games (League of Legends), webmail, Listudy, Flipboard, edX, Avast, The Filipino Channel, NordVPN, Getty Images, McDonald's, Shopify, Medscape, matrix.org, Alzforum, Rumble, Malwarebytes, Google Analytics, LinkedIn, Nulled, Mega, Washington Post, Houseparty, MobyGames, PureVPN, Patreon, Однокла́ссники (Ok.ru), FileFactory, Calendly, Index Education, Ouigo, Opera, Blooket, Weatheralex1 Hub, t2bot.io, Strava, APK Pure, KidzSearch, Veepn, WeTransfer, Fivestars, ASKfm, OpenAI, iFunny, Alan Thomson Simulation, Future PLC, Gather Town, Zoom Video Communications, HP | Hewlett-Packard, hCaptcha, Creative Commons, Represent, Redbubble, Tresorit, Brave, Tripadvisor, The Walt Disney Company, Anonfiles, Weblate, Presearch, Disney+, Adobe Services, Dailymotion, Truth Social, Guilded, Heroku, Remind, Google, Authy (Twilio), Crunchyroll, Huawei, VKontakte, Tubi, IVPN, eBay, Khan Academy, JojoYou (PriEco), CodeSandbox, Fiverr, Rofkin, Wish, Leetify, Among Us, Coinbase, IMDb, Meredith, Stingle Photos, Discovery, Cisco, XE.com, Yahoo!, Le Bon Coin, Ryver, ClassDojo, Reddit, Search Encrypt, Parler, HuffPost, GoDaddy, Patook, LBRY, Replika, Sync, Gfycat, Prezi, Profilic, Qwant, SourceForge, likee, Gettr, Wickr Me, DeviantArt, SpanishDict, TourOfCalifornia.org, Vivaldi, Instabridge, eBuddy, FaceApp, YNAB. (You Need a Budget), RiseUp.net, Cloudflare, ADT, SourceHut, USSeek, Symbaloo, Urban Dictionary, AnonAddy\n",
      "--------------------------------------------------------------------------------\n",
      "Clause: The service provider makes no warranty regarding uninterrupted, timely, secure or error-free service\n",
      "Rating: neutral\n",
      "Occurrences: 178\n",
      "Found in folders: Pure Dating, Brilliant, Wikipedia, Bilibili, United States Postal Service, Ableton, Blizzard, ShortcutWorld.com, Le Monde, Open Source Initiative, Instagram, WhatsApp, Simitless, Observable, Doodle, HideMyAss!, Jitsi, Session, Guiding Tech, SparkNotes, Healthline, Viagogo, Wikimedia, Vouchley, ExpressVPN, Privacy.com, X, xda-developers, Douban, Pearltrees, AirVPN, V.H. Hess, Xfinity, Signal, Burger King, Bitwarden, BitChute, GitHub, WikiHow, Ting Inc., Unity, CNN, DrugBank, Schoology, WeMod, Translate, pCloud, Pexgle, W3Schools, BetterHelp, Vercel, Alibaba, Artspace, Vimeo, Element, OpenStreetMap, Porton Private Cloudstorage, Enpass, National Geographic, YouTube, Meower, Speedtest by Ookla, webmail, Marca, Archive of Our Own, Smartmessages, MyAnimeList, Listudy, Microsoft Services, Eltiempo.es, Headspace, edX, Simply Earth, BBC, Avast, The Filipino Channel, CNED, NordVPN, F-List, McDonald's, Shopify, matrix.org, Discogs, Rumble, New York Times, Le Figaro, LinkedIn, Mega, Brainly, Washington Post, MobyGames, PureVPN, FileFactory, Однокла́ссники (Ok.ru), Minecraft, t2bot.io, Strava, Veepn, WeTransfer, Fivestars, OpenAI, Skillshare, iFunny, OsmAnd, El País, Consumer News & Business Channel, Future PLC, Bumble, Zoom Video Communications, 23andMe, Vox Media, HP | Hewlett-Packard, Adventurer's Codex, hCaptcha, Represent, El Mundo (Spain), Redbubble, Virtual World Computing Cocoon MyData Rewards, Anonfiles, Hacker Wars, Yandex, Scratch, Disqus, Liberapay, Presearch, TikTok, Dailymotion, Truth Social, Guilded, Tumblr, Crunchyroll, Tubi, IVPN, Khan Academy, CodeSandbox, Wish, Steam, Among Us, Coinbase, Stingle Photos, Discovery, Yahoo!, Surfshark, Le Bon Coin, Synonymo, Uber, Ryver, ClassDojo, Reddit, Signal Stickers, Upcloud, HuffPost, LBRY, Waze, Sync, Gfycat, Prezi, CyberGhost, Qwant, Apple Services, MIT App Inventor, SourceForge, InfinityFree, Gettr, Wickr Me, Wolt, DeviantArt, Icedrive, TourOfCalifornia.org, Vivaldi, eBuddy, FaceApp, YNAB. (You Need a Budget), RiseUp.net, Ubisoft, Urban Dictionary\n",
      "--------------------------------------------------------------------------------\n",
      "Clause: You can opt out of promotional communications\n",
      "Rating: good\n",
      "Occurrences: 169\n",
      "Found in folders: OneSignal, Brilliant, United States Postal Service, BBVA, Instructure, Quora, SmartNews, Le Monde, Netflix, Attendify, Open Source Initiative, Odysee, Jeuxvideo.com, Atlassian, privacypolicies.com, MySudo, CollegeBoard, Le Soir, HideMyAss!, UptimeRobot, Guiding Tech, Healthline, Heaven HR, Nextcloud, Open Collective, ExpressVPN, X, Privacy.com, ISODME, xda-developers, Goodreads, Booking.com, Amazon Prime Video, Ting Inc., WikiHow, Unity, WeMod, Pinterest, Pexgle, Dropbox, Wattpad, Vercel, BitDefender, Artspace, Kahoot!, Merriam-Webster, Encyclopedia Britannica, Enpass, Crain's Chicago Business, ViacomCBS, Speedtest by Ookla, Riot Games (League of Legends), LibreOffice, El Mundo (El Salvador), Pocket, Eltiempo.es, Headspace, Flipboard, Simply Earth, BBC, FastMail, Stack Overflow, The Filipino Channel, kik-messenger, NordVPN, Hacking with Swift, Ziff Davis, Alzforum, Rumble, Malwarebytes, Le Figaro, L'Equipe, Clockify, Mega, Swisscows, Washington Post, MobyGames, PureVPN, FileFactory, Однокла́ссники (Ok.ru), Standard Notes, Calendly, Pico, Opera, Moodle, BlaBlaCar, Fivestars, Startpage, iFunny, Kaspersky, Alan Thomson Simulation, GeeksforGeeks, Future PLC, 23andMe, Zoom Video Communications, BlueMail, HP | Hewlett-Packard, Adventurer's Codex, Creative Commons, Represent, Redbubble, MuseScore, The Walt Disney Company, Xiaomi, Weblate, Bandcamp, Disqus, Disney+, Adobe Services, Free Software Foundation, Truth Social, Tumblr, Authy (Twilio), Crunchyroll, PayPal, Huawei, Collins Dictionary, Condé Nast, Tubi, Twitch, eBay, Genius, Khan Academy, CodeSandbox, Fiverr, Wish, Steam, KeyMe, Coinbase, Mozilla.org, Meredith, Medium, Stingle Photos, Amazon, Discovery, Cisco, XE.com, CouchSurfing, Yleisradio, Reddit, Search Encrypt, Parler, GoDaddy, WordPress.org, LBRY, Gfycat, Canva, Prezi, Profilic, Qwant, SourceForge, Microspot, Gettr, Firefox Cloud Services, Foursquare, Wolt, DeviantArt, SpanishDict, Vivaldi, ProtonVPN, IKEA, Amnesty International Limited (UK), FaceApp, SourceHut, Duolingo, Symbaloo, Zoho\n",
      "--------------------------------------------------------------------------------\n",
      "Clause: You have the right to leave this service at any time\n",
      "Rating: good\n",
      "Occurrences: 169\n",
      "Found in folders: OneSignal, Brilliant, Wikipedia, ToS;DR Phoenix, United States Postal Service, Ableton, Instructure, Busuu, Google Chrome, Roblox, Le Monde, DiscourseHosting, Netflix, Metacafe, Instagram, Nslookup, Dendreo, Observable, The Session, Audacity, Odysee, MySudo, Jitsi, Fedora Email, Brax.Me, Bereal, Healthline, Chapril, Nextcloud, X, Privacy.com, Pearltrees, SpiderOak, V.H. Hess, Xfinity, Signal, Quizlet, Yuka, Bitwarden, BitChute, GitHub, Ting Inc., Unity, pCloud, Pexgle, Astronomer, Dropbox, Wattpad, Vercel, LightyearVPN, YouGov, FamilyTreeDNA, Prisma Media, Vimeo, OpenStreetMap, Porton Private Cloudstorage, Mailfence, Meower, YouTube, Line Corporation, LibreOffice, Smartmessages, Listudy, edX, FastMail, BBC, Stack Overflow, NordVPN, McDonald's, Codeberg, Discogs, Malwarebytes, New York Times, Google Analytics, Free Code Camp, Clockify, LinkedIn, Mega, Houseparty, PureVPN, Patreon, Однокла́ссники (Ok.ru), Minecraft, Standard Notes, Opera, Strava, ASKfm, OpenAI, Kaspersky, iCloud, Consumer News & Business Channel, 23andMe, Bumble, Zoom Video Communications, HP | Hewlett-Packard, hCaptcha, Represent, MeWe, Redbubble, Tresorit, Brave, Tripadvisor, Virtual World Computing Cocoon MyData Rewards, The Walt Disney Company, Bandcamp, Follow My Health, Kongregate, Samsung, Liberapay, Presearch, Disney+, Adobe Services, mastodon.social, Guilded, Heroku, Tumblr, Remind, Google, WikiTree, Authy (Twilio), Crunchyroll, PayPal, Tubi, Twitch, Khan Academy, CodeSandbox, Rofkin, Wish, Coinbase, Medium, Stingle Photos, Privacy Guides, Yello, zmudzinski.me Personal Blog (DEPRECATED), ClassDojo, Reddit, Hulu, Crowdmark, Conjuguemos, Upcloud, Parler, HuffPost, Diario AS, GoDaddy, Patook, LBRY, Replika, Waze, Open Humans, Sync, CyberGhost, Apple Services, likee, Gettr, Firefox Cloud Services, Foursquare, Wickr Me, Wolt, SpanishDict, Slack, Vivaldi, Instabridge, Pixel8Earth, Snapchat, Facebook, eBuddy, RiseUp.net, Ubisoft, AnonAddy\n",
      "--------------------------------------------------------------------------------\n",
      "Clause: This service gives your personal data to third parties involved in its operation\n",
      "Rating: bad\n",
      "Occurrences: 161\n",
      "Found in folders: OneSignal, Brilliant, Notion, Gandi, United States Postal Service, BBVA, Roadtrip Nation, Google Chrome, Roblox, Le Monde, Open Source Initiative, Odysee, Free, Jeuxvideo.com, privacypolicies.com, Le Soir, HideMyAss!, UptimeRobot, Bereal, Amazon AWS, Heaven HR, Nextcloud, ExpressVPN, Privacy.com, xda-developers, Pearltrees, Booking.com, Bitwarden, Movistar, Unity, Flatmates, CNN, Schoology, Le Parisien, Translate, Pexgle, Astronomer, Wattpad, Alibaba, YouGov, FamilyTreeDNA, Prisma Media, Element, Merriam-Webster, Wallapop, Encyclopedia Britannica, Crain's Chicago Business, ViacomCBS, Speedtest by Ookla, Line Corporation, Microsoft Services, Eltiempo.es, Flipboard, Nvidia, The Filipino Channel, CNED, ePlus Technology, F-List, NordVPN, Shopify, Getty Images, matrix.org, Ziff Davis, Alzforum, Rumble, Malwarebytes, Linksys, Google Analytics, Realestate.com.au, Le Figaro, Free Code Camp, L'Equipe, Clockify, LinkedIn, Washington Post, MobyGames, PureVPN, FileFactory, Однокла́ссники (Ok.ru), Minecraft, Calendly, Index Education, Ouigo, Pico, Opera, Veepn, BlaBlaCar, OpenAI, iFunny, Kaspersky, iCloud, GeeksforGeeks, Future PLC, Gather Town, Zoom Video Communications, BlueMail, 10minutemail, Vox Media, HP | Hewlett-Packard, Represent, Redbubble, MuseScore, Marmiton, The Walt Disney Company, Weblate, Yandex, Samsung, BFM TV, Disney+, TikTok, Free Software Foundation, BudgetBakers, mastodon.social, Dailymotion, Guilded, Tumblr, Remind, Authy (Twilio), Crunchyroll, Pantip.com, Collins Dictionary, Condé Nast, Rofkin, Wish, Leetify, Walmart, Among Us, Coinbase, IMDb, Meredith, VPN Hamster, Discovery, Tinder, Le Bon Coin, Yello, TubeBuddy, Uber, ClassDojo, Hulu, Credit Karma, Conjuguemos, Selfie2Anime, GoDaddy, Gfycat, SC Johnson, CyberGhost, Profilic, MIT App Inventor, InfinityFree, Météo France, Wolt, Neurococi, Orange, SpanishDict, Instabridge, IKEA, NBC News, FaceApp, ADT, Symbaloo, Bing\n",
      "--------------------------------------------------------------------------------\n",
      "Clause: Blocking first party cookies may limit your ability to use the service\n",
      "Rating: neutral\n",
      "Occurrences: 153\n",
      "Found in folders: Pure Dating, Waterfox, Brilliant, Bilibili, United States Postal Service, BBVA, Ableton, Instructure, Blizzard, Roblox, Flickr, Netflix, Le Monde, Instagram, WhatsApp, Fedora, Free, privacypolicies.com, How-To Geek, Le Soir, HideMyAss!, Healthline, Amazon AWS, Viagogo, Heaven HR, Vouchley, ExpressVPN, Privacy.com, X, xda-developers, Pearltrees, AliExpress, Amazon Prime Video, GitHub, Le Parisien, Unity, Flatmates, DrugBank, WeMod, Translate, pCloud, Dropbox, Alibaba, BitDefender, Artspace, Arch Linux, Merriam-Webster, Encyclopedia Britannica, Crain's Chicago Business, Speedtest by Ookla, Riot Games (League of Legends), LibreOffice, Marca, El Mundo (El Salvador), MyAnimeList, Eltiempo.es, Headspace, Hinterland Games, edX, Avast, The Filipino Channel, CNED, ePlus Technology, McDonald's, Shopify, Medscape, Ziff Davis, Rumble, Malwarebytes, Realestate.com.au, Le Figaro, L'Equipe, LinkedIn, Mega, Washington Post, Patreon, Index Education, Ouigo, APK Pure, Gap Creek Media, Fivestars, OpenAI, Kaspersky, iCloud, Alan Thomson Simulation, GeeksforGeeks, Consumer News & Business Channel, Future PLC, 10minutemail, FanFiction, The Movie Database (TMDb), HP | Hewlett-Packard, hCaptcha, Creative Commons, Doctolib, OpenHAB, El Mundo (Spain), Redbubble, Toggl Track, Tripadvisor, Disqus, Samsung, Disney+, TikTok, Campus Innovations Kultur, Guilded, Authy (Twilio), PayPal, Tubi, Linguee, Khan Academy, JojoYou (PriEco), Wish, Leetify, Steam, Among Us, Medium, Telegram, VPN Hamster, XE.com, Yello, TubeBuddy, Reddit, Hulu, Credit Karma, Parler, LBRY, Sync, Gfycat, Canva, Prezi, Qwant, likee, Gettr, Firefox Cloud Services, Foursquare, Météo France, Wolt, Neurococi, Orange, Vivaldi, Instabridge, NBC News, Snapchat, Facebook, FaceApp, Swiss Government, Zoho, Urban Dictionary, SpigotMC\n",
      "--------------------------------------------------------------------------------\n",
      "Clause: The service does not guarantee accuracy or reliability of the information provided\n",
      "Rating: neutral\n",
      "Occurrences: 146\n",
      "Found in folders: Pure Dating, Fandango, Bilibili, United States Postal Service, BBVA, Quora, Busuu, ShortcutWorld.com, Le Monde, Open Source Initiative, Metacafe, Nslookup, WhatsApp, Observable, The MOD Archive, Audacity, Odysee, Guiding Tech, SparkNotes, Wikimedia, ExpressVPN, X, Privacy.com, xda-developers, Douban, V.H. Hess, Xfinity, Signal, Burger King, Bitwarden, BitChute, GitHub, Ting Inc., CNN, DrugBank, WeMod, Internet Archive, pCloud, W3Schools, BetterHelp, Wattpad, Alibaba, FamilyTreeDNA, Artspace, OpenStreetMap, Enpass, Crain's Chicago Business, National Geographic, YouTube, webmail, Riot Games (League of Legends), Marca, Archive of Our Own, MyAnimeList, Microsoft Services, Eltiempo.es, Headspace, Hinterland Games, edX, BBC, The Filipino Channel, NordVPN, Bitly, F-List, Shopify, Medscape, McDonald's, Alzforum, Rumble, Orchid VPN, Nulled, Mega, Brainly, Washington Post, MobyGames, FileFactory, Minecraft, Cakey Bot, Opera, Weatheralex1 Hub, t2bot.io, Strava, KidzSearch, BlaBlaCar, Fivestars, ASKfm, iFunny, OsmAnd, El País, Consumer News & Business Channel, Zoom Video Communications, FanFiction, HP | Hewlett-Packard, Represent, El Mundo (Spain), Tripadvisor, Virtual World Computing Cocoon MyData Rewards, Hacker Wars, SpaceHey, Disqus, Presearch, TikTok, Dailymotion, Return YouTube Dislike, Crunchyroll, Huawei, Tubi, Twitch, eBay, Fiverr, Wish, Canvas, KeyMe, Coinbase, Discovery, Cisco, XE.com, Yahoo!, Surfshark, Privacy Guides, Synonymo, Ryver, ClassDojo, Reddit, Credit Karma, Search Encrypt, HuffPost, Patook, LBRY, Waze, Canva, Qwant, SourceForge, likee, InfinityFree, Foursquare, Wolt, Minds, TourOfCalifornia.org, Vivaldi, ProtonVPN, ADT, Swiss Government, USSeek, Ubisoft\n",
      "--------------------------------------------------------------------------------\n"
     ]
    }
   ],
   "source": [
    "# Count occurrences of each (clause, rating) pair\n",
    "pair_counts = Counter((clause_text, rating) for clause_text, rating, _ in clause_pairs)\n",
    "\n",
    "# Get the top 5 most duplicated pairs\n",
    "most_common_pairs = pair_counts.most_common(10)\n",
    "\n",
    "# Map each (clause, rating) to its folder locations\n",
    "pair_locations = defaultdict(set)\n",
    "for clause_text, rating, folder in clause_pairs:\n",
    "    pair_locations[(clause_text, rating)].add(folder)\n",
    "\n",
    "# Print the results\n",
    "print(\"\\n🔍 Top 10 most duplicated clause-rating pairs:\")\n",
    "for (clause_text, rating), count in most_common_pairs:\n",
    "    folders = list(pair_locations[(clause_text, rating)])  # Convert set to list\n",
    "    print(f\"Clause: {clause_text}\\nRating: {rating}\\nOccurrences: {count}\\nFound in folders: {', '.join(folders)}\")\n",
    "    print(\"-\" * 80)\n"
   ]
  },
  {
   "attachments": {},
   "cell_type": "markdown",
   "metadata": {},
   "source": [
    "#### c. Processing code:"
   ]
  },
  {
   "cell_type": "code",
   "execution_count": 5,
   "metadata": {},
   "outputs": [
    {
     "name": "stdout",
     "output_type": "stream",
     "text": [
      "⚠️ WARNING: 'clauses' list is empty in 'RESEARCHCHEMAIAL SWITZERLAND/clauses.json'\n",
      "⚠️ WARNING: 'clauses' list is empty in 'Kink.com/clauses.json'\n",
      "\n",
      "✅ Extracted 14407 clause-rating pairs from the first two companies.\n",
      "\n",
      "('Instead of asking directly, this Service will assume your consent merely from your usage.', 'bad')\n",
      "('This service tracks which web page referred you to it', 'bad')\n",
      "('The service can sell or otherwise transfer your personal data as part of a bankruptcy proceeding or other type of financial transaction.', 'bad')\n",
      "('You must provide your legal name, pseudonyms are not allowed', 'bad')\n",
      "('This service employs third-party cookies, but with opt-out instructions', 'bad')\n"
     ]
    }
   ],
   "source": [
    "data_dir = \"data_all_202503120623106\"  # Data directory containing company folders\n",
    "clause_pairs = []\n",
    "\n",
    "# Step 1: Check if data directory exists\n",
    "if not os.path.exists(data_dir):\n",
    "    print(f\"❌ ERROR: Data directory '{data_dir}' does not exist.\")\n",
    "    exit()\n",
    "# Step 3: Loop through all company folders inside the data directory\n",
    "for company in os.listdir(data_dir):\n",
    "    company_path = os.path.join(data_dir, company)\n",
    "\n",
    "    # Check if it's a directory (company folder)\n",
    "    if os.path.isdir(company_path):\n",
    "        clause_file = os.path.join(company_path, \"clauses.json\")\n",
    "\n",
    "        # Step 4: Check if clauses.json exists\n",
    "        if not os.path.isfile(clause_file):\n",
    "            print(f\"❌ ERROR: 'clauses.json' not found in '{company}' folder\")\n",
    "            continue\n",
    "\n",
    "        try:\n",
    "            # Step 5: Check if clauses.json is valid JSON\n",
    "            with open(clause_file, \"r\", encoding=\"utf-8\") as f:\n",
    "                data = json.load(f)\n",
    "\n",
    "            # Step 6: Check if 'clauses' key exists\n",
    "            if \"clauses\" not in data:\n",
    "                print(f\"⚠️ WARNING: No 'clauses' key found in '{company}/clauses.json'\")\n",
    "                continue\n",
    "\n",
    "            clauses = data[\"clauses\"]\n",
    "            if not clauses:\n",
    "                print(f\"⚠️ WARNING: 'clauses' list is empty in '{company}/clauses.json'\")\n",
    "                continue\n",
    "\n",
    "            # Step 7: Extract (clause_text, rating) pairs\n",
    "            for clause in clauses:\n",
    "                clause_text = clause.get(\"clause_text\", \"\").strip() if clause.get(\"clause_text\") else \"\"\n",
    "                rating = clause.get(\"rating\", \"\").strip() if clause.get(\"rating\") else \"\"\n",
    "\n",
    "                if clause_text and rating:\n",
    "                    clause_pairs.append((clause_text, rating))\n",
    "                else:\n",
    "                    print(f\"⚠️ WARNING: Skipping a clause in '{company}' due to missing clause_text or rating.\")\n",
    "        \n",
    "        except json.JSONDecodeError:\n",
    "            print(f\"❌ ERROR: Invalid JSON in '{company}/clauses.json'\")\n",
    "\n",
    "# Final results\n",
    "print(f\"\\n✅ Extracted {len(clause_pairs)} clause-rating pairs from the first two companies.\\n\")\n",
    "for pair in clause_pairs[:5]:  # Print first 5 for checking\n",
    "    print(pair)\n"
   ]
  },
  {
   "cell_type": "code",
   "execution_count": 6,
   "metadata": {},
   "outputs": [
    {
     "name": "stdout",
     "output_type": "stream",
     "text": [
      "Before removal of duplicates: 14407 clause-rating pairs.\n",
      "✅ Removed exact duplicates. 1123 unique clause-rating pairs.\n",
      "Number of clauses which appear more than once in our dataset: 447.\n",
      "Number of clauses which we removed because there were already present once: 13284\n"
     ]
    }
   ],
   "source": [
    "# Step 1: Initialize a set to store unique clause-rating pairs, and non-unique clause-rating pais.\n",
    "unique_clause_pairs = set()\n",
    "non_unique_clause_pairs = set()\n",
    "occurrences_of_non_unique_clause_pairs = 0\n",
    "\n",
    "# Step 2: Filter out duplicates by checking if the pair already exists in the set\n",
    "filtered_clause_pairs = []\n",
    "\n",
    "for clause_text, rating in clause_pairs:\n",
    "    # Use a tuple of (description, rating) as the set key\n",
    "    pair = (clause_text, rating)\n",
    "    \n",
    "    # If the pair is not in the set, add it to the filtered list and the set\n",
    "    if pair not in unique_clause_pairs:\n",
    "        filtered_clause_pairs.append(pair)\n",
    "        unique_clause_pairs.add(pair)\n",
    "    else:\n",
    "        non_unique_clause_pairs.add(pair)\n",
    "        occurrences_of_non_unique_clause_pairs +=1\n",
    "\n",
    "unique_clause_pairs = list(unique_clause_pairs)\n",
    "non_unique_clause_pairs = list(non_unique_clause_pairs)\n",
    "\n",
    "# Step 3: Check how many unique pairs there are\n",
    "print(f\"Before removal of duplicates: {len(clause_pairs)} clause-rating pairs.\")\n",
    "print(f\"✅ Removed exact duplicates. {len(filtered_clause_pairs)} unique clause-rating pairs.\")\n",
    "print(f\"Number of clauses which appear more than once in our dataset: {len(non_unique_clause_pairs)}.\")\n",
    "print(f\"Number of clauses which we removed because there were already present once: {occurrences_of_non_unique_clause_pairs}\")\n"
   ]
  },
  {
   "cell_type": "code",
   "execution_count": 7,
   "metadata": {},
   "outputs": [
    {
     "name": "stdout",
     "output_type": "stream",
     "text": [
      "Title: Amnesty International may share your data with its global membership organizations anywhere in the world\n",
      "Rating: bad\n",
      "\n",
      "Title: The court of law governing the terms is in a jurisdiction that is less friendly to user privacy protection (England, Wales)\n",
      "Rating: bad\n",
      "\n",
      "Title: Any liability on behalf of the service is only limited to the fees you paid as a user or $50\n",
      "Rating: bad\n",
      "\n",
      "Title: Prohibits political discussions which are against the government-advocated value\n",
      "Rating: unknown\n",
      "\n",
      "Title: The court of law governing the terms is in People's Republic of China\n",
      "Rating: neutral\n",
      "\n"
     ]
    }
   ],
   "source": [
    "# Example of accessing the descriptions and ratings\n",
    "for pair in unique_clause_pairs[:5]:  # Print first 5 pairs for checking\n",
    "    clause_text = pair[0]  # Clause description (x)\n",
    "    rating = pair[1]       # Clause rating (y)\n",
    "    print(f\"clause_text: {clause_text}\\nRating: {rating}\\n\")"
   ]
  },
  {
   "attachments": {},
   "cell_type": "markdown",
   "metadata": {},
   "source": [
    "### 2. BERT model"
   ]
  },
  {
   "attachments": {},
   "cell_type": "markdown",
   "metadata": {},
   "source": [
    "#### a. Filtering: removing pairs with \"unknown\" as label."
   ]
  },
  {
   "cell_type": "code",
   "execution_count": 8,
   "metadata": {},
   "outputs": [
    {
     "name": "stdout",
     "output_type": "stream",
     "text": [
      "Data set size: 1074\n",
      "Train+dev set size: 859\n",
      "Test set size: 215\n"
     ]
    }
   ],
   "source": [
    "# Step 3.1: Filter out clauses with 'unknown' ratings\n",
    "filtered_clause_pairs = [(clause_text, rating) for clause_text, rating in unique_clause_pairs if rating != \"unknown\"]\n",
    "\n",
    "# Split the filtered data\n",
    "clauses, ratings = zip(*filtered_clause_pairs)  # Extract clauses and their ratings\n",
    "\n",
    "# Map ratings to integers\n",
    "rating_dict = {\"blocker\": 0, \"bad\": 1, \"neutral\": 2, \"good\": 3}  # Modify if you have different ratings\n",
    "ratings_int = [rating_dict[r] for r in ratings]\n",
    "\n",
    "# Step 3.2: Split data into train, dev, and test sets (80% train, 10% dev, 10% test)\n",
    "X_temp, X_test, y_temp, y_test = train_test_split(clauses, ratings_int, test_size=0.1, random_state=42)\n",
    "\n",
    "# Print size\n",
    "print(f\"Data set size: {len(filtered_clause_pairs)}\")\n",
    "print(f\"Train+dev set size: {len(y_temp)}\")\n",
    "print(f\"Test set size: {len(y_test)}\")"
   ]
  },
  {
   "attachments": {},
   "cell_type": "markdown",
   "metadata": {},
   "source": [
    "#### b. Deduplication based on n-gram similarity"
   ]
  },
  {
   "cell_type": "code",
   "execution_count": 9,
   "metadata": {},
   "outputs": [],
   "source": [
    "def get_ngrams(text, n=3):\n",
    "    \"\"\"Convert text into a set of n-grams.\"\"\"\n",
    "    tokens = nltk.word_tokenize(text.lower())  # Tokenize and lowercase\n",
    "    tokens = [t for t in tokens if t.isalnum() and t not in ENGLISH_STOP_WORDS]  # Remove stopwords and non-alphanumeric\n",
    "    return set(ngrams(tokens, n))\n",
    "\n",
    "def jaccard_similarity(set1, set2):\n",
    "    \"\"\"Compute Jaccard similarity between two sets.\"\"\"\n",
    "    intersection = len(set1 & set2)\n",
    "    union = len(set1 | set2)\n",
    "    return intersection / union if union != 0 else 0\n",
    "\n",
    "def deduplicate_test_set(train_clauses, test_clauses, test_labels, threshold=0.7, n=3):\n",
    "    \"\"\"Remove test clauses that are too similar to any train clause based on n-gram Jaccard similarity.\"\"\"\n",
    "    train_ngrams = [get_ngrams(clause, n) for clause in train_clauses]\n",
    "    \n",
    "    filtered_test_clauses = []\n",
    "    filtered_test_labels = []\n",
    "    \n",
    "    for test_clause, test_label in zip(test_clauses, test_labels):\n",
    "        test_ngram_set = get_ngrams(test_clause, n)\n",
    "        \n",
    "        # Check similarity with each train clause\n",
    "        max_similarity = max(jaccard_similarity(test_ngram_set, train_set) for train_set in train_ngrams)\n",
    "        \n",
    "        if max_similarity < threshold:\n",
    "            filtered_test_clauses.append(test_clause)\n",
    "            filtered_test_labels.append(test_label)\n",
    "    \n",
    "    return filtered_test_clauses, filtered_test_labels"
   ]
  },
  {
   "cell_type": "code",
   "execution_count": 10,
   "metadata": {},
   "outputs": [
    {
     "name": "stdout",
     "output_type": "stream",
     "text": [
      "Before deduplication: test+dev set size is 215\n",
      "After deduplication: test+dev set size is 150\n"
     ]
    }
   ],
   "source": [
    "# Apply deduplication\n",
    "print(f\"Before deduplication: test+dev set size is {len(y_test)}\")\n",
    "X_test, y_test = deduplicate_test_set(X_temp, X_test, y_test, threshold=0.7, n=3)\n",
    "print(f\"After deduplication: test+dev set size is {len(y_test)}\")"
   ]
  },
  {
   "attachments": {},
   "cell_type": "markdown",
   "metadata": {},
   "source": [
    "#### c. Training BERT"
   ]
  },
  {
   "cell_type": "code",
   "execution_count": 11,
   "metadata": {},
   "outputs": [
    {
     "name": "stdout",
     "output_type": "stream",
     "text": [
      "Train set size: 730\n",
      "Dev set size: 129\n"
     ]
    }
   ],
   "source": [
    "X_train, X_dev, y_train, y_dev = train_test_split(X_temp, y_temp, test_size=0.15, random_state=42)\n",
    "print(f\"Train set size: {len(y_train)}\")\n",
    "print(f\"Dev set size: {len(y_dev)}\")\n",
    "\n",
    "# Step 3.3: Convert into a format that Hugging Face can use\n",
    "train_data = Dataset.from_dict({\"text\": X_train, \"label\": y_train})\n",
    "dev_data = Dataset.from_dict({\"text\": X_dev, \"label\": y_dev})\n",
    "test_data = Dataset.from_dict({\"text\": X_test, \"label\": y_test})"
   ]
  },
  {
   "cell_type": "code",
   "execution_count": 12,
   "metadata": {},
   "outputs": [
    {
     "data": {
      "application/vnd.jupyter.widget-view+json": {
       "model_id": "fddbe16581eb402db9229cdfce39b3ee",
       "version_major": 2,
       "version_minor": 0
      },
      "text/plain": [
       "Map:   0%|          | 0/730 [00:00<?, ? examples/s]"
      ]
     },
     "metadata": {},
     "output_type": "display_data"
    },
    {
     "data": {
      "application/vnd.jupyter.widget-view+json": {
       "model_id": "284e4720c36f497296b2753666647f51",
       "version_major": 2,
       "version_minor": 0
      },
      "text/plain": [
       "Map:   0%|          | 0/129 [00:00<?, ? examples/s]"
      ]
     },
     "metadata": {},
     "output_type": "display_data"
    },
    {
     "data": {
      "application/vnd.jupyter.widget-view+json": {
       "model_id": "7355097ad8044e92ae6ac296ec4d5afb",
       "version_major": 2,
       "version_minor": 0
      },
      "text/plain": [
       "Map:   0%|          | 0/150 [00:00<?, ? examples/s]"
      ]
     },
     "metadata": {},
     "output_type": "display_data"
    },
    {
     "data": {
      "application/vnd.jupyter.widget-view+json": {
       "model_id": "9811a100cb3348159f0e10926daedec5",
       "version_major": 2,
       "version_minor": 0
      },
      "text/plain": [
       "Map:   0%|          | 0/730 [00:00<?, ? examples/s]"
      ]
     },
     "metadata": {},
     "output_type": "display_data"
    },
    {
     "data": {
      "application/vnd.jupyter.widget-view+json": {
       "model_id": "09d04f786cf84cc0bd503bc418390b7a",
       "version_major": 2,
       "version_minor": 0
      },
      "text/plain": [
       "Map:   0%|          | 0/129 [00:00<?, ? examples/s]"
      ]
     },
     "metadata": {},
     "output_type": "display_data"
    },
    {
     "data": {
      "application/vnd.jupyter.widget-view+json": {
       "model_id": "19739b0cdb87470c97542cf29d30e85b",
       "version_major": 2,
       "version_minor": 0
      },
      "text/plain": [
       "Map:   0%|          | 0/150 [00:00<?, ? examples/s]"
      ]
     },
     "metadata": {},
     "output_type": "display_data"
    },
    {
     "data": {
      "application/vnd.jupyter.widget-view+json": {
       "model_id": "7dc8ab4b17964a54b45348e5fbab0faa",
       "version_major": 2,
       "version_minor": 0
      },
      "text/plain": [
       "Map:   0%|          | 0/730 [00:00<?, ? examples/s]"
      ]
     },
     "metadata": {},
     "output_type": "display_data"
    },
    {
     "name": "stderr",
     "output_type": "stream",
     "text": [
      "/var/folders/zl/gjtb3by11p7b_j804bt863qh0000gn/T/ipykernel_6429/3550178219.py:24: UserWarning: To copy construct from a tensor, it is recommended to use sourceTensor.clone().detach() or sourceTensor.clone().detach().requires_grad_(True), rather than torch.tensor(sourceTensor).\n",
      "  train_data = train_data.map(lambda x: {\"label\": torch.tensor(x[\"label\"]).long()})\n"
     ]
    },
    {
     "data": {
      "application/vnd.jupyter.widget-view+json": {
       "model_id": "2851f9b7267b4336b6a15ef8880f6965",
       "version_major": 2,
       "version_minor": 0
      },
      "text/plain": [
       "Map:   0%|          | 0/129 [00:00<?, ? examples/s]"
      ]
     },
     "metadata": {},
     "output_type": "display_data"
    },
    {
     "name": "stderr",
     "output_type": "stream",
     "text": [
      "/var/folders/zl/gjtb3by11p7b_j804bt863qh0000gn/T/ipykernel_6429/3550178219.py:25: UserWarning: To copy construct from a tensor, it is recommended to use sourceTensor.clone().detach() or sourceTensor.clone().detach().requires_grad_(True), rather than torch.tensor(sourceTensor).\n",
      "  dev_data = dev_data.map(lambda x: {\"label\": torch.tensor(x[\"label\"]).long()})\n"
     ]
    },
    {
     "data": {
      "application/vnd.jupyter.widget-view+json": {
       "model_id": "7de3792ee954466baf225f675c3ed810",
       "version_major": 2,
       "version_minor": 0
      },
      "text/plain": [
       "Map:   0%|          | 0/150 [00:00<?, ? examples/s]"
      ]
     },
     "metadata": {},
     "output_type": "display_data"
    },
    {
     "name": "stderr",
     "output_type": "stream",
     "text": [
      "/var/folders/zl/gjtb3by11p7b_j804bt863qh0000gn/T/ipykernel_6429/3550178219.py:26: UserWarning: To copy construct from a tensor, it is recommended to use sourceTensor.clone().detach() or sourceTensor.clone().detach().requires_grad_(True), rather than torch.tensor(sourceTensor).\n",
      "  test_data = test_data.map(lambda x: {\"label\": torch.tensor(x[\"label\"]).long()})\n"
     ]
    }
   ],
   "source": [
    "# Step 4.1: Load the BERT tokenizer\n",
    "tokenizer = BertTokenizer.from_pretrained(\"bert-base-uncased\")\n",
    "\n",
    "# Step 4.2: Define a function to tokenize the input texts\n",
    "def tokenize_function(examples):\n",
    "    return tokenizer(examples.get('text', \"\"), padding='max_length', truncation=True, max_length=512)\n",
    "\n",
    "# Step 4.3: Apply the tokenizer to the train, dev, and test datasets\n",
    "train_data = train_data.map(tokenize_function, batched=True)\n",
    "dev_data = dev_data.map(tokenize_function, batched=True)\n",
    "test_data = test_data.map(tokenize_function, batched=True)\n",
    "\n",
    "# Step 4.4: Set the format for PyTorch\n",
    "train_data.set_format(type='torch', columns=['input_ids', 'attention_mask', 'token_type_ids', 'label'])\n",
    "dev_data.set_format(type='torch', columns=['input_ids', 'attention_mask', 'token_type_ids', 'label'])\n",
    "test_data.set_format(type='torch', columns=['input_ids', 'attention_mask', 'token_type_ids', 'label'])\n",
    "\n",
    "# Step 4.5: Remove the original text filed\n",
    "train_data = train_data.map(tokenize_function, batched=True, remove_columns=[\"text\"])\n",
    "dev_data = dev_data.map(tokenize_function, batched=True, remove_columns=[\"text\"])\n",
    "test_data = test_data.map(tokenize_function, batched=True, remove_columns=[\"text\"])\n",
    "\n",
    "# Step 4.6: Make sure we are working with longs\n",
    "train_data = train_data.map(lambda x: {\"label\": torch.tensor(x[\"label\"]).long()})\n",
    "dev_data = dev_data.map(lambda x: {\"label\": torch.tensor(x[\"label\"]).long()})\n",
    "test_data = test_data.map(lambda x: {\"label\": torch.tensor(x[\"label\"]).long()})"
   ]
  },
  {
   "cell_type": "code",
   "execution_count": 13,
   "metadata": {},
   "outputs": [],
   "source": [
    "# Step 5.1: Take a smaller sample (e.g., 5%) of the training data\n",
    "train_sample = train_data.shuffle(seed=42).select(range(int(0.05 * len(train_data))))\n",
    "dev_sample = dev_data.shuffle(seed=42).select(range(int(0.2*len(dev_data))))"
   ]
  },
  {
   "cell_type": "code",
   "execution_count": 14,
   "metadata": {},
   "outputs": [],
   "source": [
    "def compute_metrics(eval_pred):\n",
    "    logits, labels = eval_pred\n",
    "    preds = np.argmax(logits, axis=1)  # Convert logits to predicted labels\n",
    "\n",
    "    accuracy = accuracy_score(labels, preds)\n",
    "    precision = precision_score(labels, preds, average='weighted')\n",
    "    recall = recall_score(labels, preds, average='weighted')\n",
    "    f1 = f1_score(labels, preds, average='weighted')\n",
    "\n",
    "    return {\n",
    "        \"accuracy\": accuracy,\n",
    "        \"precision\": precision,\n",
    "        \"recall\": recall,\n",
    "        \"f1\": f1\n",
    "    }"
   ]
  },
  {
   "cell_type": "code",
   "execution_count": 15,
   "metadata": {},
   "outputs": [
    {
     "name": "stderr",
     "output_type": "stream",
     "text": [
      "Some weights of BertForSequenceClassification were not initialized from the model checkpoint at bert-base-uncased and are newly initialized: ['classifier.bias', 'classifier.weight']\n",
      "You should probably TRAIN this model on a down-stream task to be able to use it for predictions and inference.\n"
     ]
    },
    {
     "name": "stdout",
     "output_type": "stream",
     "text": [
      "trainable params: 297,988 || all params: 109,783,304 || trainable%: 0.2714\n"
     ]
    }
   ],
   "source": [
    "# Load the base BERT model\n",
    "base_model = BertForSequenceClassification.from_pretrained(\"bert-base-uncased\", num_labels=4)\n",
    "\n",
    "# Define LoRA configuration\n",
    "lora_config = LoraConfig(\n",
    "    task_type=TaskType.SEQ_CLS,  # Sequence Classification Task\n",
    "    inference_mode=False,        # Training mode\n",
    "    r=8,                         # LoRA rank (controls trainable parameters) - experiment with 4, 16 also (higher = more specific & memory usage)\n",
    "    lora_alpha=16,               # Scaling factor for LoRA - alpha  = 2*r is a common heuristic\n",
    "    lora_dropout=0.1,            # Dropout for better generalization - default is 0.05, but 0.1 for regularization.\n",
    ")\n",
    "\n",
    "# Apply LoRA to the model\n",
    "model = get_peft_model(base_model, lora_config)\n",
    "\n",
    "# Print trainable parameters (LoRA will modify only a small subset of layers)\n",
    "model.print_trainable_parameters()"
   ]
  },
  {
   "cell_type": "code",
   "execution_count": 16,
   "metadata": {},
   "outputs": [],
   "source": [
    "# Step 0: Create a custom callback to store losses\n",
    "class LossesCallback(TrainerCallback):\n",
    "    def __init__(self):\n",
    "        self.train_losses = []\n",
    "        self.dev_losses = []\n",
    "\n",
    "    def on_log(self, args, state, control, logs=None, **kwargs):\n",
    "        if logs is not None:\n",
    "            if 'loss' in logs:  # Capture training loss\n",
    "                self.train_losses.append(logs['loss'])\n",
    "            if 'eval_loss' in logs:  # Capture development loss\n",
    "                self.dev_losses.append(logs['eval_loss'])\n",
    "\n",
    "# Step 1: Instantiate the custom callback\n",
    "losses_callback = LossesCallback()"
   ]
  },
  {
   "cell_type": "code",
   "execution_count": 17,
   "metadata": {},
   "outputs": [
    {
     "name": "stderr",
     "output_type": "stream",
     "text": [
      "No label_names provided for model class `PeftModelForSequenceClassification`. Since `PeftModel` hides base models input arguments, if label_names is not given, label_names can't be set automatically within `Trainer`. Note that empty label_names list will be used instead.\n"
     ]
    }
   ],
   "source": [
    "# Step 2: Modify TrainingArguments for LoRA training\n",
    "training_args = TrainingArguments(\n",
    "    output_dir='./results',\n",
    "    eval_strategy=\"epoch\",  # Evaluate after each epoch\n",
    "    save_strategy=\"epoch\",  # Save model at each epoch\n",
    "    save_total_limit=2,  # Keep last 2 checkpoints\n",
    "    learning_rate=2e-4,  # LoRA fine-tuning needs a slightly higher LR - can try 1e-4 and 5e-5.\n",
    "    per_device_train_batch_size=2, # - should be 8 or 16 for both.\n",
    "    per_device_eval_batch_size=2,\n",
    "    gradient_accumulation_steps=4,  # Simulates larger batch size\n",
    "    num_train_epochs=4,  # LoRA converges faster, so fewer epochs are needed\n",
    "    weight_decay=0.01,\n",
    "    logging_dir='./logs',\n",
    "    logging_steps=10,  # Log every 10 steps\n",
    "    report_to=\"tensorboard\",  # Use TensorBoard for better visualization\n",
    ")\n",
    "\n",
    "# Step 3: Create Trainer with LoRA model and custom callback\n",
    "trainer = Trainer(\n",
    "    model=model,  # LoRA-wrapped model\n",
    "    args=training_args,\n",
    "    train_dataset=train_sample,\n",
    "    eval_dataset=dev_sample,\n",
    "    compute_metrics=compute_metrics,\n",
    "    callbacks=[losses_callback],  # Add custom loss-tracking callback\n",
    ")"
   ]
  },
  {
   "cell_type": "code",
   "execution_count": 18,
   "metadata": {},
   "outputs": [
    {
     "data": {
      "text/html": [
       "\n",
       "    <div>\n",
       "      \n",
       "      <progress value='180' max='180' style='width:300px; height:20px; vertical-align: middle;'></progress>\n",
       "      [180/180 08:04, Epoch 3/4]\n",
       "    </div>\n",
       "    <table border=\"1\" class=\"dataframe\">\n",
       "  <thead>\n",
       " <tr style=\"text-align: left;\">\n",
       "      <th>Epoch</th>\n",
       "      <th>Training Loss</th>\n",
       "      <th>Validation Loss</th>\n",
       "      <th>Accuracy</th>\n",
       "      <th>Precision</th>\n",
       "      <th>Recall</th>\n",
       "      <th>F1</th>\n",
       "    </tr>\n",
       "  </thead>\n",
       "  <tbody>\n",
       "    <tr>\n",
       "      <td>0</td>\n",
       "      <td>1.118200</td>\n",
       "      <td>1.045347</td>\n",
       "      <td>0.453125</td>\n",
       "      <td>0.205322</td>\n",
       "      <td>0.453125</td>\n",
       "      <td>0.282594</td>\n",
       "    </tr>\n",
       "    <tr>\n",
       "      <td>1</td>\n",
       "      <td>1.010400</td>\n",
       "      <td>0.984961</td>\n",
       "      <td>0.468750</td>\n",
       "      <td>0.505456</td>\n",
       "      <td>0.468750</td>\n",
       "      <td>0.315353</td>\n",
       "    </tr>\n",
       "    <tr>\n",
       "      <td>2</td>\n",
       "      <td>1.027100</td>\n",
       "      <td>0.913198</td>\n",
       "      <td>0.562500</td>\n",
       "      <td>0.603485</td>\n",
       "      <td>0.562500</td>\n",
       "      <td>0.514195</td>\n",
       "    </tr>\n",
       "    <tr>\n",
       "      <td>3</td>\n",
       "      <td>0.941000</td>\n",
       "      <td>0.894057</td>\n",
       "      <td>0.515625</td>\n",
       "      <td>0.518916</td>\n",
       "      <td>0.515625</td>\n",
       "      <td>0.465224</td>\n",
       "    </tr>\n",
       "  </tbody>\n",
       "</table><p>"
      ],
      "text/plain": [
       "<IPython.core.display.HTML object>"
      ]
     },
     "metadata": {},
     "output_type": "display_data"
    },
    {
     "data": {
      "text/plain": [
       "TrainOutput(global_step=180, training_loss=1.0594253698984781, metrics={'train_runtime': 488.1065, 'train_samples_per_second': 2.991, 'train_steps_per_second': 0.369, 'total_flos': 381789114089472.0, 'train_loss': 1.0594253698984781, 'epoch': 3.9836065573770494})"
      ]
     },
     "execution_count": 18,
     "metadata": {},
     "output_type": "execute_result"
    }
   ],
   "source": [
    "trainer.train()"
   ]
  },
  {
   "cell_type": "code",
   "execution_count": 19,
   "metadata": {},
   "outputs": [
    {
     "data": {
      "image/png": "[encoded data removed]",
      "text/plain": [
       "<Figure size 720x432 with 1 Axes>"
      ]
     },
     "metadata": {
      "needs_background": "light"
     },
     "output_type": "display_data"
    }
   ],
   "source": [
    "# Step 5: Plot the training and development losses\n",
    "epochs = list(range(1, len(losses_callback.train_losses) + 1))  # Create an array for epochs (assuming one log per epoch)\n",
    "\n",
    "# Ensure both training and development losses are the same length\n",
    "min_len = min(len(losses_callback.train_losses), len(losses_callback.dev_losses))\n",
    "\n",
    "plt.figure(figsize=(10, 6))\n",
    "plt.plot(epochs[:min_len], losses_callback.train_losses[:min_len], label=\"Training Loss\", marker='o', linestyle='-', color='b')\n",
    "plt.plot(epochs[:min_len], losses_callback.dev_losses[:min_len], label=\"Development Loss\", marker='o', linestyle='--', color='r')\n",
    "plt.xlabel(\"Epochs\")\n",
    "plt.ylabel(\"Loss\")\n",
    "plt.title(\"Training and Development Loss per Epoch\")\n",
    "plt.legend()\n",
    "plt.grid(True)\n",
    "plt.show()"
   ]
  },
  {
   "cell_type": "code",
   "execution_count": 20,
   "metadata": {},
   "outputs": [
    {
     "data": {
      "text/html": [
       "\n",
       "    <div>\n",
       "      \n",
       "      <progress value='431' max='365' style='width:300px; height:20px; vertical-align: middle;'></progress>\n",
       "      [365/365 01:48]\n",
       "    </div>\n",
       "    "
      ],
      "text/plain": [
       "<IPython.core.display.HTML object>"
      ]
     },
     "metadata": {},
     "output_type": "display_data"
    },
    {
     "name": "stdout",
     "output_type": "stream",
     "text": [
      "Train Loss: 0.9265\n",
      "Train Accuracy: 0.5493\n",
      "Dev Loss: 0.9265\n",
      "Dev Accuracy: 0.5493\n"
     ]
    }
   ],
   "source": [
    "# Evaluate on the train set\n",
    "train_results = trainer.evaluate(train_data)\n",
    "# Print loss and accuracy\n",
    "print(f\"Train Loss: {train_results['eval_loss']:.4f}\")\n",
    "print(f\"Train Accuracy: {train_results['eval_accuracy']:.4f}\")  # Accuracy from compute_metrics\n",
    "# Evaluate on the dev set\n",
    "dev_results = trainer.evaluate(dev_data)\n",
    "# Print loss and accuracy\n",
    "print(f\"Dev Loss: {dev_results['eval_loss']:.4f}\")\n",
    "print(f\"Dev Accuracy: {dev_results['eval_accuracy']:.4f}\")  # Accuracy from compute_metrics"
   ]
  },
  {
   "cell_type": "code",
   "execution_count": 21,
   "metadata": {},
   "outputs": [
    {
     "name": "stdout",
     "output_type": "stream",
     "text": [
      "Test Loss: 0.9261\n",
      "Test Accuracy: 0.5533\n"
     ]
    }
   ],
   "source": [
    "# Evaluate on the test set\n",
    "test_results = trainer.evaluate(test_data)\n",
    "\n",
    "# Print loss and accuracy\n",
    "print(f\"Test Loss: {test_results['eval_loss']:.4f}\")\n",
    "print(f\"Test Accuracy: {test_results['eval_accuracy']:.4f}\")  # Accuracy from compute_metrics"
   ]
  }
 ],
 "metadata": {
  "kernelspec": {
   "display_name": "Python 3",
   "language": "python",
   "name": "python3"
  },
  "language_info": {
   "codemirror_mode": {
    "name": "ipython",
    "version": 3
   },
   "file_extension": ".py",
   "mimetype": "text/x-python",
   "name": "python",
   "nbconvert_exporter": "python",
   "pygments_lexer": "ipython3",
   "version": "3.9.12"
  },
  "orig_nbformat": 4
 },
 "nbformat": 4,
 "nbformat_minor": 2
}
