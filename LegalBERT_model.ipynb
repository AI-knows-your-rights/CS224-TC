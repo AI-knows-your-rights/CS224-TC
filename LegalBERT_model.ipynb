{
 "cells": [
  {
   "attachments": {},
   "cell_type": "markdown",
   "metadata": {},
   "source": [
    "## LEGAL-BERT model:"
   ]
  },
  {
   "cell_type": "code",
   "execution_count": 1,
   "metadata": {},
   "outputs": [
    {
     "name": "stderr",
     "output_type": "stream",
     "text": [
      "/Users/benjaminward/opt/anaconda3/lib/python3.9/site-packages/pandas/core/computation/expressions.py:21: UserWarning: Pandas requires version '2.8.4' or newer of 'numexpr' (version '2.8.1' currently installed).\n",
      "  from pandas.core.computation.check import NUMEXPR_INSTALLED\n",
      "/Users/benjaminward/opt/anaconda3/lib/python3.9/site-packages/pandas/core/arrays/masked.py:60: UserWarning: Pandas requires version '1.3.6' or newer of 'bottleneck' (version '1.3.4' currently installed).\n",
      "  from pandas.core import (\n",
      "[nltk_data] Downloading package punkt to\n",
      "[nltk_data]     /Users/benjaminward/nltk_data...\n",
      "[nltk_data]   Package punkt is already up-to-date!\n"
     ]
    }
   ],
   "source": [
    "# For retrieving the clauses and labels.\n",
    "import os\n",
    "import json\n",
    "# For the duplicates\n",
    "from collections import defaultdict, Counter\n",
    "# For BERT\n",
    "import torch\n",
    "import numpy as np\n",
    "from datasets import load_dataset, Dataset\n",
    "from sklearn.model_selection import train_test_split\n",
    "from transformers import BertTokenizer, BertForSequenceClassification, Trainer, TrainingArguments, TrainerCallback\n",
    "from sklearn.metrics import accuracy_score, classification_report\n",
    "# For deduplication\n",
    "import nltk\n",
    "from nltk.util import ngrams\n",
    "from sklearn.feature_extraction.text import ENGLISH_STOP_WORDS\n",
    "nltk.download('punkt')\n",
    "# For metrics\n",
    "from sklearn.metrics import accuracy_score, precision_score, recall_score, f1_score\n",
    "# For plots \n",
    "import matplotlib.pyplot as plt"
   ]
  },
  {
   "attachments": {},
   "cell_type": "markdown",
   "metadata": {},
   "source": [
    "### 1. Extracting the individual clauses and labels"
   ]
  },
  {
   "attachments": {},
   "cell_type": "markdown",
   "metadata": {},
   "source": [
    "#### a. Data extraction"
   ]
  },
  {
   "cell_type": "code",
   "execution_count": 2,
   "metadata": {},
   "outputs": [
    {
     "name": "stdout",
     "output_type": "stream",
     "text": [
      "⚠️ WARNING: 'clauses' list is empty in 'RESEARCHCHEMAIAL SWITZERLAND/clauses.json'\n",
      "⚠️ WARNING: 'clauses' list is empty in 'Kink.com/clauses.json'\n",
      "\n",
      "✅ Extracted 14407 clause-rating pairs from the first two companies.\n",
      "\n",
      "('Instead of asking directly, this Service will assume your consent merely from your usage.', 'bad')\n",
      "('This service tracks which web page referred you to it', 'bad')\n",
      "('The service can sell or otherwise transfer your personal data as part of a bankruptcy proceeding or other type of financial transaction.', 'bad')\n",
      "('You must provide your legal name, pseudonyms are not allowed', 'bad')\n",
      "('This service employs third-party cookies, but with opt-out instructions', 'bad')\n"
     ]
    }
   ],
   "source": [
    "data_dir = \"data\"  # Data directory containing company folders\n",
    "clause_pairs = []\n",
    "\n",
    "# Step 1: Check if data directory exists\n",
    "if not os.path.exists(data_dir):\n",
    "    print(f\"❌ ERROR: Data directory '{data_dir}' does not exist.\")\n",
    "    exit()\n",
    "\n",
    "# Step 2: Initialize a counter for the companies\n",
    "company_counter = 0\n",
    "\n",
    "# Step 3: Loop through all company folders inside the data directory\n",
    "for company in os.listdir(data_dir):\n",
    "    company_path = os.path.join(data_dir, company)\n",
    "\n",
    "    # Check if it's a directory (company folder)\n",
    "    if os.path.isdir(company_path):\n",
    "        clause_file = os.path.join(company_path, \"clauses.json\")\n",
    "\n",
    "        # Step 4: Check if clauses.json exists\n",
    "        if not os.path.isfile(clause_file):\n",
    "            print(f\"❌ ERROR: 'clauses.json' not found in '{company}' folder\")\n",
    "            continue\n",
    "\n",
    "        try:\n",
    "            # Step 5: Check if clauses.json is valid JSON\n",
    "            with open(clause_file, \"r\", encoding=\"utf-8\") as f:\n",
    "                data = json.load(f)\n",
    "\n",
    "            # Step 6: Check if 'clauses' key exists\n",
    "            if \"clauses\" not in data:\n",
    "                print(f\"⚠️ WARNING: No 'clauses' key found in '{company}/clauses.json'\")\n",
    "                continue\n",
    "\n",
    "            clauses = data[\"clauses\"]\n",
    "            if not clauses:\n",
    "                print(f\"⚠️ WARNING: 'clauses' list is empty in '{company}/clauses.json'\")\n",
    "                continue\n",
    "\n",
    "            # Step 7: Extract (title, rating) pairs\n",
    "            for clause in clauses:\n",
    "                title = clause.get(\"title\", \"\").strip() if clause.get(\"title\") else \"\"\n",
    "                rating = clause.get(\"rating\", \"\").strip() if clause.get(\"rating\") else \"\"\n",
    "\n",
    "                if title and rating:\n",
    "                    clause_pairs.append((title, rating))\n",
    "                else:\n",
    "                    print(f\"⚠️ WARNING: Skipping a clause in '{company}' due to missing title or rating.\")\n",
    "        \n",
    "        except json.JSONDecodeError:\n",
    "            print(f\"❌ ERROR: Invalid JSON in '{company}/clauses.json'\")\n",
    "\n",
    "        # Step 8: Stop after the first 2 companies\n",
    "        company_counter += 1\n",
    "        if company_counter >= 900:\n",
    "            break  # Exit the loop after processing the first two companies\n",
    "\n",
    "# Final results\n",
    "print(f\"\\n✅ Extracted {len(clause_pairs)} clause-rating pairs from the first two companies.\\n\")\n",
    "for pair in clause_pairs[:5]:  # Print first 5 for checking\n",
    "    print(pair)"
   ]
  },
  {
   "attachments": {},
   "cell_type": "markdown",
   "metadata": {},
   "source": [
    "#### b. Duplicate analysis"
   ]
  },
  {
   "cell_type": "code",
   "execution_count": 3,
   "metadata": {},
   "outputs": [
    {
     "name": "stdout",
     "output_type": "stream",
     "text": [
      "⚠️ WARNING: 'clauses' list is empty in 'RESEARCHCHEMAIAL SWITZERLAND/clauses.json'\n",
      "⚠️ WARNING: 'clauses' list is empty in 'Kink.com/clauses.json'\n"
     ]
    }
   ],
   "source": [
    "clause_pairs = []  # Reset to include folder info\n",
    "\n",
    "# Step 3: Loop through all company folders inside the data directory\n",
    "for company in os.listdir(data_dir):\n",
    "    company_path = os.path.join(data_dir, company)\n",
    "\n",
    "    if os.path.isdir(company_path):\n",
    "        clause_file = os.path.join(company_path, \"clauses.json\")\n",
    "\n",
    "        if not os.path.isfile(clause_file):\n",
    "            print(f\"❌ ERROR: 'clauses.json' not found in '{company}' folder\")\n",
    "            continue\n",
    "\n",
    "        try:\n",
    "            with open(clause_file, \"r\", encoding=\"utf-8\") as f:\n",
    "                data = json.load(f)\n",
    "\n",
    "            if \"clauses\" not in data:\n",
    "                print(f\"⚠️ WARNING: No 'clauses' key found in '{company}/clauses.json'\")\n",
    "                continue\n",
    "\n",
    "            clauses = data[\"clauses\"]\n",
    "            if not clauses:\n",
    "                print(f\"⚠️ WARNING: 'clauses' list is empty in '{company}/clauses.json'\")\n",
    "                continue\n",
    "\n",
    "            # Store (title, rating, folder)\n",
    "            for clause in clauses:\n",
    "                title = clause.get(\"title\", \"\").strip() if clause.get(\"title\") else \"\"\n",
    "                rating = clause.get(\"rating\", \"\").strip() if clause.get(\"rating\") else \"\"\n",
    "\n",
    "                if title and rating:\n",
    "                    clause_pairs.append((title, rating, company))  # Store the folder name\n",
    "                else:\n",
    "                    print(f\"⚠️ WARNING: Skipping a clause in '{company}' due to missing title or rating.\")\n",
    "\n",
    "        except json.JSONDecodeError:\n",
    "            print(f\"❌ ERROR: Invalid JSON in '{company}/clauses.json'\")"
   ]
  },
  {
   "cell_type": "code",
   "execution_count": 4,
   "metadata": {},
   "outputs": [
    {
     "name": "stdout",
     "output_type": "stream",
     "text": [
      "\n",
      "🔍 Top 10 most duplicated clause-rating pairs:\n",
      "Clause: There is a date of the last update of the agreements\n",
      "Rating: neutral\n",
      "Occurrences: 198\n",
      "Found in folders: Gfycat, ProtonVPN, SpigotMC, HideMyAss!, Nextcloud, ePlus Technology, NordVPN, Represent, ptgms Industries, Free Code Camp, SpaceHey, Leetify, Zoom Video Communications, Free Software Foundation, Tumblr, STiBaRC, Condé Nast, Unity, TechByte Net, Lichess, TubeBuddy, FairTec, Malwarebytes, The Walt Disney Company, Schoology, Among Us, Однокла́ссники (Ok.ru), Dark Reader, RethinkDNS, Douban, Le Parisien, Conjuguemos, Avast, Tubi, Odysee, Xiaomi, OsmAnd, Wise, Flipboard, Yello, Merriam-Webster, Encyclopedia Britannica, Authy (Twilio), JojoYou (PriEco), Microspot, kik-messenger, Arch Linux, GeeksforGeeks, iCloud, Heaven HR, Parler, xda-developers, Bilibili, Netflix, APK Pure, Instagram, Wallapop, Jeuxvideo.com, Yahoo!, iFunny, Tuta, Follow My Health, Opera, TourOfCalifornia.org, ClassDojo, Guiding Tech, Strava, Enpass, Guilded, Brave, Zoho, Gather Town, EthanMcBloxxer, DrugBank, mastodon.social, MuseScore, Open Collective, FaceApp, F-List, Audacity, Elk.zone, Brilliant, Toggl Track, Pantip.com, Replika, Canvas, WikiTree, ADT, Waterfox, Eltiempo.es, OpenStreetMap, MyAnimeList, Pinterest, BFM TV, Linguee, Vivaldi, Orange, Symbaloo, CouchSurfing, The Movie Database (TMDb), LBRY, Twitch, Disroot, NBC News, Privacy.com, Le Monde, Roadtrip Nation, Getty Images, Nslookup, The Filipino Channel, Wish, CNN, Translate, How-To Geek, Prezi, Vercel, Free, BBVA, GlobaliD, eBuddy, IVPN, Simitless, Fedora, BudgetBakers, Weblate, Washington Post, Archive of Our Own, Flickr, Weatheralex1 Hub, Skillshare, Headspace, Cisco, Crain's Chicago Business, Booking.com, FreeTube, Fedora Email, Speedtest by Ookla, Google Chrome, Credit Karma, Dropbox, Apple Services, Disney+, MySudo, Le Bon Coin, YNAB. (You Need a Budget), Mozilla Thunderbird, Prisma Media, Vox Media, Huawei, Medium, Busuu, hCaptcha, Jitsi, Le Soir, SpanishDict, KDE, Uber, Alibaba, ShortcutWorld.com, Marmiton, Metager, Gap Creek Media, CodeSandbox, PayPal, Recipe Realm, MobyGames, Reddit, Samsung, FanFiction, Codeberg, Calendly, Minecraft, Selfie2Anime, Forbes, Notion, Deveroonie.xyz, Future PLC, Swiss Government, Gettr, Cryptomator, Mega, VPN.AC, DeviantArt, Consumer News & Business Channel, Astronomer, Google, GoDaddy\n",
      "--------------------------------------------------------------------------------\n",
      "Clause: You are responsible for maintaining the security of your account and for the activities on your account\n",
      "Rating: neutral\n",
      "Occurrences: 189\n",
      "Found in folders: Gfycat, SpigotMC, Nextcloud, OpenAI, CollegeBoard, NordVPN, Free Code Camp, Leetify, Bitwarden, Zoom Video Communications, Unity, Tinder, Collins Dictionary, Smartmessages, Wolt, Patook, Malwarebytes, The Walt Disney Company, Sync, Artspace, HuffPost, Douban, Le Parisien, Minds, Tubi, FamilyTreeDNA, Medscape, Riot Games (League of Legends), Mailfence, Wise, Discogs, Team SDS, El Mundo (Spain), Merriam-Webster, Pexgle, Authy (Twilio), Simply Earth, Porton Private Cloudstorage, xda-developers, Bilibili, Ziff Davis, Netflix, likee, Yuka, Rofkin, Wallapop, Dailymotion, Observable, MeWe, Bandcamp, Waze, Fiverr, Follow My Health, Opera, Strava, 23andMe, Qwant, Kongregate, Genius, Guilded, Turnitin, SC Johnson, Quizlet, DrugBank, Open Collective, Fandango, FaceApp, Filen, F-List, Brilliant, Replika, Doctolib, Stingle Photos, Liberapay, Kahoot!, OpenStreetMap, MyAnimeList, Pinterest, HP | Hewlett-Packard, Chapril, Amazon AWS, Alan Thomson Simulation, Symbaloo, National Geographic, CouchSurfing, WhatsApp, Twitch, PureVPN, Pearltrees, Profilic, Fivestars, Privacy.com, Le Monde, Roadtrip Nation, Crunchyroll, ViacomCBS, Dendreo, Slack, Getty Images, InfinityFree, The Filipino Channel, CNN, Translate, Prezi, Vercel, webmail, WordReference, BudgetBakers, Ouigo, Scratch, Duolingo, Washington Post, IMDb, YTMP3.CC, Cisco, Xfinity, SourceForge, Fedora Email, Speedtest by Ookla, Credit Karma, SourceHut, Disqus, El País, Disney+, CNED, VKontakte, Atlassian, Spotify, FileFactory, Letterboxd, Goodreads, Khan Academy, Huawei, New York Times, Busuu, hCaptcha, McDonald's, Icedrive, ExpressVPN, Burger King, AliExpress, Alibaba, DiscourseHosting, Yleisradio, Firefox Cloud Services, Element, BetterHelp, Redbubble, Doodle, PayPal, Fox News, Brainly, Pico, Wattpad, ASKfm, UptimeRobot, Reddit, Signal, Wishlist, Canva, FanFiction, Instructure, Codeberg, Calendly, Minecraft, Selfie2Anime, Forbes, GitHub, Future PLC, Gettr, Discovery, Foursquare, matrix.org, Mega, DeviantArt, WikiHow, X, Blizzard, Vimeo, Search Encrypt, Veepn, Metacafe, Google, Remind, Coinbase\n",
      "--------------------------------------------------------------------------------\n",
      "Clause: The service is provided 'as is' and to be used at the users' sole risk\n",
      "Rating: neutral\n",
      "Occurrences: 188\n",
      "Found in folders: Gfycat, ProtonVPN, HideMyAss!, Kaspersky, NordVPN, W3Schools, Free Code Camp, Bitwarden, Zoom Video Communications, Tumblr, Attendify, Unity, Microsoft Services, Bitly, Adobe Services, Smartmessages, Patook, The Walt Disney Company, Schoology, Однокла́ссники (Ok.ru), Sync, Artspace, HuffPost, Le Parisien, XE.com, Avast, AirVPN, Medscape, Riot Games (League of Legends), Urban Dictionary, Instabridge, Mailfence, AnonAddy, Merriam-Webster, Pexgle, Encyclopedia Britannica, Authy (Twilio), Simply Earth, Pure Dating, Parler, xda-developers, Bilibili, Ting Inc., likee, Virtual World Computing Cocoon MyData Rewards, Instagram, Meredith, Session, Dailymotion, Observable, Yahoo!, iFunny, Bandcamp, Heroku, Waze, Fiverr, Follow My Health, Guiding Tech, Strava, Enpass, Kongregate, Genius, YouTube, Guilded, Brave, Turnitin, Quizlet, DrugBank, Fandango, WikiTree, Open Humans, ISODME, ADT, Wikipedia, OpenStreetMap, Chapril, Pinterest, Kahoot!, Vivaldi, Amazon AWS, WhatsApp, LBRY, Twitch, Healthline, Fivestars, NBC News, Internet Archive, Le Monde, Dendreo, Slack, CNN, Wikimedia, Prezi, Upcloud, eBuddy, webmail, IVPN, BudgetBakers, Scratch, Washington Post, Archive of Our Own, WeMod, Weatheralex1 Hub, YTMP3.CC, Cisco, Crain's Chicago Business, Pornhub, Yandex, SourceForge, Xfinity, LinkedIn, Amazon, Shopify, Disqus, Dropbox, Apple Services, CNED, VKontakte, MySudo, pCloud, Hacker Wars, eBay, KidzSearch, Vox Media, Goodreads, RiseUp.net, Khan Academy, Huawei, New York Times, hCaptcha, McDonald's, Jitsi, ExpressVPN, Ryver, OneSignal, LightyearVPN, ShortcutWorld.com, Firefox Cloud Services, Element, SparkNotes, BetterHelp, Nulled, Steam, Doodle, F-Droid, FastMail, Brainly, MobyGames, Quora, Wattpad, ASKfm, edX, Reddit, Signal, Tripadvisor, FanFiction, Instructure, Codeberg, Minecraft, Signal Stickers, Patreon, Presearch, Forbes, BlueMail, Ubisoft, GitHub, Surfshark, Future PLC, Discovery, BitChute, Foursquare, Alzforum, Rumble, Mega, VPN.AC, DeviantArt, CyberGhost, WikiHow, X, Consumer News & Business Channel, United States Postal Service, Blizzard, Vimeo, Search Encrypt, FileFactory, Coinbase, GoDaddy\n",
      "--------------------------------------------------------------------------------\n",
      "Clause: This service assumes no liability for any losses or damages resulting from any matter relating to the service\n",
      "Rating: neutral\n",
      "Occurrences: 187\n",
      "Found in folders: Gfycat, HideMyAss!, OpenAI, NordVPN, Represent, W3Schools, Leetify, Zoom Video Communications, Attendify, YouGov, Tickets Plus, Adobe Services, Patook, Malwarebytes, The Walt Disney Company, Houseparty, Among Us, Однокла́ссники (Ok.ru), Sync, Artspace, HuffPost, Le Parisien, XE.com, Avast, Tubi, FamilyTreeDNA, AirVPN, Odysee, Medscape, Riot Games (League of Legends), Open Source Initiative, Urban Dictionary, Instabridge, Mailfence, AnonAddy, Flipboard, Merriam-Webster, Pexgle, Encyclopedia Britannica, Authy (Twilio), JojoYou (PriEco), Pure Dating, Parler, xda-developers, Ting Inc., Listudy, likee, APK Pure, Rofkin, Instagram, Meredith, Remind, Session, Dailymotion, Observable, Jeuxvideo.com, Yahoo!, iFunny, Heroku, Fiverr, Opera, TourOfCalifornia.org, ClassDojo, Guiding Tech, Strava, Blooket, Enpass, Qwant, Guilded, Brave, Cloudflare, Gather Town, DrugBank, FaceApp, Audacity, Brilliant, Replika, Stingle Photos, USSeek, ADT, OpenStreetMap, Tresorit, Pinterest, HP | Hewlett-Packard, Vivaldi, Alan Thomson Simulation, Symbaloo, LBRY, Healthline, PureVPN, Index Education, Profilic, Google Analytics, Fivestars, Privacy.com, Le Monde, Crunchyroll, t2bot.io, Getty Images, Nslookup, The Filipino Channel, Wish, Translate, Prezi, eBuddy, Meower, webmail, IVPN, WeTransfer, Ouigo, Weblate, Washington Post, IMDb, WeMod, Weatheralex1 Hub, YTMP3.CC, Cisco, Crain's Chicago Business, Booking.com, SourceForge, LinkedIn, Speedtest by Ookla, Shopify, SourceHut, Dropbox, Disney+, VKontakte, MySudo, Le Bon Coin, YNAB. (You Need a Budget), FileFactory, eBay, KidzSearch, Goodreads, Wickr Me, RiseUp.net, Khan Academy, Huawei, McDonald's, Busuu, hCaptcha, Truth Social, Jitsi, ExpressVPN, Ryver, SpanishDict, Alibaba, ShortcutWorld.com, DiscourseHosting, Creative Commons, Element, Nulled, Redbubble, CodeSandbox, MobyGames, Wattpad, ASKfm, edX, Reddit, Signal, Tripadvisor, Instructure, Calendly, Patreon, Presearch, GitHub, Future PLC, Gettr, Discovery, BitChute, Alzforum, Rumble, matrix.org, Mega, DeviantArt, WikiHow, X, Blizzard, United States Postal Service, Vimeo, Search Encrypt, Veepn, Metacafe, Google, Anonfiles, Coinbase, GoDaddy\n",
      "--------------------------------------------------------------------------------\n",
      "Clause: The service provider makes no warranty regarding uninterrupted, timely, secure or error-free service\n",
      "Rating: neutral\n",
      "Occurrences: 178\n",
      "Found in folders: Gfycat, HideMyAss!, OpenAI, NordVPN, Represent, W3Schools, Bitwarden, Zoom Video Communications, Tumblr, Unity, Microsoft Services, Smartmessages, Wolt, Schoology, Among Us, Однокла́ссники (Ok.ru), Sync, Artspace, HuffPost, Douban, TikTok, Avast, Tubi, AirVPN, Open Source Initiative, Urban Dictionary, OsmAnd, Discogs, El Mundo (Spain), Pexgle, Adventurer's Codex, Simply Earth, Ableton, Porton Private Cloudstorage, Pure Dating, xda-developers, Bilibili, Ting Inc., Listudy, Virtual World Computing Cocoon MyData Rewards, MIT App Inventor, Instagram, Session, Dailymotion, Observable, Yahoo!, V.H. Hess, iFunny, Waze, TourOfCalifornia.org, ClassDojo, Guiding Tech, Strava, 23andMe, Enpass, Qwant, YouTube, Guilded, DrugBank, FaceApp, F-List, Brilliant, Le Figaro, Stingle Photos, Liberapay, Eltiempo.es, Wikipedia, OpenStreetMap, MyAnimeList, HP | Hewlett-Packard, Vivaldi, National Geographic, WhatsApp, LBRY, Healthline, PureVPN, Pearltrees, Fivestars, Privacy.com, Le Monde, Crunchyroll, BBC, t2bot.io, InfinityFree, The Filipino Channel, Wish, CNN, Translate, Wikimedia, Prezi, Vercel, Upcloud, eBuddy, Meower, webmail, IVPN, Simitless, WeTransfer, Scratch, Washington Post, Archive of Our Own, WeMod, Skillshare, Headspace, Yandex, Xfinity, SourceForge, LinkedIn, Speedtest by Ookla, Shopify, Disqus, Apple Services, El País, CNED, pCloud, Le Bon Coin, Viagogo, YNAB. (You Need a Budget), Hacker Wars, FileFactory, Marca, Vox Media, Wickr Me, RiseUp.net, Khan Academy, McDonald's, New York Times, hCaptcha, Truth Social, Jitsi, Icedrive, Ryver, Burger King, ExpressVPN, Uber, Alibaba, ShortcutWorld.com, Element, SparkNotes, BetterHelp, Steam, Redbubble, CodeSandbox, Doodle, Brainly, MobyGames, Bumble, Synonymo, edX, Reddit, Signal, Vouchley, Minecraft, Signal Stickers, Presearch, Ubisoft, GitHub, Surfshark, Future PLC, Gettr, Discovery, BitChute, Rumble, matrix.org, Mega, DeviantArt, CyberGhost, WikiHow, X, Consumer News & Business Channel, United States Postal Service, Blizzard, Vimeo, Veepn, Anonfiles, Coinbase\n",
      "--------------------------------------------------------------------------------\n",
      "Clause: You can opt out of promotional communications\n",
      "Rating: good\n",
      "Occurrences: 169\n",
      "Found in folders: Gfycat, ProtonVPN, HideMyAss!, Nextcloud, Kaspersky, CollegeBoard, NordVPN, Represent, Zoom Video Communications, Free Software Foundation, Tumblr, Condé Nast, Attendify, Unity, Collins Dictionary, Adobe Services, Wolt, Malwarebytes, The Walt Disney Company, Pocket, Однокла́ссники (Ok.ru), Moodle, Artspace, XE.com, Tubi, Hacking with Swift, Odysee, Xiaomi, Riot Games (League of Legends), Open Source Initiative, Flipboard, Merriam-Webster, Pexgle, Encyclopedia Britannica, Adventurer's Codex, Authy (Twilio), Microspot, Simply Earth, kik-messenger, Mozilla.org, GeeksforGeeks, BlaBlaCar, Parler, xda-developers, Heaven HR, Amazon Prime Video, Ziff Davis, Ting Inc., Netflix, Meredith, Jeuxvideo.com, iFunny, Bandcamp, Fiverr, Opera, Guiding Tech, 23andMe, Qwant, Enpass, Genius, Zoho, Open Collective, MuseScore, FaceApp, WordPress.org, Brilliant, Swisscows, Le Figaro, LibreOffice, Stingle Photos, ISODME, Eltiempo.es, Kahoot!, Pinterest, HP | Hewlett-Packard, Vivaldi, Alan Thomson Simulation, Symbaloo, CouchSurfing, LBRY, IKEA, Twitch, Healthline, PureVPN, Profilic, Fivestars, Startpage, Privacy.com, Le Monde, Crunchyroll, BBC, ViacomCBS, SmartNews, The Filipino Channel, Amnesty International Limited (UK), Wish, Prezi, Vercel, BBVA, Weblate, Duolingo, Washington Post, Standard Notes, WeMod, Headspace, Cisco, Crain's Chicago Business, Booking.com, SourceForge, Amazon, Speedtest by Ookla, SourceHut, Disqus, Dropbox, Disney+, MySudo, Atlassian, BitDefender, eBay, Clockify, Goodreads, Khan Academy, Huawei, Medium, Truth Social, ExpressVPN, OneSignal, Le Soir, SpanishDict, Stack Overflow, Yleisradio, Firefox Cloud Services, Creative Commons, Steam, Redbubble, CodeSandbox, PayPal, L'Equipe, FastMail, Pico, MobyGames, Quora, Wattpad, UptimeRobot, Reddit, Canva, Instructure, Calendly, privacypolicies.com, BlueMail, KeyMe, Future PLC, Gettr, Discovery, Alzforum, Foursquare, Rumble, Mega, El Mundo (El Salvador), DeviantArt, WikiHow, X, United States Postal Service, Search Encrypt, FileFactory, Coinbase, GoDaddy\n",
      "--------------------------------------------------------------------------------\n",
      "Clause: You have the right to leave this service at any time\n",
      "Rating: good\n",
      "Occurrences: 169\n",
      "Found in folders: Nextcloud, Kaspersky, OpenAI, Roblox, NordVPN, Represent, Brax.Me, Free Code Camp, Bitwarden, Zoom Video Communications, Tumblr, Unity, Hulu, YouGov, Adobe Services, Smartmessages, Wolt, Patook, Malwarebytes, The Walt Disney Company, Houseparty, Diario AS, Однокла́ссники (Ok.ru), Sync, HuffPost, Conjuguemos, Tubi, FamilyTreeDNA, Odysee, The Session, Instabridge, Mailfence, AnonAddy, Yello, Discogs, Pexgle, Authy (Twilio), Ableton, Porton Private Cloudstorage, iCloud, Parler, Ting Inc., Listudy, Netflix, likee, Virtual World Computing Cocoon MyData Rewards, Yuka, Rofkin, Instagram, Observable, MeWe, V.H. Hess, Bandcamp, Heroku, Waze, Follow My Health, Opera, Line Corporation, ClassDojo, Strava, 23andMe, Privacy Guides, Kongregate, YouTube, Guilded, Brave, Quizlet, mastodon.social, Audacity, Brilliant, Replika, WikiTree, Open Humans, LibreOffice, Stingle Photos, Liberapay, Wikipedia, OpenStreetMap, Tresorit, Chapril, HP | Hewlett-Packard, Vivaldi, Pixel8Earth, LBRY, Twitch, Healthline, PureVPN, Pearltrees, Google Analytics, Privacy.com, Le Monde, Crunchyroll, BBC, Dendreo, Slack, Nslookup, Wish, Vercel, Upcloud, eBuddy, Meower, Bereal, Standard Notes, Xfinity, Fedora Email, LinkedIn, Google Chrome, Dropbox, Apple Services, Disney+, pCloud, MySudo, Snapchat, Prisma Media, Clockify, Wickr Me, RiseUp.net, Khan Academy, Medium, New York Times, Busuu, hCaptcha, McDonald's, Jitsi, OneSignal, SpanishDict, LightyearVPN, Stack Overflow, DiscourseHosting, Firefox Cloud Services, zmudzinski.me Personal Blog (DEPRECATED), SpiderOak, Redbubble, CodeSandbox, PayPal, FastMail, Wattpad, Bumble, ASKfm, edX, Reddit, Signal, Samsung, Tripadvisor, Codeberg, ToS;DR Phoenix, Instructure, Crowdmark, Minecraft, Patreon, Presearch, Ubisoft, GitHub, Gettr, BitChute, Foursquare, Mega, CyberGhost, X, Consumer News & Business Channel, United States Postal Service, Astronomer, Vimeo, Facebook, Metacafe, Google, Remind, Coinbase, GoDaddy\n",
      "--------------------------------------------------------------------------------\n",
      "Clause: This service gives your personal data to third parties involved in its operation\n",
      "Rating: bad\n",
      "Occurrences: 161\n",
      "Found in folders: Gfycat, HideMyAss!, Nextcloud, Kaspersky, OpenAI, ePlus Technology, Roblox, NordVPN, Represent, Free Code Camp, Leetify, Bitwarden, Zoom Video Communications, Free Software Foundation, Tumblr, Condé Nast, Unity, Microsoft Services, Movistar, Tinder, Hulu, Collins Dictionary, YouGov, Wolt, TubeBuddy, Malwarebytes, The Walt Disney Company, Schoology, Among Us, Однокла́ссники (Ok.ru), TikTok, Le Parisien, Conjuguemos, FamilyTreeDNA, Odysee, Open Source Initiative, Instabridge, Flipboard, Yello, Merriam-Webster, Pexgle, Encyclopedia Britannica, Authy (Twilio), GeeksforGeeks, iCloud, BlaBlaCar, xda-developers, Heaven HR, Ziff Davis, Rofkin, MIT App Inventor, Meredith, Wallapop, Dailymotion, Jeuxvideo.com, iFunny, Opera, Line Corporation, ClassDojo, Guilded, SC Johnson, Gather Town, mastodon.social, MuseScore, FaceApp, F-List, Brilliant, Pantip.com, VPN Hamster, Le Figaro, Neurococi, ADT, Eltiempo.es, HP | Hewlett-Packard, BFM TV, Orange, Amazon AWS, Realestate.com.au, 10minutemail, Symbaloo, IKEA, PureVPN, Pearltrees, Index Education, Google Analytics, NBC News, Privacy.com, Profilic, Le Monde, Roadtrip Nation, Crunchyroll, ViacomCBS, Nvidia, Getty Images, InfinityFree, The Filipino Channel, Wish, CNN, Translate, Free, BBVA, Walmart, BudgetBakers, Ouigo, Weblate, Bereal, Washington Post, IMDb, Crain's Chicago Business, Yandex, Booking.com, LinkedIn, Speedtest by Ookla, Google Chrome, Shopify, Credit Karma, Disney+, Linksys, CNED, Le Bon Coin, Prisma Media, FileFactory, Vox Media, Clockify, ExpressVPN, OneSignal, Le Soir, Météo France, SpanishDict, Uber, Alibaba, Bing, Marmiton, Element, Redbubble, L'Equipe, Pico, MobyGames, Wattpad, UptimeRobot, Samsung, Calendly, privacypolicies.com, Minecraft, Selfie2Anime, BlueMail, Notion, Future PLC, Discovery, Gandi, Alzforum, Rumble, matrix.org, CyberGhost, Flatmates, United States Postal Service, Astronomer, Veepn, Remind, Coinbase, GoDaddy\n",
      "--------------------------------------------------------------------------------\n",
      "Clause: Blocking first party cookies may limit your ability to use the service\n",
      "Rating: neutral\n",
      "Occurrences: 153\n",
      "Found in folders: Gfycat, HideMyAss!, SpigotMC, OpenAI, Kaspersky, ePlus Technology, Roblox, Leetify, OpenHAB, Unity, Hulu, Wolt, TubeBuddy, Malwarebytes, Among Us, Sync, Artspace, TikTok, Le Parisien, XE.com, Avast, Tubi, Medscape, Riot Games (League of Legends), Urban Dictionary, Instabridge, Yello, El Mundo (Spain), Merriam-Webster, Encyclopedia Britannica, Authy (Twilio), JojoYou (PriEco), Ableton, Arch Linux, Pure Dating, GeeksforGeeks, iCloud, Heaven HR, Parler, xda-developers, Bilibili, Amazon Prime Video, Ziff Davis, Netflix, likee, APK Pure, Instagram, Hinterland Games, Qwant, Guilded, Telegram, Zoho, DrugBank, FaceApp, Brilliant, Toggl Track, VPN Hamster, Le Figaro, Neurococi, Doctolib, LibreOffice, Eltiempo.es, Waterfox, MyAnimeList, HP | Hewlett-Packard, Vivaldi, Linguee, Orange, Amazon AWS, Realestate.com.au, 10minutemail, Alan Thomson Simulation, The Movie Database (TMDb), WhatsApp, LBRY, Healthline, Index Education, Pearltrees, Fivestars, NBC News, Privacy.com, Le Monde, The Filipino Channel, Wish, Translate, How-To Geek, Prezi, Free, BBVA, Fedora, Ouigo, Washington Post, Flickr, WeMod, Headspace, Crain's Chicago Business, LinkedIn, Speedtest by Ookla, Credit Karma, Shopify, Disqus, Dropbox, Disney+, CNED, pCloud, Viagogo, Snapchat, BitDefender, Marca, Khan Academy, Medium, McDonald's, hCaptcha, ExpressVPN, Le Soir, Météo France, AliExpress, Alibaba, Campus Innovations Kultur, Firefox Cloud Services, Gap Creek Media, Creative Commons, Steam, Redbubble, PayPal, L'Equipe, edX, Reddit, Samsung, Canva, Vouchley, Tripadvisor, FanFiction, Instructure, privacypolicies.com, Patreon, GitHub, Swiss Government, Future PLC, Gettr, Foursquare, Rumble, Mega, El Mundo (El Salvador), X, Consumer News & Business Channel, United States Postal Service, Blizzard, Flatmates, Facebook\n",
      "--------------------------------------------------------------------------------\n",
      "Clause: The service does not guarantee accuracy or reliability of the information provided\n",
      "Rating: neutral\n",
      "Occurrences: 146\n",
      "Found in folders: ProtonVPN, NordVPN, Represent, W3Schools, SpaceHey, Bitwarden, Zoom Video Communications, Microsoft Services, Bitly, Wolt, Patook, Artspace, HuffPost, Douban, TikTok, Minds, XE.com, Tubi, FamilyTreeDNA, Odysee, Medscape, Riot Games (League of Legends), Open Source Initiative, OsmAnd, El Mundo (Spain), The MOD Archive, Pure Dating, BlaBlaCar, xda-developers, Bilibili, Ting Inc., likee, Virtual World Computing Cocoon MyData Rewards, Dailymotion, Observable, Yahoo!, V.H. Hess, iFunny, Waze, Hinterland Games, Fiverr, Opera, TourOfCalifornia.org, ClassDojo, Guiding Tech, Strava, Privacy Guides, Enpass, Qwant, YouTube, DrugBank, Fandango, F-List, Audacity, Canvas, USSeek, ADT, Eltiempo.es, OpenStreetMap, MyAnimeList, HP | Hewlett-Packard, Vivaldi, National Geographic, WhatsApp, LBRY, Twitch, Fivestars, Privacy.com, Internet Archive, Le Monde, Crunchyroll, BBC, t2bot.io, Orchid VPN, Nslookup, InfinityFree, The Filipino Channel, Wish, CNN, Wikimedia, BBVA, webmail, Washington Post, Archive of Our Own, WeMod, Weatheralex1 Hub, Return YouTube Dislike, Headspace, Cisco, Crain's Chicago Business, Xfinity, SourceForge, Credit Karma, Shopify, Disqus, El País, pCloud, Hacker Wars, eBay, KidzSearch, Marca, Huawei, McDonald's, Busuu, ExpressVPN, Ryver, Burger King, Alibaba, ShortcutWorld.com, SparkNotes, BetterHelp, Nulled, Cakey Bot, Brainly, MobyGames, Quora, Wattpad, Synonymo, edX, ASKfm, Reddit, Signal, Canva, Tripadvisor, FanFiction, Minecraft, Presearch, Ubisoft, GitHub, Surfshark, KeyMe, Swiss Government, Discovery, BitChute, Foursquare, Alzforum, Rumble, Mega, X, Consumer News & Business Channel, United States Postal Service, Search Encrypt, Metacafe, FileFactory, Coinbase\n",
      "--------------------------------------------------------------------------------\n"
     ]
    }
   ],
   "source": [
    "# Count occurrences of each (clause, rating) pair\n",
    "pair_counts = Counter((title, rating) for title, rating, _ in clause_pairs)\n",
    "\n",
    "# Get the top 5 most duplicated pairs\n",
    "most_common_pairs = pair_counts.most_common(10)\n",
    "\n",
    "# Map each (clause, rating) to its folder locations\n",
    "pair_locations = defaultdict(set)\n",
    "for title, rating, folder in clause_pairs:\n",
    "    pair_locations[(title, rating)].add(folder)\n",
    "\n",
    "# Print the results\n",
    "print(\"\\n🔍 Top 10 most duplicated clause-rating pairs:\")\n",
    "for (title, rating), count in most_common_pairs:\n",
    "    folders = list(pair_locations[(title, rating)])  # Convert set to list\n",
    "    print(f\"Clause: {title}\\nRating: {rating}\\nOccurrences: {count}\\nFound in folders: {', '.join(folders)}\")\n",
    "    print(\"-\" * 80)"
   ]
  },
  {
   "attachments": {},
   "cell_type": "markdown",
   "metadata": {},
   "source": [
    "#### c. Processing code:"
   ]
  },
  {
   "cell_type": "code",
   "execution_count": 5,
   "metadata": {},
   "outputs": [
    {
     "name": "stdout",
     "output_type": "stream",
     "text": [
      "⚠️ WARNING: 'clauses' list is empty in 'RESEARCHCHEMAIAL SWITZERLAND/clauses.json'\n",
      "⚠️ WARNING: 'clauses' list is empty in 'Kink.com/clauses.json'\n",
      "\n",
      "✅ Extracted 14407 clause-rating pairs from the first two companies.\n",
      "\n",
      "('Instead of asking directly, this Service will assume your consent merely from your usage.', 'bad')\n",
      "('This service tracks which web page referred you to it', 'bad')\n",
      "('The service can sell or otherwise transfer your personal data as part of a bankruptcy proceeding or other type of financial transaction.', 'bad')\n",
      "('You must provide your legal name, pseudonyms are not allowed', 'bad')\n",
      "('This service employs third-party cookies, but with opt-out instructions', 'bad')\n"
     ]
    }
   ],
   "source": [
    "data_dir = \"data\"  # Data directory containing company folders\n",
    "clause_pairs = []\n",
    "\n",
    "# Step 1: Check if data directory exists\n",
    "if not os.path.exists(data_dir):\n",
    "    print(f\"❌ ERROR: Data directory '{data_dir}' does not exist.\")\n",
    "    exit()\n",
    "\n",
    "# Step 2: Initialize a counter for the companies\n",
    "company_counter = 0\n",
    "\n",
    "# Step 3: Loop through all company folders inside the data directory\n",
    "for company in os.listdir(data_dir):\n",
    "    company_path = os.path.join(data_dir, company)\n",
    "\n",
    "    # Check if it's a directory (company folder)\n",
    "    if os.path.isdir(company_path):\n",
    "        clause_file = os.path.join(company_path, \"clauses.json\")\n",
    "\n",
    "        # Step 4: Check if clauses.json exists\n",
    "        if not os.path.isfile(clause_file):\n",
    "            print(f\"❌ ERROR: 'clauses.json' not found in '{company}' folder\")\n",
    "            continue\n",
    "\n",
    "        try:\n",
    "            # Step 5: Check if clauses.json is valid JSON\n",
    "            with open(clause_file, \"r\", encoding=\"utf-8\") as f:\n",
    "                data = json.load(f)\n",
    "\n",
    "            # Step 6: Check if 'clauses' key exists\n",
    "            if \"clauses\" not in data:\n",
    "                print(f\"⚠️ WARNING: No 'clauses' key found in '{company}/clauses.json'\")\n",
    "                continue\n",
    "\n",
    "            clauses = data[\"clauses\"]\n",
    "            if not clauses:\n",
    "                print(f\"⚠️ WARNING: 'clauses' list is empty in '{company}/clauses.json'\")\n",
    "                continue\n",
    "\n",
    "            # Step 7: Extract (title, rating) pairs\n",
    "            for clause in clauses:\n",
    "                title = clause.get(\"title\", \"\").strip() if clause.get(\"title\") else \"\"\n",
    "                rating = clause.get(\"rating\", \"\").strip() if clause.get(\"rating\") else \"\"\n",
    "\n",
    "                if title and rating:\n",
    "                    clause_pairs.append((title, rating))\n",
    "                else:\n",
    "                    print(f\"⚠️ WARNING: Skipping a clause in '{company}' due to missing title or rating.\")\n",
    "        \n",
    "        except json.JSONDecodeError:\n",
    "            print(f\"❌ ERROR: Invalid JSON in '{company}/clauses.json'\")\n",
    "\n",
    "        # Step 8: Stop after the first 2 companies\n",
    "        company_counter += 1\n",
    "        if company_counter >= 900:\n",
    "            break  # Exit the loop after processing the first two companies\n",
    "\n",
    "# Final results\n",
    "print(f\"\\n✅ Extracted {len(clause_pairs)} clause-rating pairs from the first two companies.\\n\")\n",
    "for pair in clause_pairs[:5]:  # Print first 5 for checking\n",
    "    print(pair)"
   ]
  },
  {
   "cell_type": "code",
   "execution_count": 6,
   "metadata": {},
   "outputs": [
    {
     "name": "stdout",
     "output_type": "stream",
     "text": [
      "Before removal of duplicates: 14407 clause-rating pairs.\n",
      "✅ Removed exact duplicates. 1123 unique clause-rating pairs.\n",
      "Number of clauses which appear more than once in our dataset: 447.\n",
      "Number of clauses which we removed because there were already present once: 13284\n"
     ]
    }
   ],
   "source": [
    "# Step 1: Initialize a set to store unique clause-rating pairs, and non-unique clause-rating pais.\n",
    "unique_clause_pairs = set()\n",
    "non_unique_clause_pairs = set()\n",
    "occurrences_of_non_unique_clause_pairs = 0\n",
    "\n",
    "# Step 2: Filter out duplicates by checking if the pair already exists in the set\n",
    "filtered_clause_pairs = []\n",
    "\n",
    "for title, rating in clause_pairs:\n",
    "    # Use a tuple of (description, rating) as the set key\n",
    "    pair = (title, rating)\n",
    "    \n",
    "    # If the pair is not in the set, add it to the filtered list and the set\n",
    "    if pair not in unique_clause_pairs:\n",
    "        filtered_clause_pairs.append(pair)\n",
    "        unique_clause_pairs.add(pair)\n",
    "    else:\n",
    "        non_unique_clause_pairs.add(pair)\n",
    "        occurrences_of_non_unique_clause_pairs +=1\n",
    "\n",
    "unique_clause_pairs = list(unique_clause_pairs)\n",
    "non_unique_clause_pairs = list(non_unique_clause_pairs)\n",
    "\n",
    "# Step 3: Check how many unique pairs there are\n",
    "print(f\"Before removal of duplicates: {len(clause_pairs)} clause-rating pairs.\")\n",
    "print(f\"✅ Removed exact duplicates. {len(filtered_clause_pairs)} unique clause-rating pairs.\")\n",
    "print(f\"Number of clauses which appear more than once in our dataset: {len(non_unique_clause_pairs)}.\")\n",
    "print(f\"Number of clauses which we removed because there were already present once: {occurrences_of_non_unique_clause_pairs}\")"
   ]
  },
  {
   "cell_type": "code",
   "execution_count": 7,
   "metadata": {},
   "outputs": [
    {
     "name": "stdout",
     "output_type": "stream",
     "text": [
      "Title: The service provides details about what kinds of information they collect\n",
      "Rating: good\n",
      "\n",
      "Title: Terms may be changed at any time, but you will be notified.\n",
      "Rating: neutral\n",
      "\n",
      "Title: Your account can be suspended and your data deleted any time for any reason\n",
      "Rating: bad\n",
      "\n",
      "Title: The court of law governing the terms is in a jurisdiction that is friendlier to user privacy protection (CH)\n",
      "Rating: good\n",
      "\n",
      "Title: The posting of pornographic content is prohibited\n",
      "Rating: neutral\n",
      "\n"
     ]
    }
   ],
   "source": [
    "# Example of accessing the descriptions and ratings\n",
    "for pair in unique_clause_pairs[:5]:  # Print first 5 pairs for checking\n",
    "    title = pair[0]  # Clause description (x)\n",
    "    rating = pair[1]       # Clause rating (y)\n",
    "    print(f\"Title: {title}\\nRating: {rating}\\n\")"
   ]
  },
  {
   "attachments": {},
   "cell_type": "markdown",
   "metadata": {},
   "source": [
    "### 2. BERT model"
   ]
  },
  {
   "attachments": {},
   "cell_type": "markdown",
   "metadata": {},
   "source": [
    "#### a. Filtering: removing pairs with \"unknown\" as label."
   ]
  },
  {
   "cell_type": "code",
   "execution_count": 8,
   "metadata": {},
   "outputs": [
    {
     "name": "stdout",
     "output_type": "stream",
     "text": [
      "Data set size: 1074\n",
      "Train+dev set size: 859\n",
      "Test set size: 215\n"
     ]
    }
   ],
   "source": [
    "# Step 3.1: Filter out clauses with 'unknown' ratings\n",
    "filtered_clause_pairs = [(title, rating) for title, rating in unique_clause_pairs if rating != \"unknown\"]\n",
    "\n",
    "# Split the filtered data\n",
    "clauses, ratings = zip(*filtered_clause_pairs)  # Extract clauses and their ratings\n",
    "\n",
    "# Map ratings to integers\n",
    "rating_dict = {\"very bad\": 0, \"bad\": 1, \"neutral\": 2, \"good\": 3}  # Modify if you have different ratings\n",
    "ratings_int = [rating_dict[r] for r in ratings]\n",
    "\n",
    "# Step 3.2: Split data into train, dev, and test sets (80% train, 10% dev, 10% test)\n",
    "X_temp, X_test, y_temp, y_test = train_test_split(clauses, ratings_int, test_size=0.2, random_state=42)\n",
    "\n",
    "# Print size\n",
    "print(f\"Data set size: {len(filtered_clause_pairs)}\")\n",
    "print(f\"Train+dev set size: {len(y_temp)}\")\n",
    "print(f\"Test set size: {len(y_test)}\")"
   ]
  },
  {
   "attachments": {},
   "cell_type": "markdown",
   "metadata": {},
   "source": [
    "#### b. Deduplication based on n-gram similarity"
   ]
  },
  {
   "cell_type": "code",
   "execution_count": 9,
   "metadata": {},
   "outputs": [],
   "source": [
    "def get_ngrams(text, n=3):\n",
    "    \"\"\"Convert text into a set of n-grams.\"\"\"\n",
    "    tokens = nltk.word_tokenize(text.lower())  # Tokenize and lowercase\n",
    "    tokens = [t for t in tokens if t.isalnum() and t not in ENGLISH_STOP_WORDS]  # Remove stopwords and non-alphanumeric\n",
    "    return set(ngrams(tokens, n))\n",
    "\n",
    "def jaccard_similarity(set1, set2):\n",
    "    \"\"\"Compute Jaccard similarity between two sets.\"\"\"\n",
    "    intersection = len(set1 & set2)\n",
    "    union = len(set1 | set2)\n",
    "    return intersection / union if union != 0 else 0\n",
    "\n",
    "def deduplicate_test_set(train_clauses, test_clauses, test_labels, threshold=0.7, n=3):\n",
    "    \"\"\"Remove test clauses that are too similar to any train clause based on n-gram Jaccard similarity.\"\"\"\n",
    "    train_ngrams = [get_ngrams(clause, n) for clause in train_clauses]\n",
    "    \n",
    "    filtered_test_clauses = []\n",
    "    filtered_test_labels = []\n",
    "    \n",
    "    for test_clause, test_label in zip(test_clauses, test_labels):\n",
    "        test_ngram_set = get_ngrams(test_clause, n)\n",
    "        \n",
    "        # Check similarity with each train clause\n",
    "        max_similarity = max(jaccard_similarity(test_ngram_set, train_set) for train_set in train_ngrams)\n",
    "        \n",
    "        if max_similarity < threshold:\n",
    "            filtered_test_clauses.append(test_clause)\n",
    "            filtered_test_labels.append(test_label)\n",
    "    \n",
    "    return filtered_test_clauses, filtered_test_labels"
   ]
  },
  {
   "cell_type": "code",
   "execution_count": 10,
   "metadata": {},
   "outputs": [
    {
     "name": "stdout",
     "output_type": "stream",
     "text": [
      "Before deduplication: test+dev set size is 215\n",
      "After deduplication: test+dev set size is 146\n"
     ]
    }
   ],
   "source": [
    "# Apply deduplication\n",
    "print(f\"Before deduplication: test+dev set size is {len(y_test)}\")\n",
    "X_test, y_test = deduplicate_test_set(X_temp, X_test, y_test, threshold=0.7, n=3)\n",
    "print(f\"After deduplication: test+dev set size is {len(y_test)}\")"
   ]
  },
  {
   "attachments": {},
   "cell_type": "markdown",
   "metadata": {},
   "source": [
    "#### c. Training BERT"
   ]
  },
  {
   "cell_type": "code",
   "execution_count": 11,
   "metadata": {},
   "outputs": [
    {
     "name": "stdout",
     "output_type": "stream",
     "text": [
      "Train set size: 730\n",
      "Dev set size: 129\n"
     ]
    }
   ],
   "source": [
    "X_train, X_dev, y_train, y_dev = train_test_split(X_temp, y_temp, test_size=0.15, random_state=42)\n",
    "print(f\"Train set size: {len(y_train)}\")\n",
    "print(f\"Dev set size: {len(y_dev)}\")\n",
    "\n",
    "# Step 3.3: Convert into a format that Hugging Face can use\n",
    "train_data = Dataset.from_dict({\"text\": X_train, \"label\": y_train})\n",
    "dev_data = Dataset.from_dict({\"text\": X_dev, \"label\": y_dev})\n",
    "test_data = Dataset.from_dict({\"text\": X_test, \"label\": y_test})"
   ]
  },
  {
   "cell_type": "code",
   "execution_count": 12,
   "metadata": {},
   "outputs": [
    {
     "data": {
      "application/vnd.jupyter.widget-view+json": {
       "model_id": "a1141e1fead04df78956d5ca93358f4d",
       "version_major": 2,
       "version_minor": 0
      },
      "text/plain": [
       "Map:   0%|          | 0/730 [00:00<?, ? examples/s]"
      ]
     },
     "metadata": {},
     "output_type": "display_data"
    },
    {
     "data": {
      "application/vnd.jupyter.widget-view+json": {
       "model_id": "db7674fdf8584e96b6b247f9e6e9e7e6",
       "version_major": 2,
       "version_minor": 0
      },
      "text/plain": [
       "Map:   0%|          | 0/129 [00:00<?, ? examples/s]"
      ]
     },
     "metadata": {},
     "output_type": "display_data"
    },
    {
     "data": {
      "application/vnd.jupyter.widget-view+json": {
       "model_id": "a09c8c23d980466db663a06e44a7672a",
       "version_major": 2,
       "version_minor": 0
      },
      "text/plain": [
       "Map:   0%|          | 0/146 [00:00<?, ? examples/s]"
      ]
     },
     "metadata": {},
     "output_type": "display_data"
    },
    {
     "data": {
      "application/vnd.jupyter.widget-view+json": {
       "model_id": "d9e9614cbdb74a12bf108e23a093dbc9",
       "version_major": 2,
       "version_minor": 0
      },
      "text/plain": [
       "Map:   0%|          | 0/730 [00:00<?, ? examples/s]"
      ]
     },
     "metadata": {},
     "output_type": "display_data"
    },
    {
     "data": {
      "application/vnd.jupyter.widget-view+json": {
       "model_id": "fc024af467e64f6f89c00693e64b2f71",
       "version_major": 2,
       "version_minor": 0
      },
      "text/plain": [
       "Map:   0%|          | 0/129 [00:00<?, ? examples/s]"
      ]
     },
     "metadata": {},
     "output_type": "display_data"
    },
    {
     "data": {
      "application/vnd.jupyter.widget-view+json": {
       "model_id": "4d7a644a95de4994957c30ab2418e029",
       "version_major": 2,
       "version_minor": 0
      },
      "text/plain": [
       "Map:   0%|          | 0/146 [00:00<?, ? examples/s]"
      ]
     },
     "metadata": {},
     "output_type": "display_data"
    },
    {
     "data": {
      "application/vnd.jupyter.widget-view+json": {
       "model_id": "651610485cb84352a9c6ade55e44f4d1",
       "version_major": 2,
       "version_minor": 0
      },
      "text/plain": [
       "Map:   0%|          | 0/730 [00:00<?, ? examples/s]"
      ]
     },
     "metadata": {},
     "output_type": "display_data"
    },
    {
     "name": "stderr",
     "output_type": "stream",
     "text": [
      "/var/folders/zl/gjtb3by11p7b_j804bt863qh0000gn/T/ipykernel_13203/1725490521.py:24: UserWarning: To copy construct from a tensor, it is recommended to use sourceTensor.clone().detach() or sourceTensor.clone().detach().requires_grad_(True), rather than torch.tensor(sourceTensor).\n",
      "  train_data = train_data.map(lambda x: {\"label\": torch.tensor(x[\"label\"]).long()})\n"
     ]
    },
    {
     "data": {
      "application/vnd.jupyter.widget-view+json": {
       "model_id": "01e38b9ccf2a4ba28cf6a3c6c6c081b7",
       "version_major": 2,
       "version_minor": 0
      },
      "text/plain": [
       "Map:   0%|          | 0/129 [00:00<?, ? examples/s]"
      ]
     },
     "metadata": {},
     "output_type": "display_data"
    },
    {
     "name": "stderr",
     "output_type": "stream",
     "text": [
      "/var/folders/zl/gjtb3by11p7b_j804bt863qh0000gn/T/ipykernel_13203/1725490521.py:25: UserWarning: To copy construct from a tensor, it is recommended to use sourceTensor.clone().detach() or sourceTensor.clone().detach().requires_grad_(True), rather than torch.tensor(sourceTensor).\n",
      "  dev_data = dev_data.map(lambda x: {\"label\": torch.tensor(x[\"label\"]).long()})\n"
     ]
    },
    {
     "data": {
      "application/vnd.jupyter.widget-view+json": {
       "model_id": "5cd56922ce97425ba2b5de2dee4fcf52",
       "version_major": 2,
       "version_minor": 0
      },
      "text/plain": [
       "Map:   0%|          | 0/146 [00:00<?, ? examples/s]"
      ]
     },
     "metadata": {},
     "output_type": "display_data"
    },
    {
     "name": "stderr",
     "output_type": "stream",
     "text": [
      "/var/folders/zl/gjtb3by11p7b_j804bt863qh0000gn/T/ipykernel_13203/1725490521.py:26: UserWarning: To copy construct from a tensor, it is recommended to use sourceTensor.clone().detach() or sourceTensor.clone().detach().requires_grad_(True), rather than torch.tensor(sourceTensor).\n",
      "  test_data = test_data.map(lambda x: {\"label\": torch.tensor(x[\"label\"]).long()})\n"
     ]
    }
   ],
   "source": [
    "# Step 4.1: Load the Legal-BERT tokenizer\n",
    "tokenizer = BertTokenizer.from_pretrained(\"nlpaueb/legal-bert-base-uncased\")\n",
    "\n",
    "# Step 4.2: Define a function to tokenize the input texts\n",
    "def tokenize_function(examples):\n",
    "    return tokenizer(examples.get('text', \"\"), padding='max_length', truncation=True, max_length=512)\n",
    "\n",
    "# Step 4.3: Apply the tokenizer to the train, dev, and test datasets\n",
    "train_data = train_data.map(tokenize_function, batched=True)\n",
    "dev_data = dev_data.map(tokenize_function, batched=True)\n",
    "test_data = test_data.map(tokenize_function, batched=True)\n",
    "\n",
    "# Step 4.4: Set the format for PyTorch\n",
    "train_data.set_format(type='torch', columns=['input_ids', 'attention_mask', 'token_type_ids', 'label'])\n",
    "dev_data.set_format(type='torch', columns=['input_ids', 'attention_mask', 'token_type_ids', 'label'])\n",
    "test_data.set_format(type='torch', columns=['input_ids', 'attention_mask', 'token_type_ids', 'label'])\n",
    "\n",
    "# Step 4.5: Remove the original text filed\n",
    "train_data = train_data.map(tokenize_function, batched=True, remove_columns=[\"text\"])\n",
    "dev_data = dev_data.map(tokenize_function, batched=True, remove_columns=[\"text\"])\n",
    "test_data = test_data.map(tokenize_function, batched=True, remove_columns=[\"text\"])\n",
    "\n",
    "# Step 4.6: Make sure we are working with longs\n",
    "train_data = train_data.map(lambda x: {\"label\": torch.tensor(x[\"label\"]).long()})\n",
    "dev_data = dev_data.map(lambda x: {\"label\": torch.tensor(x[\"label\"]).long()})\n",
    "test_data = test_data.map(lambda x: {\"label\": torch.tensor(x[\"label\"]).long()})"
   ]
  },
  {
   "cell_type": "code",
   "execution_count": 13,
   "metadata": {},
   "outputs": [],
   "source": [
    "# Step 5.1: Take a smaller sample (e.g., 5%) of the training data\n",
    "train_sample = train_data.shuffle(seed=42).select(range(int(1 * len(train_data))))\n",
    "dev_sample = dev_data.shuffle(seed=42).select(range(int(1*len(dev_data))))"
   ]
  },
  {
   "cell_type": "code",
   "execution_count": 14,
   "metadata": {},
   "outputs": [],
   "source": [
    "def compute_metrics(eval_pred):\n",
    "    logits, labels = eval_pred\n",
    "    preds = np.argmax(logits, axis=1)  # Convert logits to predicted labels\n",
    "\n",
    "    accuracy = accuracy_score(labels, preds)\n",
    "    precision = precision_score(labels, preds, average='weighted')\n",
    "    recall = recall_score(labels, preds, average='weighted')\n",
    "    f1 = f1_score(labels, preds, average='weighted')\n",
    "\n",
    "    return {\n",
    "        \"accuracy\": accuracy,\n",
    "        \"precision\": precision,\n",
    "        \"recall\": recall,\n",
    "        \"f1\": f1\n",
    "    }"
   ]
  },
  {
   "cell_type": "code",
   "execution_count": 15,
   "metadata": {},
   "outputs": [
    {
     "name": "stderr",
     "output_type": "stream",
     "text": [
      "/Users/benjaminward/opt/anaconda3/lib/python3.9/site-packages/torch/_utils.py:831: UserWarning: TypedStorage is deprecated. It will be removed in the future and UntypedStorage will be the only storage class. This should only matter to you if you are using storages directly.  To access UntypedStorage directly, use tensor.untyped_storage() instead of tensor.storage()\n",
      "  return self.fget.__get__(instance, owner)()\n",
      "Some weights of BertForSequenceClassification were not initialized from the model checkpoint at nlpaueb/legal-bert-base-uncased and are newly initialized: ['classifier.bias', 'classifier.weight']\n",
      "You should probably TRAIN this model on a down-stream task to be able to use it for predictions and inference.\n"
     ]
    }
   ],
   "source": [
    "model = BertForSequenceClassification.from_pretrained(\"nlpaueb/legal-bert-base-uncased\", num_labels=4)"
   ]
  },
  {
   "cell_type": "code",
   "execution_count": 16,
   "metadata": {},
   "outputs": [],
   "source": [
    "# Step 0: Create a custom callback to store losses\n",
    "class LossesCallback(TrainerCallback):\n",
    "    def __init__(self):\n",
    "        self.train_losses = []\n",
    "        self.dev_losses = []\n",
    "\n",
    "    def on_log(self, args, state, control, logs=None, **kwargs):\n",
    "        if logs is not None:\n",
    "            if 'loss' in logs:  # Capture training loss\n",
    "                self.train_losses.append(logs['loss'])\n",
    "            if 'eval_loss' in logs:  # Capture development loss\n",
    "                self.dev_losses.append(logs['eval_loss'])\n",
    "\n",
    "# Step 1: Instantiate the custom callback\n",
    "losses_callback = LossesCallback()"
   ]
  },
  {
   "cell_type": "code",
   "execution_count": 17,
   "metadata": {},
   "outputs": [],
   "source": [
    "# Step 2: Modify TrainingArguments to log losses during training\n",
    "training_args = TrainingArguments(\n",
    "    output_dir='./results',\n",
    "    eval_strategy=\"epoch\",  # Evaluate after each epoch\n",
    "    save_strategy=\"epoch\",  # Save model at each epoch\n",
    "    save_total_limit=2,  # Keep last 2 checkpoints\n",
    "    learning_rate=5e-5,\n",
    "    per_device_train_batch_size=2,\n",
    "    per_device_eval_batch_size=2,\n",
    "    num_train_epochs=6,\n",
    "    weight_decay=0.01,\n",
    "    logging_dir='./logs',\n",
    "    logging_steps=10,  # Log every 10 steps\n",
    "    report_to=\"tensorboard\",  # Optional: To use TensorBoard for more advanced plotting\n",
    ")\n",
    "\n",
    "# Step 3: Create Trainer with the custom callback\n",
    "trainer = Trainer(\n",
    "    model=model,\n",
    "    args=training_args,\n",
    "    train_dataset=train_sample,\n",
    "    eval_dataset=dev_sample,\n",
    "    compute_metrics=compute_metrics,\n",
    "    callbacks=[losses_callback]  # Add the callback to store losses\n",
    ")"
   ]
  },
  {
   "cell_type": "code",
   "execution_count": 18,
   "metadata": {},
   "outputs": [
    {
     "data": {
      "text/html": [
       "\n",
       "    <div>\n",
       "      \n",
       "      <progress value='2190' max='2190' style='width:300px; height:20px; vertical-align: middle;'></progress>\n",
       "      [2190/2190 41:43, Epoch 6/6]\n",
       "    </div>\n",
       "    <table border=\"1\" class=\"dataframe\">\n",
       "  <thead>\n",
       " <tr style=\"text-align: left;\">\n",
       "      <th>Epoch</th>\n",
       "      <th>Training Loss</th>\n",
       "      <th>Validation Loss</th>\n",
       "      <th>Accuracy</th>\n",
       "      <th>Precision</th>\n",
       "      <th>Recall</th>\n",
       "      <th>F1</th>\n",
       "    </tr>\n",
       "  </thead>\n",
       "  <tbody>\n",
       "    <tr>\n",
       "      <td>1</td>\n",
       "      <td>0.908000</td>\n",
       "      <td>0.915159</td>\n",
       "      <td>0.542636</td>\n",
       "      <td>0.829101</td>\n",
       "      <td>0.542636</td>\n",
       "      <td>0.538690</td>\n",
       "    </tr>\n",
       "    <tr>\n",
       "      <td>2</td>\n",
       "      <td>0.443000</td>\n",
       "      <td>0.814131</td>\n",
       "      <td>0.767442</td>\n",
       "      <td>0.779382</td>\n",
       "      <td>0.767442</td>\n",
       "      <td>0.767455</td>\n",
       "    </tr>\n",
       "    <tr>\n",
       "      <td>3</td>\n",
       "      <td>0.258600</td>\n",
       "      <td>0.833053</td>\n",
       "      <td>0.821705</td>\n",
       "      <td>0.846396</td>\n",
       "      <td>0.821705</td>\n",
       "      <td>0.824813</td>\n",
       "    </tr>\n",
       "    <tr>\n",
       "      <td>4</td>\n",
       "      <td>0.965100</td>\n",
       "      <td>0.663288</td>\n",
       "      <td>0.883721</td>\n",
       "      <td>0.886403</td>\n",
       "      <td>0.883721</td>\n",
       "      <td>0.884801</td>\n",
       "    </tr>\n",
       "    <tr>\n",
       "      <td>5</td>\n",
       "      <td>0.513300</td>\n",
       "      <td>0.665511</td>\n",
       "      <td>0.899225</td>\n",
       "      <td>0.902903</td>\n",
       "      <td>0.899225</td>\n",
       "      <td>0.900078</td>\n",
       "    </tr>\n",
       "    <tr>\n",
       "      <td>6</td>\n",
       "      <td>0.327500</td>\n",
       "      <td>0.711000</td>\n",
       "      <td>0.899225</td>\n",
       "      <td>0.904621</td>\n",
       "      <td>0.899225</td>\n",
       "      <td>0.900684</td>\n",
       "    </tr>\n",
       "  </tbody>\n",
       "</table><p>"
      ],
      "text/plain": [
       "<IPython.core.display.HTML object>"
      ]
     },
     "metadata": {},
     "output_type": "display_data"
    },
    {
     "data": {
      "text/plain": [
       "TrainOutput(global_step=2190, training_loss=0.5158075913459437, metrics={'train_runtime': 2506.3152, 'train_samples_per_second': 1.748, 'train_steps_per_second': 0.874, 'total_flos': 1152447116820480.0, 'train_loss': 0.5158075913459437, 'epoch': 6.0})"
      ]
     },
     "execution_count": 18,
     "metadata": {},
     "output_type": "execute_result"
    }
   ],
   "source": [
    "# Step 4: Train the model\n",
    "trainer.train()"
   ]
  },
  {
   "cell_type": "code",
   "execution_count": 22,
   "metadata": {},
   "outputs": [
    {
     "data": {
      "text/plain": [
       "[1.3368, 1.1752, 1.152, 1.1448, 1.0406, 1.1259]"
      ]
     },
     "execution_count": 22,
     "metadata": {},
     "output_type": "execute_result"
    }
   ],
   "source": [
    "losses_callback.train_losses[:min_len]"
   ]
  },
  {
   "cell_type": "code",
   "execution_count": 19,
   "metadata": {},
   "outputs": [
    {
     "data": {
      "image/png": "[encoded data removed]",
      "text/plain": [
       "<Figure size 720x432 with 1 Axes>"
      ]
     },
     "metadata": {
      "needs_background": "light"
     },
     "output_type": "display_data"
    }
   ],
   "source": [
    "# Step 5: Plot the training and development losses\n",
    "epochs = list(range(1, len(losses_callback.train_losses) + 1))  # Create an array for epochs (assuming one log per epoch)\n",
    "\n",
    "# Ensure both training and development losses are the same length\n",
    "min_len = min(len(losses_callback.train_losses), len(losses_callback.dev_losses))\n",
    "\n",
    "plt.figure(figsize=(10, 6))\n",
    "plt.plot(epochs[:min_len], losses_callback.train_losses[:min_len], label=\"Training Loss\", marker='o', linestyle='-', color='b')\n",
    "plt.plot(epochs[:min_len], losses_callback.dev_losses[:min_len], label=\"Development Loss\", marker='o', linestyle='--', color='r')\n",
    "plt.xlabel(\"Epochs\")\n",
    "plt.ylabel(\"Loss\")\n",
    "plt.title(\"Training and Development Loss per Epoch\")\n",
    "plt.legend()\n",
    "plt.grid(True)\n",
    "plt.show()"
   ]
  },
  {
   "cell_type": "code",
   "execution_count": null,
   "metadata": {},
   "outputs": [],
   "source": [
    "# Evaluate on the train set\n",
    "train_results = trainer.evaluate(train_data)\n",
    "# Print loss and accuracy\n",
    "print(f\"Train Loss: {train_results['eval_loss']:.4f}\")\n",
    "print(f\"Train Accuracy: {train_results['eval_accuracy']:.4f}\")  # Accuracy from compute_metrics\n",
    "# Evaluate on the dev set\n",
    "dev_results = trainer.evaluate(dev_data)\n",
    "# Print loss and accuracy\n",
    "print(f\"Dev Loss: {dev_results['eval_loss']:.4f}\")\n",
    "print(f\"Dev Accuracy: {dev_results['eval_accuracy']:.4f}\")  # Accuracy from compute_metrics"
   ]
  },
  {
   "cell_type": "code",
   "execution_count": 20,
   "metadata": {},
   "outputs": [
    {
     "data": {
      "text/html": [
       "\n",
       "    <div>\n",
       "      \n",
       "      <progress value='73' max='73' style='width:300px; height:20px; vertical-align: middle;'></progress>\n",
       "      [73/73 00:17]\n",
       "    </div>\n",
       "    "
      ],
      "text/plain": [
       "<IPython.core.display.HTML object>"
      ]
     },
     "metadata": {},
     "output_type": "display_data"
    },
    {
     "name": "stdout",
     "output_type": "stream",
     "text": [
      "Test Loss: 1.3199\n",
      "Test Accuracy: 0.8151\n"
     ]
    }
   ],
   "source": [
    "# Evaluate on the test set\n",
    "test_results = trainer.evaluate(test_data)\n",
    "\n",
    "# Print loss and accuracy\n",
    "print(f\"Test Loss: {test_results['eval_loss']:.4f}\")\n",
    "print(f\"Test Accuracy: {test_results['eval_accuracy']:.4f}\")  # Accuracy from compute_metrics"
   ]
  }
 ],
 "metadata": {
  "kernelspec": {
   "display_name": "Python 3",
   "language": "python",
   "name": "python3"
  },
  "language_info": {
   "codemirror_mode": {
    "name": "ipython",
    "version": 3
   },
   "file_extension": ".py",
   "mimetype": "text/x-python",
   "name": "python",
   "nbconvert_exporter": "python",
   "pygments_lexer": "ipython3",
   "version": "3.9.12"
  },
  "orig_nbformat": 4
 },
 "nbformat": 4,
 "nbformat_minor": 2
}
